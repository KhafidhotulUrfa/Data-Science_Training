{
  "nbformat": 4,
  "nbformat_minor": 0,
  "metadata": {
    "colab": {
      "provenance": [],
      "gpuType": "T4",
      "include_colab_link": true
    },
    "kernelspec": {
      "name": "python3",
      "display_name": "Python 3"
    },
    "language_info": {
      "name": "python"
    },
    "gpuClass": "standard"
  },
  "cells": [
    {
      "cell_type": "markdown",
      "metadata": {
        "id": "view-in-github",
        "colab_type": "text"
      },
      "source": [
        "<a href=\"https://colab.research.google.com/github/urfa10/MSIB_Data-Science/blob/main/MSIB_StudiCase_CreditRisk_.ipynb\" target=\"_parent\"><img src=\"https://colab.research.google.com/assets/colab-badge.svg\" alt=\"Open In Colab\"/></a>"
      ]
    },
    {
      "cell_type": "markdown",
      "source": [
        "## Business Understanding\n",
        "Salah satu bank terkemuka ingin memprediksi nasabah yang terindikasi kredit macet saat mengajukan pinjaman. Pemberi pinjaman biasanya membuat dua jenis keputusan:\n",
        "1. pertama, apakah akan memberikan kredit kepada pemohon baru, dan\n",
        "2. kedua, bagaimana menangani pemohon yang sudah ada, termasuk apakah akan meningkatkan batas kredit mereka.\n",
        "\n",
        "<br> Dalam kedua kasus, apa pun teknik yang digunakan, sangat penting bahwa ada sampel besar pelanggan sebelumnya dengan detail aplikasi, pola perilaku, dan riwayat kredit berikutnya yang tersedia. Sebagian besar teknik menggunakan sampel ini untuk mengidentifikasi hubungan antara karakteristik konsumen (pendapatan tahunan, usia, jumlah tahun bekerja dengan pemberi kerja saat ini, dll.) Dan riwayat mereka selanjutnya. Area aplikasi khas di pasar konsumen meliputi: kartu kredit, pinjaman mobil, hipotek rumah, pinjaman ekuitas rumah, pesanan katalog surat, dan berbagai macam produk pinjaman pribadi.\n",
        "\n",
        "Objectives:\n",
        "1. Prediktive pengajuan nasabah kartu kredit yang baru akan gagal bayar atau tidak\n",
        "## Prediktif Analytic untuk menininalisir agka resiko Nasabah Baru yang\n",
        "Berpotensi Gagal Bayar pada Pengajuan Kartu Kredit menggunakan pendekatan\n",
        "sains data\n",
        "\n",
        "Case : Klasifikasi —> Supervised Learning\n",
        "\n",
        "Kenungkinan Algoritma yang akan dipergunakan:\n",
        "\n",
        "1. Decisiontree I\n",
        "\n",
        "2. RandonForrest\n",
        "\n",
        "3. Logistic Regression\n",
        "\n",
        "4. SUM (Support Vector Machine)\n",
        "\n",
        "5. XGBOOST classifier\n",
        "\n",
        "Objective 2: Prediktive Kenaikan angka kredit pada nasabah yg sudah ada\n",
        "##Implenentasi nesin learning untuk Prediktive sebagai langkah optimalisasi\n",
        "nilai kredit pada OLD Nasabah bank XX.\n",
        "\n",
        "Case : Estinasi\n",
        "Kenungkinan Algoritma yang dipergunakar\n",
        "1. Liner Regression\n",
        "2. AN (Artificial Neural Netvord\n",
        "Prediktif Analytic untuk meminimalisir agka resiko Nasabah\n",
        "Baru yang Berpotensi Gagal Bayar pada Pengajuan Kartu Kredit\n",
        "menggunakan pendekatan sains data\n",
        "\n",
        "Case: Kiasifikasi -> Supervised Learning\n",
        "Kemungkinan Algoritma yang akan dipergunakan:\n",
        "Decisiontree\n",
        "RandomForrest\n",
        "Logistic Regression\n",
        "SVM (Support Vector Machine)\n",
        "XGBOOST classifier\n",
        "EAPO\n",
        "Objective 2: Prediktive Kenaikan angka kredit pada nasabah yg sudah ada\n",
        "Implementasi mesin learning untuk Prediktive sebagai langkah\n",
        "optimalisasi nilai kredit pada OLD Nasabah bank XX.\n",
        "[R—\n",
        "Kemungkinan Algoritma yang dipergunakan:\n",
        "1. Linier Regression"
      ],
      "metadata": {
        "id": "p15yt4wchjZJ"
      }
    },
    {
      "cell_type": "code",
      "source": [
        "#library\n",
        "import pandas as pd\n",
        "import numpy as np\n",
        "import matplotlib.pyplot as plt\n",
        "import seaborn as sns"
      ],
      "metadata": {
        "id": "UbmvIgQmh3Q1"
      },
      "execution_count": null,
      "outputs": []
    },
    {
      "cell_type": "markdown",
      "source": [
        "##Data Understanding"
      ],
      "metadata": {
        "id": "PTvC3Kh5nXug"
      }
    },
    {
      "cell_type": "code",
      "source": [
        "#import data\n",
        "from google.colab import drive\n",
        "drive.mount('/content/drive')"
      ],
      "metadata": {
        "colab": {
          "base_uri": "https://localhost:8080/"
        },
        "id": "0XJ79On0nZW2",
        "outputId": "8bc71d55-c061-42b5-b98b-acceb18cd689"
      },
      "execution_count": null,
      "outputs": [
        {
          "output_type": "stream",
          "name": "stdout",
          "text": [
            "Mounted at /content/drive\n"
          ]
        }
      ]
    },
    {
      "cell_type": "code",
      "source": [
        "path='/content/drive/MyDrive/Colab Notebooks/DataSource/credit_risk_1.csv'\n",
        "load_data_cr = pd.read_csv(path)\n",
        "load_data_cr"
      ],
      "metadata": {
        "colab": {
          "base_uri": "https://localhost:8080/",
          "height": 505
        },
        "id": "nAQa8s5uneaf",
        "outputId": "f6a24244-0327-4387-aeec-5711e28beb04"
      },
      "execution_count": null,
      "outputs": [
        {
          "output_type": "execute_result",
          "data": {
            "text/plain": [
              "     Unnamed: 0  age  ed  employ  address  income  debtinc   creddebt  \\\n",
              "0             0   41   3      17       12     176      9.3  11.359392   \n",
              "1             1   27   1      10        6      31     17.3   1.362202   \n",
              "2             2   40   1      15       14      55      5.5   0.856075   \n",
              "3             3   41   1      15       14     120      2.9   2.658720   \n",
              "4             4   24   2       2        0      28     17.3   1.787436   \n",
              "..          ...  ...  ..     ...      ...     ...      ...        ...   \n",
              "695         695   36   2       6       15      27      4.6   0.262062   \n",
              "696         696   29   2       6        4      21     11.5   0.369495   \n",
              "697         697   33   1      15        3      32      7.6   0.491264   \n",
              "698         698   45   1      19       22      77      8.4   2.302608   \n",
              "699         699   37   1      12       14      44     14.7   2.994684   \n",
              "\n",
              "      othdebt  default  \n",
              "0    5.008608      1.0  \n",
              "1    4.000798      0.0  \n",
              "2    2.168925      0.0  \n",
              "3    0.821280      0.0  \n",
              "4    3.056564      1.0  \n",
              "..        ...      ...  \n",
              "695  0.979938      1.0  \n",
              "696  2.045505      0.0  \n",
              "697  1.940736      0.0  \n",
              "698  4.165392      0.0  \n",
              "699  3.473316      0.0  \n",
              "\n",
              "[700 rows x 10 columns]"
            ],
            "text/html": [
              "\n",
              "  <div id=\"df-926d05a5-92eb-4958-9176-282aabccde28\">\n",
              "    <div class=\"colab-df-container\">\n",
              "      <div>\n",
              "<style scoped>\n",
              "    .dataframe tbody tr th:only-of-type {\n",
              "        vertical-align: middle;\n",
              "    }\n",
              "\n",
              "    .dataframe tbody tr th {\n",
              "        vertical-align: top;\n",
              "    }\n",
              "\n",
              "    .dataframe thead th {\n",
              "        text-align: right;\n",
              "    }\n",
              "</style>\n",
              "<table border=\"1\" class=\"dataframe\">\n",
              "  <thead>\n",
              "    <tr style=\"text-align: right;\">\n",
              "      <th></th>\n",
              "      <th>Unnamed: 0</th>\n",
              "      <th>age</th>\n",
              "      <th>ed</th>\n",
              "      <th>employ</th>\n",
              "      <th>address</th>\n",
              "      <th>income</th>\n",
              "      <th>debtinc</th>\n",
              "      <th>creddebt</th>\n",
              "      <th>othdebt</th>\n",
              "      <th>default</th>\n",
              "    </tr>\n",
              "  </thead>\n",
              "  <tbody>\n",
              "    <tr>\n",
              "      <th>0</th>\n",
              "      <td>0</td>\n",
              "      <td>41</td>\n",
              "      <td>3</td>\n",
              "      <td>17</td>\n",
              "      <td>12</td>\n",
              "      <td>176</td>\n",
              "      <td>9.3</td>\n",
              "      <td>11.359392</td>\n",
              "      <td>5.008608</td>\n",
              "      <td>1.0</td>\n",
              "    </tr>\n",
              "    <tr>\n",
              "      <th>1</th>\n",
              "      <td>1</td>\n",
              "      <td>27</td>\n",
              "      <td>1</td>\n",
              "      <td>10</td>\n",
              "      <td>6</td>\n",
              "      <td>31</td>\n",
              "      <td>17.3</td>\n",
              "      <td>1.362202</td>\n",
              "      <td>4.000798</td>\n",
              "      <td>0.0</td>\n",
              "    </tr>\n",
              "    <tr>\n",
              "      <th>2</th>\n",
              "      <td>2</td>\n",
              "      <td>40</td>\n",
              "      <td>1</td>\n",
              "      <td>15</td>\n",
              "      <td>14</td>\n",
              "      <td>55</td>\n",
              "      <td>5.5</td>\n",
              "      <td>0.856075</td>\n",
              "      <td>2.168925</td>\n",
              "      <td>0.0</td>\n",
              "    </tr>\n",
              "    <tr>\n",
              "      <th>3</th>\n",
              "      <td>3</td>\n",
              "      <td>41</td>\n",
              "      <td>1</td>\n",
              "      <td>15</td>\n",
              "      <td>14</td>\n",
              "      <td>120</td>\n",
              "      <td>2.9</td>\n",
              "      <td>2.658720</td>\n",
              "      <td>0.821280</td>\n",
              "      <td>0.0</td>\n",
              "    </tr>\n",
              "    <tr>\n",
              "      <th>4</th>\n",
              "      <td>4</td>\n",
              "      <td>24</td>\n",
              "      <td>2</td>\n",
              "      <td>2</td>\n",
              "      <td>0</td>\n",
              "      <td>28</td>\n",
              "      <td>17.3</td>\n",
              "      <td>1.787436</td>\n",
              "      <td>3.056564</td>\n",
              "      <td>1.0</td>\n",
              "    </tr>\n",
              "    <tr>\n",
              "      <th>...</th>\n",
              "      <td>...</td>\n",
              "      <td>...</td>\n",
              "      <td>...</td>\n",
              "      <td>...</td>\n",
              "      <td>...</td>\n",
              "      <td>...</td>\n",
              "      <td>...</td>\n",
              "      <td>...</td>\n",
              "      <td>...</td>\n",
              "      <td>...</td>\n",
              "    </tr>\n",
              "    <tr>\n",
              "      <th>695</th>\n",
              "      <td>695</td>\n",
              "      <td>36</td>\n",
              "      <td>2</td>\n",
              "      <td>6</td>\n",
              "      <td>15</td>\n",
              "      <td>27</td>\n",
              "      <td>4.6</td>\n",
              "      <td>0.262062</td>\n",
              "      <td>0.979938</td>\n",
              "      <td>1.0</td>\n",
              "    </tr>\n",
              "    <tr>\n",
              "      <th>696</th>\n",
              "      <td>696</td>\n",
              "      <td>29</td>\n",
              "      <td>2</td>\n",
              "      <td>6</td>\n",
              "      <td>4</td>\n",
              "      <td>21</td>\n",
              "      <td>11.5</td>\n",
              "      <td>0.369495</td>\n",
              "      <td>2.045505</td>\n",
              "      <td>0.0</td>\n",
              "    </tr>\n",
              "    <tr>\n",
              "      <th>697</th>\n",
              "      <td>697</td>\n",
              "      <td>33</td>\n",
              "      <td>1</td>\n",
              "      <td>15</td>\n",
              "      <td>3</td>\n",
              "      <td>32</td>\n",
              "      <td>7.6</td>\n",
              "      <td>0.491264</td>\n",
              "      <td>1.940736</td>\n",
              "      <td>0.0</td>\n",
              "    </tr>\n",
              "    <tr>\n",
              "      <th>698</th>\n",
              "      <td>698</td>\n",
              "      <td>45</td>\n",
              "      <td>1</td>\n",
              "      <td>19</td>\n",
              "      <td>22</td>\n",
              "      <td>77</td>\n",
              "      <td>8.4</td>\n",
              "      <td>2.302608</td>\n",
              "      <td>4.165392</td>\n",
              "      <td>0.0</td>\n",
              "    </tr>\n",
              "    <tr>\n",
              "      <th>699</th>\n",
              "      <td>699</td>\n",
              "      <td>37</td>\n",
              "      <td>1</td>\n",
              "      <td>12</td>\n",
              "      <td>14</td>\n",
              "      <td>44</td>\n",
              "      <td>14.7</td>\n",
              "      <td>2.994684</td>\n",
              "      <td>3.473316</td>\n",
              "      <td>0.0</td>\n",
              "    </tr>\n",
              "  </tbody>\n",
              "</table>\n",
              "<p>700 rows × 10 columns</p>\n",
              "</div>\n",
              "      <button class=\"colab-df-convert\" onclick=\"convertToInteractive('df-926d05a5-92eb-4958-9176-282aabccde28')\"\n",
              "              title=\"Convert this dataframe to an interactive table.\"\n",
              "              style=\"display:none;\">\n",
              "        \n",
              "  <svg xmlns=\"http://www.w3.org/2000/svg\" height=\"24px\"viewBox=\"0 0 24 24\"\n",
              "       width=\"24px\">\n",
              "    <path d=\"M0 0h24v24H0V0z\" fill=\"none\"/>\n",
              "    <path d=\"M18.56 5.44l.94 2.06.94-2.06 2.06-.94-2.06-.94-.94-2.06-.94 2.06-2.06.94zm-11 1L8.5 8.5l.94-2.06 2.06-.94-2.06-.94L8.5 2.5l-.94 2.06-2.06.94zm10 10l.94 2.06.94-2.06 2.06-.94-2.06-.94-.94-2.06-.94 2.06-2.06.94z\"/><path d=\"M17.41 7.96l-1.37-1.37c-.4-.4-.92-.59-1.43-.59-.52 0-1.04.2-1.43.59L10.3 9.45l-7.72 7.72c-.78.78-.78 2.05 0 2.83L4 21.41c.39.39.9.59 1.41.59.51 0 1.02-.2 1.41-.59l7.78-7.78 2.81-2.81c.8-.78.8-2.07 0-2.86zM5.41 20L4 18.59l7.72-7.72 1.47 1.35L5.41 20z\"/>\n",
              "  </svg>\n",
              "      </button>\n",
              "      \n",
              "  <style>\n",
              "    .colab-df-container {\n",
              "      display:flex;\n",
              "      flex-wrap:wrap;\n",
              "      gap: 12px;\n",
              "    }\n",
              "\n",
              "    .colab-df-convert {\n",
              "      background-color: #E8F0FE;\n",
              "      border: none;\n",
              "      border-radius: 50%;\n",
              "      cursor: pointer;\n",
              "      display: none;\n",
              "      fill: #1967D2;\n",
              "      height: 32px;\n",
              "      padding: 0 0 0 0;\n",
              "      width: 32px;\n",
              "    }\n",
              "\n",
              "    .colab-df-convert:hover {\n",
              "      background-color: #E2EBFA;\n",
              "      box-shadow: 0px 1px 2px rgba(60, 64, 67, 0.3), 0px 1px 3px 1px rgba(60, 64, 67, 0.15);\n",
              "      fill: #174EA6;\n",
              "    }\n",
              "\n",
              "    [theme=dark] .colab-df-convert {\n",
              "      background-color: #3B4455;\n",
              "      fill: #D2E3FC;\n",
              "    }\n",
              "\n",
              "    [theme=dark] .colab-df-convert:hover {\n",
              "      background-color: #434B5C;\n",
              "      box-shadow: 0px 1px 3px 1px rgba(0, 0, 0, 0.15);\n",
              "      filter: drop-shadow(0px 1px 2px rgba(0, 0, 0, 0.3));\n",
              "      fill: #FFFFFF;\n",
              "    }\n",
              "  </style>\n",
              "\n",
              "      <script>\n",
              "        const buttonEl =\n",
              "          document.querySelector('#df-926d05a5-92eb-4958-9176-282aabccde28 button.colab-df-convert');\n",
              "        buttonEl.style.display =\n",
              "          google.colab.kernel.accessAllowed ? 'block' : 'none';\n",
              "\n",
              "        async function convertToInteractive(key) {\n",
              "          const element = document.querySelector('#df-926d05a5-92eb-4958-9176-282aabccde28');\n",
              "          const dataTable =\n",
              "            await google.colab.kernel.invokeFunction('convertToInteractive',\n",
              "                                                     [key], {});\n",
              "          if (!dataTable) return;\n",
              "\n",
              "          const docLinkHtml = 'Like what you see? Visit the ' +\n",
              "            '<a target=\"_blank\" href=https://colab.research.google.com/notebooks/data_table.ipynb>data table notebook</a>'\n",
              "            + ' to learn more about interactive tables.';\n",
              "          element.innerHTML = '';\n",
              "          dataTable['output_type'] = 'display_data';\n",
              "          await google.colab.output.renderOutput(dataTable, element);\n",
              "          const docLink = document.createElement('div');\n",
              "          docLink.innerHTML = docLinkHtml;\n",
              "          element.appendChild(docLink);\n",
              "        }\n",
              "      </script>\n",
              "    </div>\n",
              "  </div>\n",
              "  "
            ]
          },
          "metadata": {},
          "execution_count": 3
        }
      ]
    },
    {
      "cell_type": "code",
      "source": [
        "#membuat data frame, data frame memungkinkan source kita tidak mondar mandir dari colab ke drive sehingga lebih ringan\n",
        "df = pd.DataFrame(load_data_cr)\n",
        "df.head()"
      ],
      "metadata": {
        "colab": {
          "base_uri": "https://localhost:8080/",
          "height": 267
        },
        "id": "IYtCLHtzoLB3",
        "outputId": "b45171df-9097-4ae5-aa92-ea5c7eed8cbe"
      },
      "execution_count": null,
      "outputs": [
        {
          "output_type": "execute_result",
          "data": {
            "text/plain": [
              "   Unnamed: 0  age  ed  employ  address  income  debtinc   creddebt   othdebt  \\\n",
              "0           0   41   3      17       12     176      9.3  11.359392  5.008608   \n",
              "1           1   27   1      10        6      31     17.3   1.362202  4.000798   \n",
              "2           2   40   1      15       14      55      5.5   0.856075  2.168925   \n",
              "3           3   41   1      15       14     120      2.9   2.658720  0.821280   \n",
              "4           4   24   2       2        0      28     17.3   1.787436  3.056564   \n",
              "\n",
              "   default  \n",
              "0      1.0  \n",
              "1      0.0  \n",
              "2      0.0  \n",
              "3      0.0  \n",
              "4      1.0  "
            ],
            "text/html": [
              "\n",
              "  <div id=\"df-a2fa6b03-a4bd-43c9-b96c-d2e2e753b354\">\n",
              "    <div class=\"colab-df-container\">\n",
              "      <div>\n",
              "<style scoped>\n",
              "    .dataframe tbody tr th:only-of-type {\n",
              "        vertical-align: middle;\n",
              "    }\n",
              "\n",
              "    .dataframe tbody tr th {\n",
              "        vertical-align: top;\n",
              "    }\n",
              "\n",
              "    .dataframe thead th {\n",
              "        text-align: right;\n",
              "    }\n",
              "</style>\n",
              "<table border=\"1\" class=\"dataframe\">\n",
              "  <thead>\n",
              "    <tr style=\"text-align: right;\">\n",
              "      <th></th>\n",
              "      <th>Unnamed: 0</th>\n",
              "      <th>age</th>\n",
              "      <th>ed</th>\n",
              "      <th>employ</th>\n",
              "      <th>address</th>\n",
              "      <th>income</th>\n",
              "      <th>debtinc</th>\n",
              "      <th>creddebt</th>\n",
              "      <th>othdebt</th>\n",
              "      <th>default</th>\n",
              "    </tr>\n",
              "  </thead>\n",
              "  <tbody>\n",
              "    <tr>\n",
              "      <th>0</th>\n",
              "      <td>0</td>\n",
              "      <td>41</td>\n",
              "      <td>3</td>\n",
              "      <td>17</td>\n",
              "      <td>12</td>\n",
              "      <td>176</td>\n",
              "      <td>9.3</td>\n",
              "      <td>11.359392</td>\n",
              "      <td>5.008608</td>\n",
              "      <td>1.0</td>\n",
              "    </tr>\n",
              "    <tr>\n",
              "      <th>1</th>\n",
              "      <td>1</td>\n",
              "      <td>27</td>\n",
              "      <td>1</td>\n",
              "      <td>10</td>\n",
              "      <td>6</td>\n",
              "      <td>31</td>\n",
              "      <td>17.3</td>\n",
              "      <td>1.362202</td>\n",
              "      <td>4.000798</td>\n",
              "      <td>0.0</td>\n",
              "    </tr>\n",
              "    <tr>\n",
              "      <th>2</th>\n",
              "      <td>2</td>\n",
              "      <td>40</td>\n",
              "      <td>1</td>\n",
              "      <td>15</td>\n",
              "      <td>14</td>\n",
              "      <td>55</td>\n",
              "      <td>5.5</td>\n",
              "      <td>0.856075</td>\n",
              "      <td>2.168925</td>\n",
              "      <td>0.0</td>\n",
              "    </tr>\n",
              "    <tr>\n",
              "      <th>3</th>\n",
              "      <td>3</td>\n",
              "      <td>41</td>\n",
              "      <td>1</td>\n",
              "      <td>15</td>\n",
              "      <td>14</td>\n",
              "      <td>120</td>\n",
              "      <td>2.9</td>\n",
              "      <td>2.658720</td>\n",
              "      <td>0.821280</td>\n",
              "      <td>0.0</td>\n",
              "    </tr>\n",
              "    <tr>\n",
              "      <th>4</th>\n",
              "      <td>4</td>\n",
              "      <td>24</td>\n",
              "      <td>2</td>\n",
              "      <td>2</td>\n",
              "      <td>0</td>\n",
              "      <td>28</td>\n",
              "      <td>17.3</td>\n",
              "      <td>1.787436</td>\n",
              "      <td>3.056564</td>\n",
              "      <td>1.0</td>\n",
              "    </tr>\n",
              "  </tbody>\n",
              "</table>\n",
              "</div>\n",
              "      <button class=\"colab-df-convert\" onclick=\"convertToInteractive('df-a2fa6b03-a4bd-43c9-b96c-d2e2e753b354')\"\n",
              "              title=\"Convert this dataframe to an interactive table.\"\n",
              "              style=\"display:none;\">\n",
              "        \n",
              "  <svg xmlns=\"http://www.w3.org/2000/svg\" height=\"24px\"viewBox=\"0 0 24 24\"\n",
              "       width=\"24px\">\n",
              "    <path d=\"M0 0h24v24H0V0z\" fill=\"none\"/>\n",
              "    <path d=\"M18.56 5.44l.94 2.06.94-2.06 2.06-.94-2.06-.94-.94-2.06-.94 2.06-2.06.94zm-11 1L8.5 8.5l.94-2.06 2.06-.94-2.06-.94L8.5 2.5l-.94 2.06-2.06.94zm10 10l.94 2.06.94-2.06 2.06-.94-2.06-.94-.94-2.06-.94 2.06-2.06.94z\"/><path d=\"M17.41 7.96l-1.37-1.37c-.4-.4-.92-.59-1.43-.59-.52 0-1.04.2-1.43.59L10.3 9.45l-7.72 7.72c-.78.78-.78 2.05 0 2.83L4 21.41c.39.39.9.59 1.41.59.51 0 1.02-.2 1.41-.59l7.78-7.78 2.81-2.81c.8-.78.8-2.07 0-2.86zM5.41 20L4 18.59l7.72-7.72 1.47 1.35L5.41 20z\"/>\n",
              "  </svg>\n",
              "      </button>\n",
              "      \n",
              "  <style>\n",
              "    .colab-df-container {\n",
              "      display:flex;\n",
              "      flex-wrap:wrap;\n",
              "      gap: 12px;\n",
              "    }\n",
              "\n",
              "    .colab-df-convert {\n",
              "      background-color: #E8F0FE;\n",
              "      border: none;\n",
              "      border-radius: 50%;\n",
              "      cursor: pointer;\n",
              "      display: none;\n",
              "      fill: #1967D2;\n",
              "      height: 32px;\n",
              "      padding: 0 0 0 0;\n",
              "      width: 32px;\n",
              "    }\n",
              "\n",
              "    .colab-df-convert:hover {\n",
              "      background-color: #E2EBFA;\n",
              "      box-shadow: 0px 1px 2px rgba(60, 64, 67, 0.3), 0px 1px 3px 1px rgba(60, 64, 67, 0.15);\n",
              "      fill: #174EA6;\n",
              "    }\n",
              "\n",
              "    [theme=dark] .colab-df-convert {\n",
              "      background-color: #3B4455;\n",
              "      fill: #D2E3FC;\n",
              "    }\n",
              "\n",
              "    [theme=dark] .colab-df-convert:hover {\n",
              "      background-color: #434B5C;\n",
              "      box-shadow: 0px 1px 3px 1px rgba(0, 0, 0, 0.15);\n",
              "      filter: drop-shadow(0px 1px 2px rgba(0, 0, 0, 0.3));\n",
              "      fill: #FFFFFF;\n",
              "    }\n",
              "  </style>\n",
              "\n",
              "      <script>\n",
              "        const buttonEl =\n",
              "          document.querySelector('#df-a2fa6b03-a4bd-43c9-b96c-d2e2e753b354 button.colab-df-convert');\n",
              "        buttonEl.style.display =\n",
              "          google.colab.kernel.accessAllowed ? 'block' : 'none';\n",
              "\n",
              "        async function convertToInteractive(key) {\n",
              "          const element = document.querySelector('#df-a2fa6b03-a4bd-43c9-b96c-d2e2e753b354');\n",
              "          const dataTable =\n",
              "            await google.colab.kernel.invokeFunction('convertToInteractive',\n",
              "                                                     [key], {});\n",
              "          if (!dataTable) return;\n",
              "\n",
              "          const docLinkHtml = 'Like what you see? Visit the ' +\n",
              "            '<a target=\"_blank\" href=https://colab.research.google.com/notebooks/data_table.ipynb>data table notebook</a>'\n",
              "            + ' to learn more about interactive tables.';\n",
              "          element.innerHTML = '';\n",
              "          dataTable['output_type'] = 'display_data';\n",
              "          await google.colab.output.renderOutput(dataTable, element);\n",
              "          const docLink = document.createElement('div');\n",
              "          docLink.innerHTML = docLinkHtml;\n",
              "          element.appendChild(docLink);\n",
              "        }\n",
              "      </script>\n",
              "    </div>\n",
              "  </div>\n",
              "  "
            ]
          },
          "metadata": {},
          "execution_count": 4
        }
      ]
    },
    {
      "cell_type": "markdown",
      "source": [
        "Data Description There are 9 attributes containing 700 customer records followed by:\n",
        "\n",
        "age: Umur nasabah\n",
        "\n",
        "ed : Level pendidikan nasabah\n",
        "\n",
        "employ : Masa jabatan dengan pemberi kerja saat ini (dalam tahun)\n",
        "\n",
        "address : Jumlah tahun di alamat yang sama\n",
        "\n",
        "income : Pendapatan nasabah\n",
        "\n",
        "debtinc : Debt to income ratio (Rasio hutang terhadap pendapatan) Rasio hutang terhadap pendapatan adalah semua pembayaran hutang bulanan Anda dibagi dengan pendapatan kotor bulanan Anda. Angka ini adalah salah satu cara pemberi pinjaman mengukur kemampuan Anda untuk mengelola pembayaran bulanan untuk melunasi uang yang Anda rencanakan untuk dipinjam. Rasio hutang terhadap pendapatan Anda tidak secara langsung mempengaruhi nilai kredit Anda. Ini karena lembaga kredit tidak tahu berapa banyak uang yang Anda peroleh, sehingga mereka tidak dapat melakukan penghitungan\n",
        "\n",
        "creddebt : Credit to debt ratio (Rasio kredit terhadap utang) Menunjukkan bahwa persentase rasio hutang terhadap kredit yang baik di bawah 30%. Dan itu berlaku untuk rasio Anda pada salah satu kartu Anda secara terpisah serta untuk rasio keseluruhan Anda.\n",
        "\n",
        "othdebt : utang lainnya\n",
        "\n",
        "default : Label pelanggan gagal di masa lalu (1 = gagal , 0 = tidak pernah gagal)"
      ],
      "metadata": {
        "id": "SH6r-1iepu2r"
      }
    },
    {
      "cell_type": "code",
      "source": [
        "df.info()"
      ],
      "metadata": {
        "colab": {
          "base_uri": "https://localhost:8080/"
        },
        "id": "AJfOiSCjoW5D",
        "outputId": "55193485-10d6-463b-8b52-591aa15ce66d"
      },
      "execution_count": null,
      "outputs": [
        {
          "output_type": "stream",
          "name": "stdout",
          "text": [
            "<class 'pandas.core.frame.DataFrame'>\n",
            "RangeIndex: 700 entries, 0 to 699\n",
            "Data columns (total 10 columns):\n",
            " #   Column      Non-Null Count  Dtype  \n",
            "---  ------      --------------  -----  \n",
            " 0   Unnamed: 0  700 non-null    int64  \n",
            " 1   age         700 non-null    int64  \n",
            " 2   ed          700 non-null    int64  \n",
            " 3   employ      700 non-null    int64  \n",
            " 4   address     700 non-null    int64  \n",
            " 5   income      700 non-null    int64  \n",
            " 6   debtinc     700 non-null    float64\n",
            " 7   creddebt    700 non-null    float64\n",
            " 8   othdebt     700 non-null    float64\n",
            " 9   default     700 non-null    float64\n",
            "dtypes: float64(4), int64(6)\n",
            "memory usage: 54.8 KB\n"
          ]
        }
      ]
    },
    {
      "cell_type": "code",
      "source": [
        "#ngcek missing values\n",
        "df.isnull().sum()"
      ],
      "metadata": {
        "colab": {
          "base_uri": "https://localhost:8080/"
        },
        "id": "Dat7tI9apxxX",
        "outputId": "e3dafa55-e35f-437a-c578-72f430e94b15"
      },
      "execution_count": null,
      "outputs": [
        {
          "output_type": "execute_result",
          "data": {
            "text/plain": [
              "Unnamed: 0    0\n",
              "age           0\n",
              "ed            0\n",
              "employ        0\n",
              "address       0\n",
              "income        0\n",
              "debtinc       0\n",
              "creddebt      0\n",
              "othdebt       0\n",
              "default       0\n",
              "dtype: int64"
            ]
          },
          "metadata": {},
          "execution_count": 6
        }
      ]
    },
    {
      "cell_type": "code",
      "source": [],
      "metadata": {
        "id": "kZ9NpbJKsy79"
      },
      "execution_count": null,
      "outputs": []
    },
    {
      "cell_type": "markdown",
      "source": [
        "tipe data semuanya numeric, tapicase nya klassifikasi. sehingga nntipada tahap pemodelan data variabel dependen/variabel target harus diubah ke dlm bentukkategori\n",
        "syarat klasifikasi\n",
        "1. Variabel target --> kategorik\n",
        "2. input variabelbisa kategorik/numerik\n",
        "\n",
        "- variabel target pada kasus diatas = default\n",
        "- variabel input =\n",
        "1. age\n",
        "2. ed\n",
        "3. employ\n",
        "4. address\n",
        "5. income\n",
        "6. debtinc\n",
        "7. creddebt\n",
        "8. othdebt"
      ],
      "metadata": {
        "id": "WaMIWiS4yj3F"
      }
    },
    {
      "cell_type": "code",
      "source": [
        "#melakukan cek valuejumlah kredit berdasarkan gagal atau tidak (1 atau 0)\n",
        "df['default'].value_counts()"
      ],
      "metadata": {
        "colab": {
          "base_uri": "https://localhost:8080/"
        },
        "id": "-SkOyMcIy_vi",
        "outputId": "7d50e047-1123-4c75-f449-3fd29b269cd5"
      },
      "execution_count": null,
      "outputs": [
        {
          "output_type": "execute_result",
          "data": {
            "text/plain": [
              "0.0    517\n",
              "1.0    183\n",
              "Name: default, dtype: int64"
            ]
          },
          "metadata": {},
          "execution_count": 7
        }
      ]
    },
    {
      "cell_type": "code",
      "source": [
        "#melakukan cek valuejumlah kredit berdasarkan gagal atau tidak (1 atau 0)\n",
        "df['ed'].value_counts()"
      ],
      "metadata": {
        "colab": {
          "base_uri": "https://localhost:8080/"
        },
        "id": "ebydCm13Aa-S",
        "outputId": "cc810d8b-0d59-4522-d04e-9e0ba214ec25"
      },
      "execution_count": null,
      "outputs": [
        {
          "output_type": "execute_result",
          "data": {
            "text/plain": [
              "1    372\n",
              "2    198\n",
              "3     87\n",
              "4     38\n",
              "5      5\n",
              "Name: ed, dtype: int64"
            ]
          },
          "metadata": {},
          "execution_count": 8
        }
      ]
    },
    {
      "cell_type": "code",
      "source": [
        "df_data_cr = pd.DataFrame(load_data_cr)"
      ],
      "metadata": {
        "id": "q9twY2nAGZV4"
      },
      "execution_count": null,
      "outputs": []
    },
    {
      "cell_type": "code",
      "source": [
        "#df = df_data_cr[['age', 'ed', 'address', 'income', 'debtinc', 'creddebt', 'othdebt', 'default']]"
      ],
      "metadata": {
        "id": "S7GHbo0uCM_8"
      },
      "execution_count": null,
      "outputs": []
    },
    {
      "cell_type": "code",
      "source": [
        "df_a = df[['age','ed','employ','address','income','debtinc','creddebt','othdebt']]\n"
      ],
      "metadata": {
        "id": "VHj71jRS27-T"
      },
      "execution_count": null,
      "outputs": []
    },
    {
      "cell_type": "code",
      "source": [
        "#menganlisa kondisi data kita, melihat outlier pada data, boxplot\n",
        "sns.boxplot(x='variable', y='value', data=pd.melt(df_a))\n",
        "plt.show()"
      ],
      "metadata": {
        "colab": {
          "base_uri": "https://localhost:8080/",
          "height": 449
        },
        "id": "1rTqFwvb0XcU",
        "outputId": "789d72c2-c934-491b-9b72-b603817e0c34"
      },
      "execution_count": null,
      "outputs": [
        {
          "output_type": "display_data",
          "data": {
            "text/plain": [
              "<Figure size 640x480 with 1 Axes>"
            ],
            "image/png": "[encoded data removed]"
          },
          "metadata": {}
        }
      ]
    },
    {
      "cell_type": "markdown",
      "source": [
        "Variabel income  memiliki nilai yang cenderung tiggi karena income ituadalah uang"
      ],
      "metadata": {
        "id": "vRRHZJ-Q3pLi"
      }
    },
    {
      "cell_type": "code",
      "source": [
        "df_b = df[['age','ed','employ','address','debtinc','creddebt','othdebt']]\n",
        "sns.boxplot(x='variable', y='value', data=pd.melt(df_b))\n",
        "plt.show()"
      ],
      "metadata": {
        "colab": {
          "base_uri": "https://localhost:8080/",
          "height": 449
        },
        "id": "VZowBlfB2mji",
        "outputId": "7ade7131-9ce6-4a0f-ed25-7e4b0d997b6f"
      },
      "execution_count": null,
      "outputs": [
        {
          "output_type": "display_data",
          "data": {
            "text/plain": [
              "<Figure size 640x480 with 1 Axes>"
            ],
            "image/png": "[encoded data removed]"
          },
          "metadata": {}
        }
      ]
    },
    {
      "cell_type": "code",
      "source": [
        "df_c =df[['ed']]\n",
        "sns.boxplot(x='variable', y='value', data=pd.melt(df_c))\n",
        "plt.show()"
      ],
      "metadata": {
        "colab": {
          "base_uri": "https://localhost:8080/",
          "height": 449
        },
        "id": "n2oZFXvs8M2t",
        "outputId": "b5eca55e-f2d0-492f-8166-f3e45f8915d2"
      },
      "execution_count": null,
      "outputs": [
        {
          "output_type": "display_data",
          "data": {
            "text/plain": [
              "<Figure size 640x480 with 1 Axes>"
            ],
            "image/png": "[encoded data removed]"
          },
          "metadata": {}
        }
      ]
    },
    {
      "cell_type": "markdown",
      "source": [
        "1. Calon nasabah kredit di dominasi usia diatas 20\n",
        "\n",
        "2. Tingkat pendidikan calon nasabah ada 5 yaitu SD/SMP/SMA/S1/52. Dimana tingkat pendidikan 1 dan 2 berada pada area boxplot\n",
        "(sebarannya banyak), Sedangkan ED 3-> lebih sedlkit. Makin sedikit level pendidikan maka makin besar peluang pengajuan kreditnya\n",
        "\n",
        "3. Orang mengajukan kredit jika mereka sudah diatas 2 tahun tinggal ditempat yg sama, jabatan yg same, rasio debiic dalam 2 tahun\n",
        "\n",
        "(nilainya sama) .\n",
        "4. Ada banyak calon nasabah kredit memiliki hutang lainnya.\n"
      ],
      "metadata": {
        "id": "gQ1yZfh48NEn"
      }
    },
    {
      "cell_type": "code",
      "source": [
        "scatplot = sns.FacetGrid(df_data_cr, col ='ed', hue = 'default')\n",
        "scatplot.map(plt.scatter, 'age', 'othdebt', alpha =.7)\n",
        "scatplot.add_legend()"
      ],
      "metadata": {
        "colab": {
          "base_uri": "https://localhost:8080/",
          "height": 154
        },
        "id": "3tE0wFOP_wvg",
        "outputId": "19687494-ea95-4283-b0e9-16305a9783e0"
      },
      "execution_count": null,
      "outputs": [
        {
          "output_type": "execute_result",
          "data": {
            "text/plain": [
              "<seaborn.axisgrid.FacetGrid at 0x7faf6c4700d0>"
            ]
          },
          "metadata": {},
          "execution_count": 15
        },
        {
          "output_type": "display_data",
          "data": {
            "text/plain": [
              "<Figure size 1572x300 with 5 Axes>"
            ],
            "image/png": "[encoded data removed]"
          },
          "metadata": {}
        }
      ]
    },
    {
      "cell_type": "markdown",
      "source": [
        "1. Potensi gagal bayar didominasi pada range usia 20 sd 30 pada level ED 1\n",
        "2. Potensi gagal bayar didominasi pada range usia 20 sd 35 pada level ED 2\n",
        "3. Potensi gagal bayar didominasi pada range usia 20 sd 45 pada level ED 3\n",
        "4. Potensi gagal bayar didominasi pada range usia 20 sd 28 pada level ED 4\n",
        "5. Potensi gagal bayar didominasi pada range usia diatas 50 pada level ED 5\n"
      ],
      "metadata": {
        "id": "4lB_3IUNDbKS"
      }
    },
    {
      "cell_type": "code",
      "source": [],
      "metadata": {
        "id": "tcKDBrz-DbpZ"
      },
      "execution_count": null,
      "outputs": []
    },
    {
      "cell_type": "markdown",
      "source": [
        "##Data Preparation\n",
        "### NULL value NAN value"
      ],
      "metadata": {
        "id": "JQ8FmGGDEvkY"
      }
    },
    {
      "cell_type": "code",
      "source": [
        "df.isnull().sum()"
      ],
      "metadata": {
        "colab": {
          "base_uri": "https://localhost:8080/"
        },
        "id": "6LEkUTE4EyoU",
        "outputId": "09f1d4f7-e15e-4ac7-9f61-bea679e0bb39"
      },
      "execution_count": null,
      "outputs": [
        {
          "output_type": "execute_result",
          "data": {
            "text/plain": [
              "Unnamed: 0    0\n",
              "age           0\n",
              "ed            0\n",
              "employ        0\n",
              "address       0\n",
              "income        0\n",
              "debtinc       0\n",
              "creddebt      0\n",
              "othdebt       0\n",
              "default       0\n",
              "dtype: int64"
            ]
          },
          "metadata": {},
          "execution_count": 16
        }
      ]
    },
    {
      "cell_type": "code",
      "source": [
        "df.isna().sum()"
      ],
      "metadata": {
        "colab": {
          "base_uri": "https://localhost:8080/"
        },
        "id": "OrfrP5l0E24k",
        "outputId": "5a1dc1f5-b309-4351-b6d7-64004dc91e84"
      },
      "execution_count": null,
      "outputs": [
        {
          "output_type": "execute_result",
          "data": {
            "text/plain": [
              "Unnamed: 0    0\n",
              "age           0\n",
              "ed            0\n",
              "employ        0\n",
              "address       0\n",
              "income        0\n",
              "debtinc       0\n",
              "creddebt      0\n",
              "othdebt       0\n",
              "default       0\n",
              "dtype: int64"
            ]
          },
          "metadata": {},
          "execution_count": 17
        }
      ]
    },
    {
      "cell_type": "markdown",
      "source": [
        "## Pemodelan Data\n"
      ],
      "metadata": {
        "id": "FHNi3UX-D9BF"
      }
    },
    {
      "cell_type": "code",
      "source": [
        "#split training and testing\n",
        "from sklearn.model_selection import train_test_split # Import train_tes_split function\n",
        "from sklearn import metrics #Import scikit-learn metrics module for accuracy calculation"
      ],
      "metadata": {
        "id": "00qq7B9LD-16"
      },
      "execution_count": null,
      "outputs": []
    },
    {
      "cell_type": "code",
      "source": [
        "#Evaluation Model\n",
        "from sklearn.metrics import accuracy_score\n",
        "from sklearn.metrics import classification_report\n",
        "from sklearn.metrics import precision_score, recall_score\n",
        "from sklearn.metrics import confusion_matrix"
      ],
      "metadata": {
        "id": "yAQMn6KnEFo5"
      },
      "execution_count": null,
      "outputs": []
    },
    {
      "cell_type": "code",
      "source": [
        "#input variabel\n",
        "x=df_a[['age','ed','employ','address','income','debtinc','creddebt','othdebt']]\n",
        "#target var\n",
        "y=df['default'].astype('category')"
      ],
      "metadata": {
        "id": "ZLmcAfMaGlJT"
      },
      "execution_count": null,
      "outputs": []
    },
    {
      "cell_type": "code",
      "source": [
        "#Split testing & training (supervised learning)\n",
        "x_train, x_test, y_train, y_test = train_test_split(x,y,test_size=0.3, random_state=0)\n",
        "#penjelasan\n",
        "#Data training = 70% dan testing 30%"
      ],
      "metadata": {
        "id": "NPQ-ei-sHTjA"
      },
      "execution_count": null,
      "outputs": []
    },
    {
      "cell_type": "markdown",
      "source": [
        "## Pemodelan dengan Decision Tree"
      ],
      "metadata": {
        "id": "k0kmmKptGM7L"
      }
    },
    {
      "cell_type": "code",
      "source": [
        "from sklearn.tree import DecisionTreeClassifier"
      ],
      "metadata": {
        "id": "WI-JsND2ENeV"
      },
      "execution_count": null,
      "outputs": []
    },
    {
      "cell_type": "code",
      "source": [
        "#membuat object algoritma decision tree klasifikasi\n",
        "tree= DecisionTreeClassifier(criterion='gini', splitter='best', max_depth=None)\n",
        "#memodelkan data menggunakan algortima decision tree\n",
        "model_tree=tree.fit(x_train, y_train)\n",
        "#Melakukan prediksi pada data test\n",
        "pred_Tree=model_tree.predict(x_test)"
      ],
      "metadata": {
        "id": "8r2a2Qi2HRcC"
      },
      "execution_count": null,
      "outputs": []
    },
    {
      "cell_type": "markdown",
      "source": [
        "## Evaluasi Decision Tree Klasifikasi"
      ],
      "metadata": {
        "id": "kf7bWLLNJTrj"
      }
    },
    {
      "cell_type": "code",
      "source": [
        "print(classification_report(y_test, pred_Tree))"
      ],
      "metadata": {
        "colab": {
          "base_uri": "https://localhost:8080/"
        },
        "id": "iPKwDJEMJYU6",
        "outputId": "8eb71afd-985b-47f6-bfe4-fac0fd1c81e9"
      },
      "execution_count": null,
      "outputs": [
        {
          "output_type": "stream",
          "name": "stdout",
          "text": [
            "              precision    recall  f1-score   support\n",
            "\n",
            "         0.0       0.81      0.72      0.76       155\n",
            "         1.0       0.40      0.53      0.46        55\n",
            "\n",
            "    accuracy                           0.67       210\n",
            "   macro avg       0.61      0.62      0.61       210\n",
            "weighted avg       0.70      0.67      0.68       210\n",
            "\n"
          ]
        }
      ]
    },
    {
      "cell_type": "markdown",
      "source": [
        "model diatas tidak bisa dipergunakan"
      ],
      "metadata": {
        "id": "0IOcC6L2KKqd"
      }
    },
    {
      "cell_type": "code",
      "source": [
        "# Visualize the confusion matrix of Decision Tree\n",
        "mat = confusion_matrix (y_test, pred_Tree)\n",
        "sns.heatmap(mat.T, square = True, annot = True, fmt = 'd', cbar= False)\n",
        "plt.xlabel('true label')\n",
        "plt.ylabel('predicted label')"
      ],
      "metadata": {
        "colab": {
          "base_uri": "https://localhost:8080/",
          "height": 466
        },
        "id": "lTOJGDBJJrJ6",
        "outputId": "1c802f90-7a75-4131-bb85-dee1a114f767"
      },
      "execution_count": null,
      "outputs": [
        {
          "output_type": "execute_result",
          "data": {
            "text/plain": [
              "Text(113.9222222222222, 0.5, 'predicted label')"
            ]
          },
          "metadata": {},
          "execution_count": 25
        },
        {
          "output_type": "display_data",
          "data": {
            "text/plain": [
              "<Figure size 640x480 with 1 Axes>"
            ],
            "image/png": "[encoded data removed]"
          },
          "metadata": {}
        }
      ]
    },
    {
      "cell_type": "code",
      "source": [
        "#signifikan factor dari model tersebut yang menggambarkan nasabah gagal bayar/tidak\n",
        "feat_importances = pd.Series(model_tree.feature_importances_, index=x.columns)\n",
        "feat_importances.nlargest(10).plot(kind='bar')"
      ],
      "metadata": {
        "id": "BhbvYEIuKmLN",
        "colab": {
          "base_uri": "https://localhost:8080/",
          "height": 495
        },
        "outputId": "5dfc5f0a-1109-47f4-e828-39182178d207"
      },
      "execution_count": null,
      "outputs": [
        {
          "output_type": "execute_result",
          "data": {
            "text/plain": [
              "<Axes: >"
            ]
          },
          "metadata": {},
          "execution_count": 26
        },
        {
          "output_type": "display_data",
          "data": {
            "text/plain": [
              "<Figure size 640x480 with 1 Axes>"
            ],
            "image/png": "[encoded data removed]"
          },
          "metadata": {}
        }
      ]
    },
    {
      "cell_type": "code",
      "source": [],
      "metadata": {
        "id": "bjd23xlPscpB"
      },
      "execution_count": null,
      "outputs": []
    },
    {
      "cell_type": "markdown",
      "source": [
        "##Pemodelan Menggunakan Random Forest"
      ],
      "metadata": {
        "id": "s67n62wju2XZ"
      }
    },
    {
      "cell_type": "code",
      "source": [
        "from sklearn.ensemble import RandomForestClassifier\n",
        "from sklearn.preprocessing import LabelEncoder\n",
        "from sklearn.preprocessing import StandardScaler"
      ],
      "metadata": {
        "id": "3YyPav2su7r4"
      },
      "execution_count": null,
      "outputs": []
    },
    {
      "cell_type": "code",
      "source": [
        "#membuat object algoritma decision tree klasifikasi\n",
        "clf_rf = RandomForestClassifier(n_estimators=200,max_depth=6)\n",
        "#memodelkan data menggunakan algortima decision tree\n",
        "model_rf=clf_rf.fit(x_train, y_train)\n",
        "#Melakukan prediksi pada data test\n",
        "pred_rf=model_rf.predict(x_test)"
      ],
      "metadata": {
        "id": "vnNYwFpuu_TH"
      },
      "execution_count": null,
      "outputs": []
    },
    {
      "cell_type": "markdown",
      "source": [
        "##Evaluasi model random forest"
      ],
      "metadata": {
        "id": "ZemlcqX0wZvs"
      }
    },
    {
      "cell_type": "code",
      "source": [
        "print(classification_report(y_test, pred_rf))"
      ],
      "metadata": {
        "colab": {
          "base_uri": "https://localhost:8080/"
        },
        "id": "bEXB2ugAwTEc",
        "outputId": "45f22887-2ce4-4022-8f19-5ba7f9e56d5a"
      },
      "execution_count": null,
      "outputs": [
        {
          "output_type": "stream",
          "name": "stdout",
          "text": [
            "              precision    recall  f1-score   support\n",
            "\n",
            "         0.0       0.80      0.95      0.87       155\n",
            "         1.0       0.73      0.35      0.47        55\n",
            "\n",
            "    accuracy                           0.80       210\n",
            "   macro avg       0.77      0.65      0.67       210\n",
            "weighted avg       0.79      0.80      0.77       210\n",
            "\n"
          ]
        }
      ]
    },
    {
      "cell_type": "code",
      "source": [
        "# Visualize the confusion matrix of Random Forest\n",
        "mat = confusion_matrix (y_test, pred_rf)\n",
        "sns.heatmap(mat.T, square = True, annot = True, fmt = 'd', cbar= False)\n",
        "plt.xlabel('true label')\n",
        "plt.ylabel('predicted label')"
      ],
      "metadata": {
        "colab": {
          "base_uri": "https://localhost:8080/",
          "height": 466
        },
        "id": "UXdWf_MjwiIj",
        "outputId": "58aa41df-5967-4ad7-b174-8e2506a1b36a"
      },
      "execution_count": null,
      "outputs": [
        {
          "output_type": "execute_result",
          "data": {
            "text/plain": [
              "Text(113.9222222222222, 0.5, 'predicted label')"
            ]
          },
          "metadata": {},
          "execution_count": 30
        },
        {
          "output_type": "display_data",
          "data": {
            "text/plain": [
              "<Figure size 640x480 with 1 Axes>"
            ],
            "image/png": "[encoded data removed]"
          },
          "metadata": {}
        }
      ]
    },
    {
      "cell_type": "code",
      "source": [
        "#signifikan factor dari model tersebut yang menggambarkan nasabah gagal bayar/tidak\n",
        "feat_importances = pd.Series(model_rf.feature_importances_, index=x.columns)\n",
        "feat_importances.nlargest(10).plot(kind='barh')"
      ],
      "metadata": {
        "colab": {
          "base_uri": "https://localhost:8080/",
          "height": 447
        },
        "id": "9T2IERJ6x-R6",
        "outputId": "468e96d6-a74d-44e7-8534-807064dc1b78"
      },
      "execution_count": null,
      "outputs": [
        {
          "output_type": "execute_result",
          "data": {
            "text/plain": [
              "<Axes: >"
            ]
          },
          "metadata": {},
          "execution_count": 31
        },
        {
          "output_type": "display_data",
          "data": {
            "text/plain": [
              "<Figure size 640x480 with 1 Axes>"
            ],
            "image/png": "[encoded data removed]"
          },
          "metadata": {}
        }
      ]
    },
    {
      "cell_type": "code",
      "source": [],
      "metadata": {
        "id": "L2IEyeTlyIAz"
      },
      "execution_count": null,
      "outputs": []
    },
    {
      "cell_type": "markdown",
      "source": [
        "##Pemodelan menggunakan XGBOOST Classifier"
      ],
      "metadata": {
        "id": "_K_xDzn50Y8M"
      }
    },
    {
      "cell_type": "code",
      "source": [
        "from xgboost import XGBClassifier"
      ],
      "metadata": {
        "id": "h30W0i_cyrra"
      },
      "execution_count": null,
      "outputs": []
    },
    {
      "cell_type": "code",
      "source": [
        "#membuat object algoritma XGBOOST klasifikasi\n",
        "clf_xg = XGBClassifier()\n",
        "#memodelkan data menggunakan algortima decision tree\n",
        "model_xg=clf_xg.fit(x_train, y_train)\n",
        "#Melakukan prediksi pada data test\n",
        "pred_xg=model_xg.predict(x_test)"
      ],
      "metadata": {
        "id": "-ODHs2t3zIQz"
      },
      "execution_count": null,
      "outputs": []
    },
    {
      "cell_type": "markdown",
      "source": [
        "##New Evaluasi Classification Report"
      ],
      "metadata": {
        "id": "dvXR95yczyaR"
      }
    },
    {
      "cell_type": "code",
      "source": [
        "print(classification_report(y_test, pred_xg))"
      ],
      "metadata": {
        "colab": {
          "base_uri": "https://localhost:8080/"
        },
        "id": "OC15apcvzgpt",
        "outputId": "9c6de6d6-1097-4cd3-af71-de541668a24b"
      },
      "execution_count": null,
      "outputs": [
        {
          "output_type": "stream",
          "name": "stdout",
          "text": [
            "              precision    recall  f1-score   support\n",
            "\n",
            "         0.0       0.81      0.87      0.84       155\n",
            "         1.0       0.55      0.44      0.48        55\n",
            "\n",
            "    accuracy                           0.76       210\n",
            "   macro avg       0.68      0.65      0.66       210\n",
            "weighted avg       0.74      0.76      0.75       210\n",
            "\n"
          ]
        }
      ]
    },
    {
      "cell_type": "markdown",
      "source": [],
      "metadata": {
        "id": "6R5o7r9-zyP4"
      }
    },
    {
      "cell_type": "code",
      "source": [
        "# Visualize the confusion matrix of Random Forest\n",
        "mat = confusion_matrix (y_test, pred_xg)\n",
        "sns.heatmap(mat.T, square = True, annot = True, fmt = 'd', cbar= False)\n",
        "plt.xlabel('true label')\n",
        "plt.ylabel('predicted label')"
      ],
      "metadata": {
        "colab": {
          "base_uri": "https://localhost:8080/",
          "height": 466
        },
        "id": "Bw5_cs-4zxXN",
        "outputId": "cd0d461b-918c-4a01-9f69-5e1bfe509519"
      },
      "execution_count": null,
      "outputs": [
        {
          "output_type": "execute_result",
          "data": {
            "text/plain": [
              "Text(113.9222222222222, 0.5, 'predicted label')"
            ]
          },
          "metadata": {},
          "execution_count": 35
        },
        {
          "output_type": "display_data",
          "data": {
            "text/plain": [
              "<Figure size 640x480 with 1 Axes>"
            ],
            "image/png": "[encoded data removed]"
          },
          "metadata": {}
        }
      ]
    },
    {
      "cell_type": "code",
      "source": [
        "#signifikan factor dari model tersebut yang menggambarkan nasabah gagal bayar/tidak\n",
        "feat_importances = pd.Series(model_xg.feature_importances_, index=x.columns)\n",
        "feat_importances.nlargest(10).plot(kind='barh')"
      ],
      "metadata": {
        "colab": {
          "base_uri": "https://localhost:8080/",
          "height": 447
        },
        "id": "hXkV_sCH0GaR",
        "outputId": "d682ad97-33c9-4288-b0ff-4a7757b67d45"
      },
      "execution_count": null,
      "outputs": [
        {
          "output_type": "execute_result",
          "data": {
            "text/plain": [
              "<Axes: >"
            ]
          },
          "metadata": {},
          "execution_count": 36
        },
        {
          "output_type": "display_data",
          "data": {
            "text/plain": [
              "<Figure size 640x480 with 1 Axes>"
            ],
            "image/png": "[encoded data removed]"
          },
          "metadata": {}
        }
      ]
    },
    {
      "cell_type": "code",
      "source": [],
      "metadata": {
        "id": "OfxWO36u0phd"
      },
      "execution_count": null,
      "outputs": []
    },
    {
      "cell_type": "markdown",
      "source": [
        "## Pemodelan menggunakan logistic regression"
      ],
      "metadata": {
        "id": "sEsCKd8Q7Bc7"
      }
    },
    {
      "cell_type": "code",
      "source": [
        "from sklearn.linear_model import LogisticRegression"
      ],
      "metadata": {
        "id": "__jpL7a37USu"
      },
      "execution_count": null,
      "outputs": []
    },
    {
      "cell_type": "code",
      "source": [
        "#membuat object algoritma Logistik Regression\n",
        "clf_lg=LogisticRegression()\n",
        "#memodelkan data menggunakan algortima Logistik Regression\n",
        "model_lg=clf_lg.fit(x_train, y_train)\n",
        "#Melakukan prediksi pada data test\n",
        "pred_lg=model_lg.predict(x_test)"
      ],
      "metadata": {
        "id": "y0ojv3x57j3z"
      },
      "execution_count": null,
      "outputs": []
    },
    {
      "cell_type": "code",
      "source": [
        "print(classification_report(y_test, pred_lg))"
      ],
      "metadata": {
        "colab": {
          "base_uri": "https://localhost:8080/"
        },
        "id": "7SyD1P2a8hg7",
        "outputId": "0dae078c-12d1-4438-a17b-f87af127f733"
      },
      "execution_count": null,
      "outputs": [
        {
          "output_type": "stream",
          "name": "stdout",
          "text": [
            "              precision    recall  f1-score   support\n",
            "\n",
            "         0.0       0.82      0.95      0.88       155\n",
            "         1.0       0.73      0.40      0.52        55\n",
            "\n",
            "    accuracy                           0.80       210\n",
            "   macro avg       0.77      0.67      0.70       210\n",
            "weighted avg       0.79      0.80      0.78       210\n",
            "\n"
          ]
        }
      ]
    },
    {
      "cell_type": "code",
      "source": [
        "# Visualize the confusion matrix of logistik regression\n",
        "mat = confusion_matrix (y_test, pred_lg)\n",
        "sns.heatmap(mat.T, square = True, annot = True, fmt = 'd', cbar= False)\n",
        "plt.xlabel('true label')\n",
        "plt.ylabel('predicted label')"
      ],
      "metadata": {
        "colab": {
          "base_uri": "https://localhost:8080/",
          "height": 466
        },
        "id": "ZNlbh9fq9Afi",
        "outputId": "a001713a-11e4-4645-f5cd-9dad83c440f0"
      },
      "execution_count": null,
      "outputs": [
        {
          "output_type": "execute_result",
          "data": {
            "text/plain": [
              "Text(113.9222222222222, 0.5, 'predicted label')"
            ]
          },
          "metadata": {},
          "execution_count": 40
        },
        {
          "output_type": "display_data",
          "data": {
            "text/plain": [
              "<Figure size 640x480 with 1 Axes>"
            ],
            "image/png": "[encoded data removed]"
          },
          "metadata": {}
        }
      ]
    },
    {
      "cell_type": "markdown",
      "source": [
        "## pemodelan menggunakan SVM"
      ],
      "metadata": {
        "id": "0GNHjhui9G7k"
      }
    },
    {
      "cell_type": "code",
      "source": [
        "# import SVM\n",
        "from sklearn.svm import SVC"
      ],
      "metadata": {
        "id": "PQz_97UU9MUU"
      },
      "execution_count": null,
      "outputs": []
    },
    {
      "cell_type": "code",
      "source": [
        "#membuat object algoritma Logistik SVM\n",
        "clf_svm=SVC(kernel='linear', random_state=0)\n",
        "#memodelkan data menggunakan algortima SVM\n",
        "model_svm=clf_svm.fit(x_train, y_train)\n",
        "#Melakukan prediksi pada data test\n",
        "pred_svm=model_svm.predict(x_test)"
      ],
      "metadata": {
        "id": "YRV7AkZM9jAw"
      },
      "execution_count": null,
      "outputs": []
    },
    {
      "cell_type": "code",
      "source": [
        "print(classification_report(y_test, pred_svm))"
      ],
      "metadata": {
        "colab": {
          "base_uri": "https://localhost:8080/"
        },
        "id": "XikSjYdo-JY1",
        "outputId": "48e01d81-4f59-48e8-bd2e-3e4cfbd3bbe7"
      },
      "execution_count": null,
      "outputs": [
        {
          "output_type": "stream",
          "name": "stdout",
          "text": [
            "              precision    recall  f1-score   support\n",
            "\n",
            "         0.0       0.82      0.94      0.88       155\n",
            "         1.0       0.73      0.44      0.55        55\n",
            "\n",
            "    accuracy                           0.81       210\n",
            "   macro avg       0.78      0.69      0.71       210\n",
            "weighted avg       0.80      0.81      0.79       210\n",
            "\n"
          ]
        }
      ]
    },
    {
      "cell_type": "code",
      "source": [
        "# Visualize the confusion matrix of svm\n",
        "mat = confusion_matrix (y_test, pred_svm)\n",
        "sns.heatmap(mat.T, square = True, annot = True, fmt = 'd', cbar= False)\n",
        "plt.xlabel('true label')\n",
        "plt.ylabel('predicted label')"
      ],
      "metadata": {
        "colab": {
          "base_uri": "https://localhost:8080/",
          "height": 466
        },
        "id": "A1Suyu4l-R0x",
        "outputId": "e60dba69-7f94-46e0-afb4-05bd429861cd"
      },
      "execution_count": null,
      "outputs": [
        {
          "output_type": "execute_result",
          "data": {
            "text/plain": [
              "Text(113.9222222222222, 0.5, 'predicted label')"
            ]
          },
          "metadata": {},
          "execution_count": 44
        },
        {
          "output_type": "display_data",
          "data": {
            "text/plain": [
              "<Figure size 640x480 with 1 Axes>"
            ],
            "image/png": "[encoded data removed]"
          },
          "metadata": {}
        }
      ]
    },
    {
      "cell_type": "markdown",
      "source": [
        "## implementasi model\n",
        "\n",
        "model terbaik yaitu menggunakan SVM dengan akurrasi 80% san presisi 82%"
      ],
      "metadata": {
        "id": "OFGZr7E1_w7s"
      }
    },
    {
      "cell_type": "code",
      "source": [
        "#LOAD DATA nasabah baru/calon nasabah yg mengajukan kredit\n",
        "path1='/content/drive/MyDrive/Colab Notebooks/DataSource/credit_risk_newCust.csv'\n",
        "load_data1=pd.read_csv(path1, sep=',')"
      ],
      "metadata": {
        "id": "Bslzu7uBADMw"
      },
      "execution_count": null,
      "outputs": []
    },
    {
      "cell_type": "code",
      "source": [
        "\n",
        "#dataframe\n",
        "df_newNasabah=pd.DataFrame(load_data1)\n",
        "df_newNasabah.head()"
      ],
      "metadata": {
        "colab": {
          "base_uri": "https://localhost:8080/",
          "height": 267
        },
        "id": "CirlwzTxAMOl",
        "outputId": "7e8fb001-cf32-4b82-c7f7-0221ce22133d"
      },
      "execution_count": null,
      "outputs": [
        {
          "output_type": "execute_result",
          "data": {
            "text/plain": [
              "   Unnamed: 0  age  ed  employ  address  income  debtinc  creddebt   othdebt  \\\n",
              "0         700   36   1      16       13      32     10.9  0.544128  2.943872   \n",
              "1         701   50   1       6       27      21     12.9  1.316574  1.392426   \n",
              "2         702   40   1       9        9      33     17.0  4.880700  0.729300   \n",
              "3         703   31   1       5        7      23      2.0  0.046000  0.414000   \n",
              "4         704   29   1       4        0      24      7.8  0.866736  1.005264   \n",
              "\n",
              "   default  \n",
              "0      NaN  \n",
              "1      NaN  \n",
              "2      NaN  \n",
              "3      NaN  \n",
              "4      NaN  "
            ],
            "text/html": [
              "\n",
              "  <div id=\"df-b2e804b4-f8de-492b-a431-ed77e25823d1\">\n",
              "    <div class=\"colab-df-container\">\n",
              "      <div>\n",
              "<style scoped>\n",
              "    .dataframe tbody tr th:only-of-type {\n",
              "        vertical-align: middle;\n",
              "    }\n",
              "\n",
              "    .dataframe tbody tr th {\n",
              "        vertical-align: top;\n",
              "    }\n",
              "\n",
              "    .dataframe thead th {\n",
              "        text-align: right;\n",
              "    }\n",
              "</style>\n",
              "<table border=\"1\" class=\"dataframe\">\n",
              "  <thead>\n",
              "    <tr style=\"text-align: right;\">\n",
              "      <th></th>\n",
              "      <th>Unnamed: 0</th>\n",
              "      <th>age</th>\n",
              "      <th>ed</th>\n",
              "      <th>employ</th>\n",
              "      <th>address</th>\n",
              "      <th>income</th>\n",
              "      <th>debtinc</th>\n",
              "      <th>creddebt</th>\n",
              "      <th>othdebt</th>\n",
              "      <th>default</th>\n",
              "    </tr>\n",
              "  </thead>\n",
              "  <tbody>\n",
              "    <tr>\n",
              "      <th>0</th>\n",
              "      <td>700</td>\n",
              "      <td>36</td>\n",
              "      <td>1</td>\n",
              "      <td>16</td>\n",
              "      <td>13</td>\n",
              "      <td>32</td>\n",
              "      <td>10.9</td>\n",
              "      <td>0.544128</td>\n",
              "      <td>2.943872</td>\n",
              "      <td>NaN</td>\n",
              "    </tr>\n",
              "    <tr>\n",
              "      <th>1</th>\n",
              "      <td>701</td>\n",
              "      <td>50</td>\n",
              "      <td>1</td>\n",
              "      <td>6</td>\n",
              "      <td>27</td>\n",
              "      <td>21</td>\n",
              "      <td>12.9</td>\n",
              "      <td>1.316574</td>\n",
              "      <td>1.392426</td>\n",
              "      <td>NaN</td>\n",
              "    </tr>\n",
              "    <tr>\n",
              "      <th>2</th>\n",
              "      <td>702</td>\n",
              "      <td>40</td>\n",
              "      <td>1</td>\n",
              "      <td>9</td>\n",
              "      <td>9</td>\n",
              "      <td>33</td>\n",
              "      <td>17.0</td>\n",
              "      <td>4.880700</td>\n",
              "      <td>0.729300</td>\n",
              "      <td>NaN</td>\n",
              "    </tr>\n",
              "    <tr>\n",
              "      <th>3</th>\n",
              "      <td>703</td>\n",
              "      <td>31</td>\n",
              "      <td>1</td>\n",
              "      <td>5</td>\n",
              "      <td>7</td>\n",
              "      <td>23</td>\n",
              "      <td>2.0</td>\n",
              "      <td>0.046000</td>\n",
              "      <td>0.414000</td>\n",
              "      <td>NaN</td>\n",
              "    </tr>\n",
              "    <tr>\n",
              "      <th>4</th>\n",
              "      <td>704</td>\n",
              "      <td>29</td>\n",
              "      <td>1</td>\n",
              "      <td>4</td>\n",
              "      <td>0</td>\n",
              "      <td>24</td>\n",
              "      <td>7.8</td>\n",
              "      <td>0.866736</td>\n",
              "      <td>1.005264</td>\n",
              "      <td>NaN</td>\n",
              "    </tr>\n",
              "  </tbody>\n",
              "</table>\n",
              "</div>\n",
              "      <button class=\"colab-df-convert\" onclick=\"convertToInteractive('df-b2e804b4-f8de-492b-a431-ed77e25823d1')\"\n",
              "              title=\"Convert this dataframe to an interactive table.\"\n",
              "              style=\"display:none;\">\n",
              "        \n",
              "  <svg xmlns=\"http://www.w3.org/2000/svg\" height=\"24px\"viewBox=\"0 0 24 24\"\n",
              "       width=\"24px\">\n",
              "    <path d=\"M0 0h24v24H0V0z\" fill=\"none\"/>\n",
              "    <path d=\"M18.56 5.44l.94 2.06.94-2.06 2.06-.94-2.06-.94-.94-2.06-.94 2.06-2.06.94zm-11 1L8.5 8.5l.94-2.06 2.06-.94-2.06-.94L8.5 2.5l-.94 2.06-2.06.94zm10 10l.94 2.06.94-2.06 2.06-.94-2.06-.94-.94-2.06-.94 2.06-2.06.94z\"/><path d=\"M17.41 7.96l-1.37-1.37c-.4-.4-.92-.59-1.43-.59-.52 0-1.04.2-1.43.59L10.3 9.45l-7.72 7.72c-.78.78-.78 2.05 0 2.83L4 21.41c.39.39.9.59 1.41.59.51 0 1.02-.2 1.41-.59l7.78-7.78 2.81-2.81c.8-.78.8-2.07 0-2.86zM5.41 20L4 18.59l7.72-7.72 1.47 1.35L5.41 20z\"/>\n",
              "  </svg>\n",
              "      </button>\n",
              "      \n",
              "  <style>\n",
              "    .colab-df-container {\n",
              "      display:flex;\n",
              "      flex-wrap:wrap;\n",
              "      gap: 12px;\n",
              "    }\n",
              "\n",
              "    .colab-df-convert {\n",
              "      background-color: #E8F0FE;\n",
              "      border: none;\n",
              "      border-radius: 50%;\n",
              "      cursor: pointer;\n",
              "      display: none;\n",
              "      fill: #1967D2;\n",
              "      height: 32px;\n",
              "      padding: 0 0 0 0;\n",
              "      width: 32px;\n",
              "    }\n",
              "\n",
              "    .colab-df-convert:hover {\n",
              "      background-color: #E2EBFA;\n",
              "      box-shadow: 0px 1px 2px rgba(60, 64, 67, 0.3), 0px 1px 3px 1px rgba(60, 64, 67, 0.15);\n",
              "      fill: #174EA6;\n",
              "    }\n",
              "\n",
              "    [theme=dark] .colab-df-convert {\n",
              "      background-color: #3B4455;\n",
              "      fill: #D2E3FC;\n",
              "    }\n",
              "\n",
              "    [theme=dark] .colab-df-convert:hover {\n",
              "      background-color: #434B5C;\n",
              "      box-shadow: 0px 1px 3px 1px rgba(0, 0, 0, 0.15);\n",
              "      filter: drop-shadow(0px 1px 2px rgba(0, 0, 0, 0.3));\n",
              "      fill: #FFFFFF;\n",
              "    }\n",
              "  </style>\n",
              "\n",
              "      <script>\n",
              "        const buttonEl =\n",
              "          document.querySelector('#df-b2e804b4-f8de-492b-a431-ed77e25823d1 button.colab-df-convert');\n",
              "        buttonEl.style.display =\n",
              "          google.colab.kernel.accessAllowed ? 'block' : 'none';\n",
              "\n",
              "        async function convertToInteractive(key) {\n",
              "          const element = document.querySelector('#df-b2e804b4-f8de-492b-a431-ed77e25823d1');\n",
              "          const dataTable =\n",
              "            await google.colab.kernel.invokeFunction('convertToInteractive',\n",
              "                                                     [key], {});\n",
              "          if (!dataTable) return;\n",
              "\n",
              "          const docLinkHtml = 'Like what you see? Visit the ' +\n",
              "            '<a target=\"_blank\" href=https://colab.research.google.com/notebooks/data_table.ipynb>data table notebook</a>'\n",
              "            + ' to learn more about interactive tables.';\n",
              "          element.innerHTML = '';\n",
              "          dataTable['output_type'] = 'display_data';\n",
              "          await google.colab.output.renderOutput(dataTable, element);\n",
              "          const docLink = document.createElement('div');\n",
              "          docLink.innerHTML = docLinkHtml;\n",
              "          element.appendChild(docLink);\n",
              "        }\n",
              "      </script>\n",
              "    </div>\n",
              "  </div>\n",
              "  "
            ]
          },
          "metadata": {},
          "execution_count": 46
        }
      ]
    },
    {
      "cell_type": "code",
      "source": [
        "df_newNasabah.info()"
      ],
      "metadata": {
        "id": "vr-7gseUFP2d",
        "colab": {
          "base_uri": "https://localhost:8080/"
        },
        "outputId": "fd5c4feb-e0de-469d-a811-3bdcd57aaec1"
      },
      "execution_count": null,
      "outputs": [
        {
          "output_type": "stream",
          "name": "stdout",
          "text": [
            "<class 'pandas.core.frame.DataFrame'>\n",
            "RangeIndex: 150 entries, 0 to 149\n",
            "Data columns (total 10 columns):\n",
            " #   Column      Non-Null Count  Dtype  \n",
            "---  ------      --------------  -----  \n",
            " 0   Unnamed: 0  150 non-null    int64  \n",
            " 1   age         150 non-null    int64  \n",
            " 2   ed          150 non-null    int64  \n",
            " 3   employ      150 non-null    int64  \n",
            " 4   address     150 non-null    int64  \n",
            " 5   income      150 non-null    int64  \n",
            " 6   debtinc     150 non-null    float64\n",
            " 7   creddebt    150 non-null    float64\n",
            " 8   othdebt     150 non-null    float64\n",
            " 9   default     0 non-null      float64\n",
            "dtypes: float64(4), int64(6)\n",
            "memory usage: 11.8 KB\n"
          ]
        }
      ]
    },
    {
      "cell_type": "code",
      "source": [
        "#inpu variabel  untuk predict\n",
        "x2=df_newNasabah[['age','ed','employ','address','income','debtinc','creddebt','othdebt']]"
      ],
      "metadata": {
        "id": "wyvQcrEQDrLn"
      },
      "execution_count": null,
      "outputs": []
    },
    {
      "cell_type": "code",
      "source": [
        "#predict menggunnakan model svm\n",
        "prediction_svm=model_svm.predict(x2)\n",
        "prediction_svm"
      ],
      "metadata": {
        "id": "ODjI5LAjETk1",
        "colab": {
          "base_uri": "https://localhost:8080/"
        },
        "outputId": "4db6ffea-ac60-4e4a-d4f2-d14cc708ab2f"
      },
      "execution_count": null,
      "outputs": [
        {
          "output_type": "execute_result",
          "data": {
            "text/plain": [
              "array([0., 0., 1., 0., 0., 0., 0., 1., 0., 0., 0., 0., 0., 0., 0., 0., 1.,\n",
              "       0., 0., 0., 0., 0., 0., 0., 0., 0., 0., 0., 0., 0., 0., 0., 1., 0.,\n",
              "       0., 0., 0., 0., 0., 0., 1., 0., 0., 0., 0., 1., 0., 0., 0., 0., 0.,\n",
              "       0., 0., 0., 0., 0., 1., 0., 0., 0., 0., 0., 0., 1., 0., 0., 0., 0.,\n",
              "       0., 0., 1., 0., 0., 1., 0., 0., 0., 1., 0., 0., 0., 1., 0., 1., 1.,\n",
              "       0., 0., 0., 0., 1., 0., 0., 0., 0., 0., 0., 0., 0., 0., 0., 0., 1.,\n",
              "       0., 1., 0., 0., 0., 1., 0., 0., 1., 0., 0., 0., 0., 0., 0., 0., 0.,\n",
              "       0., 0., 0., 1., 0., 0., 0., 1., 0., 0., 0., 0., 0., 0., 0., 0., 0.,\n",
              "       1., 0., 0., 0., 1., 0., 0., 0., 0., 0., 0., 0., 0., 0.])"
            ]
          },
          "metadata": {},
          "execution_count": 49
        }
      ]
    },
    {
      "cell_type": "markdown",
      "source": [
        "##Membuat object baru untuk preparing export hasil pemodelan data menggunakan data Baru"
      ],
      "metadata": {
        "id": "n2wXyr1dJX5K"
      }
    },
    {
      "cell_type": "code",
      "source": [
        "df_pred=pd.DataFrame({'prediction': prediction_svm})\n",
        "df_pred.head()"
      ],
      "metadata": {
        "colab": {
          "base_uri": "https://localhost:8080/",
          "height": 206
        },
        "id": "pHJ_mRpeJXIK",
        "outputId": "2c1ad3db-324c-47bc-bb49-b5616c62c14b"
      },
      "execution_count": null,
      "outputs": [
        {
          "output_type": "execute_result",
          "data": {
            "text/plain": [
              "   prediction\n",
              "0         0.0\n",
              "1         0.0\n",
              "2         1.0\n",
              "3         0.0\n",
              "4         0.0"
            ],
            "text/html": [
              "\n",
              "  <div id=\"df-366a34aa-9877-4e5e-bd20-f785da6e22bd\">\n",
              "    <div class=\"colab-df-container\">\n",
              "      <div>\n",
              "<style scoped>\n",
              "    .dataframe tbody tr th:only-of-type {\n",
              "        vertical-align: middle;\n",
              "    }\n",
              "\n",
              "    .dataframe tbody tr th {\n",
              "        vertical-align: top;\n",
              "    }\n",
              "\n",
              "    .dataframe thead th {\n",
              "        text-align: right;\n",
              "    }\n",
              "</style>\n",
              "<table border=\"1\" class=\"dataframe\">\n",
              "  <thead>\n",
              "    <tr style=\"text-align: right;\">\n",
              "      <th></th>\n",
              "      <th>prediction</th>\n",
              "    </tr>\n",
              "  </thead>\n",
              "  <tbody>\n",
              "    <tr>\n",
              "      <th>0</th>\n",
              "      <td>0.0</td>\n",
              "    </tr>\n",
              "    <tr>\n",
              "      <th>1</th>\n",
              "      <td>0.0</td>\n",
              "    </tr>\n",
              "    <tr>\n",
              "      <th>2</th>\n",
              "      <td>1.0</td>\n",
              "    </tr>\n",
              "    <tr>\n",
              "      <th>3</th>\n",
              "      <td>0.0</td>\n",
              "    </tr>\n",
              "    <tr>\n",
              "      <th>4</th>\n",
              "      <td>0.0</td>\n",
              "    </tr>\n",
              "  </tbody>\n",
              "</table>\n",
              "</div>\n",
              "      <button class=\"colab-df-convert\" onclick=\"convertToInteractive('df-366a34aa-9877-4e5e-bd20-f785da6e22bd')\"\n",
              "              title=\"Convert this dataframe to an interactive table.\"\n",
              "              style=\"display:none;\">\n",
              "        \n",
              "  <svg xmlns=\"http://www.w3.org/2000/svg\" height=\"24px\"viewBox=\"0 0 24 24\"\n",
              "       width=\"24px\">\n",
              "    <path d=\"M0 0h24v24H0V0z\" fill=\"none\"/>\n",
              "    <path d=\"M18.56 5.44l.94 2.06.94-2.06 2.06-.94-2.06-.94-.94-2.06-.94 2.06-2.06.94zm-11 1L8.5 8.5l.94-2.06 2.06-.94-2.06-.94L8.5 2.5l-.94 2.06-2.06.94zm10 10l.94 2.06.94-2.06 2.06-.94-2.06-.94-.94-2.06-.94 2.06-2.06.94z\"/><path d=\"M17.41 7.96l-1.37-1.37c-.4-.4-.92-.59-1.43-.59-.52 0-1.04.2-1.43.59L10.3 9.45l-7.72 7.72c-.78.78-.78 2.05 0 2.83L4 21.41c.39.39.9.59 1.41.59.51 0 1.02-.2 1.41-.59l7.78-7.78 2.81-2.81c.8-.78.8-2.07 0-2.86zM5.41 20L4 18.59l7.72-7.72 1.47 1.35L5.41 20z\"/>\n",
              "  </svg>\n",
              "      </button>\n",
              "      \n",
              "  <style>\n",
              "    .colab-df-container {\n",
              "      display:flex;\n",
              "      flex-wrap:wrap;\n",
              "      gap: 12px;\n",
              "    }\n",
              "\n",
              "    .colab-df-convert {\n",
              "      background-color: #E8F0FE;\n",
              "      border: none;\n",
              "      border-radius: 50%;\n",
              "      cursor: pointer;\n",
              "      display: none;\n",
              "      fill: #1967D2;\n",
              "      height: 32px;\n",
              "      padding: 0 0 0 0;\n",
              "      width: 32px;\n",
              "    }\n",
              "\n",
              "    .colab-df-convert:hover {\n",
              "      background-color: #E2EBFA;\n",
              "      box-shadow: 0px 1px 2px rgba(60, 64, 67, 0.3), 0px 1px 3px 1px rgba(60, 64, 67, 0.15);\n",
              "      fill: #174EA6;\n",
              "    }\n",
              "\n",
              "    [theme=dark] .colab-df-convert {\n",
              "      background-color: #3B4455;\n",
              "      fill: #D2E3FC;\n",
              "    }\n",
              "\n",
              "    [theme=dark] .colab-df-convert:hover {\n",
              "      background-color: #434B5C;\n",
              "      box-shadow: 0px 1px 3px 1px rgba(0, 0, 0, 0.15);\n",
              "      filter: drop-shadow(0px 1px 2px rgba(0, 0, 0, 0.3));\n",
              "      fill: #FFFFFF;\n",
              "    }\n",
              "  </style>\n",
              "\n",
              "      <script>\n",
              "        const buttonEl =\n",
              "          document.querySelector('#df-366a34aa-9877-4e5e-bd20-f785da6e22bd button.colab-df-convert');\n",
              "        buttonEl.style.display =\n",
              "          google.colab.kernel.accessAllowed ? 'block' : 'none';\n",
              "\n",
              "        async function convertToInteractive(key) {\n",
              "          const element = document.querySelector('#df-366a34aa-9877-4e5e-bd20-f785da6e22bd');\n",
              "          const dataTable =\n",
              "            await google.colab.kernel.invokeFunction('convertToInteractive',\n",
              "                                                     [key], {});\n",
              "          if (!dataTable) return;\n",
              "\n",
              "          const docLinkHtml = 'Like what you see? Visit the ' +\n",
              "            '<a target=\"_blank\" href=https://colab.research.google.com/notebooks/data_table.ipynb>data table notebook</a>'\n",
              "            + ' to learn more about interactive tables.';\n",
              "          element.innerHTML = '';\n",
              "          dataTable['output_type'] = 'display_data';\n",
              "          await google.colab.output.renderOutput(dataTable, element);\n",
              "          const docLink = document.createElement('div');\n",
              "          docLink.innerHTML = docLinkHtml;\n",
              "          element.appendChild(docLink);\n",
              "        }\n",
              "      </script>\n",
              "    </div>\n",
              "  </div>\n",
              "  "
            ]
          },
          "metadata": {},
          "execution_count": 50
        }
      ]
    },
    {
      "cell_type": "code",
      "source": [
        "df4=x2\n",
        "df4"
      ],
      "metadata": {
        "colab": {
          "base_uri": "https://localhost:8080/",
          "height": 423
        },
        "id": "L0hys03SLxmo",
        "outputId": "3e0036d3-296e-450a-c89e-99b7a896ab4e"
      },
      "execution_count": null,
      "outputs": [
        {
          "output_type": "execute_result",
          "data": {
            "text/plain": [
              "     age  ed  employ  address  income  debtinc  creddebt   othdebt\n",
              "0     36   1      16       13      32     10.9  0.544128  2.943872\n",
              "1     50   1       6       27      21     12.9  1.316574  1.392426\n",
              "2     40   1       9        9      33     17.0  4.880700  0.729300\n",
              "3     31   1       5        7      23      2.0  0.046000  0.414000\n",
              "4     29   1       4        0      24      7.8  0.866736  1.005264\n",
              "..   ...  ..     ...      ...     ...      ...       ...       ...\n",
              "145   34   1      12       15      32      2.7  0.239328  0.624672\n",
              "146   32   2      12       11     116      5.7  4.026708  2.585292\n",
              "147   48   1      13       11      38     10.8  0.722304  3.381696\n",
              "148   35   2       1       11      24      7.8  0.417456  1.454544\n",
              "149   37   1      20       13      41     12.9  0.899130  4.389870\n",
              "\n",
              "[150 rows x 8 columns]"
            ],
            "text/html": [
              "\n",
              "  <div id=\"df-d9652b7f-f69b-4fc5-a345-aadd274155f5\">\n",
              "    <div class=\"colab-df-container\">\n",
              "      <div>\n",
              "<style scoped>\n",
              "    .dataframe tbody tr th:only-of-type {\n",
              "        vertical-align: middle;\n",
              "    }\n",
              "\n",
              "    .dataframe tbody tr th {\n",
              "        vertical-align: top;\n",
              "    }\n",
              "\n",
              "    .dataframe thead th {\n",
              "        text-align: right;\n",
              "    }\n",
              "</style>\n",
              "<table border=\"1\" class=\"dataframe\">\n",
              "  <thead>\n",
              "    <tr style=\"text-align: right;\">\n",
              "      <th></th>\n",
              "      <th>age</th>\n",
              "      <th>ed</th>\n",
              "      <th>employ</th>\n",
              "      <th>address</th>\n",
              "      <th>income</th>\n",
              "      <th>debtinc</th>\n",
              "      <th>creddebt</th>\n",
              "      <th>othdebt</th>\n",
              "    </tr>\n",
              "  </thead>\n",
              "  <tbody>\n",
              "    <tr>\n",
              "      <th>0</th>\n",
              "      <td>36</td>\n",
              "      <td>1</td>\n",
              "      <td>16</td>\n",
              "      <td>13</td>\n",
              "      <td>32</td>\n",
              "      <td>10.9</td>\n",
              "      <td>0.544128</td>\n",
              "      <td>2.943872</td>\n",
              "    </tr>\n",
              "    <tr>\n",
              "      <th>1</th>\n",
              "      <td>50</td>\n",
              "      <td>1</td>\n",
              "      <td>6</td>\n",
              "      <td>27</td>\n",
              "      <td>21</td>\n",
              "      <td>12.9</td>\n",
              "      <td>1.316574</td>\n",
              "      <td>1.392426</td>\n",
              "    </tr>\n",
              "    <tr>\n",
              "      <th>2</th>\n",
              "      <td>40</td>\n",
              "      <td>1</td>\n",
              "      <td>9</td>\n",
              "      <td>9</td>\n",
              "      <td>33</td>\n",
              "      <td>17.0</td>\n",
              "      <td>4.880700</td>\n",
              "      <td>0.729300</td>\n",
              "    </tr>\n",
              "    <tr>\n",
              "      <th>3</th>\n",
              "      <td>31</td>\n",
              "      <td>1</td>\n",
              "      <td>5</td>\n",
              "      <td>7</td>\n",
              "      <td>23</td>\n",
              "      <td>2.0</td>\n",
              "      <td>0.046000</td>\n",
              "      <td>0.414000</td>\n",
              "    </tr>\n",
              "    <tr>\n",
              "      <th>4</th>\n",
              "      <td>29</td>\n",
              "      <td>1</td>\n",
              "      <td>4</td>\n",
              "      <td>0</td>\n",
              "      <td>24</td>\n",
              "      <td>7.8</td>\n",
              "      <td>0.866736</td>\n",
              "      <td>1.005264</td>\n",
              "    </tr>\n",
              "    <tr>\n",
              "      <th>...</th>\n",
              "      <td>...</td>\n",
              "      <td>...</td>\n",
              "      <td>...</td>\n",
              "      <td>...</td>\n",
              "      <td>...</td>\n",
              "      <td>...</td>\n",
              "      <td>...</td>\n",
              "      <td>...</td>\n",
              "    </tr>\n",
              "    <tr>\n",
              "      <th>145</th>\n",
              "      <td>34</td>\n",
              "      <td>1</td>\n",
              "      <td>12</td>\n",
              "      <td>15</td>\n",
              "      <td>32</td>\n",
              "      <td>2.7</td>\n",
              "      <td>0.239328</td>\n",
              "      <td>0.624672</td>\n",
              "    </tr>\n",
              "    <tr>\n",
              "      <th>146</th>\n",
              "      <td>32</td>\n",
              "      <td>2</td>\n",
              "      <td>12</td>\n",
              "      <td>11</td>\n",
              "      <td>116</td>\n",
              "      <td>5.7</td>\n",
              "      <td>4.026708</td>\n",
              "      <td>2.585292</td>\n",
              "    </tr>\n",
              "    <tr>\n",
              "      <th>147</th>\n",
              "      <td>48</td>\n",
              "      <td>1</td>\n",
              "      <td>13</td>\n",
              "      <td>11</td>\n",
              "      <td>38</td>\n",
              "      <td>10.8</td>\n",
              "      <td>0.722304</td>\n",
              "      <td>3.381696</td>\n",
              "    </tr>\n",
              "    <tr>\n",
              "      <th>148</th>\n",
              "      <td>35</td>\n",
              "      <td>2</td>\n",
              "      <td>1</td>\n",
              "      <td>11</td>\n",
              "      <td>24</td>\n",
              "      <td>7.8</td>\n",
              "      <td>0.417456</td>\n",
              "      <td>1.454544</td>\n",
              "    </tr>\n",
              "    <tr>\n",
              "      <th>149</th>\n",
              "      <td>37</td>\n",
              "      <td>1</td>\n",
              "      <td>20</td>\n",
              "      <td>13</td>\n",
              "      <td>41</td>\n",
              "      <td>12.9</td>\n",
              "      <td>0.899130</td>\n",
              "      <td>4.389870</td>\n",
              "    </tr>\n",
              "  </tbody>\n",
              "</table>\n",
              "<p>150 rows × 8 columns</p>\n",
              "</div>\n",
              "      <button class=\"colab-df-convert\" onclick=\"convertToInteractive('df-d9652b7f-f69b-4fc5-a345-aadd274155f5')\"\n",
              "              title=\"Convert this dataframe to an interactive table.\"\n",
              "              style=\"display:none;\">\n",
              "        \n",
              "  <svg xmlns=\"http://www.w3.org/2000/svg\" height=\"24px\"viewBox=\"0 0 24 24\"\n",
              "       width=\"24px\">\n",
              "    <path d=\"M0 0h24v24H0V0z\" fill=\"none\"/>\n",
              "    <path d=\"M18.56 5.44l.94 2.06.94-2.06 2.06-.94-2.06-.94-.94-2.06-.94 2.06-2.06.94zm-11 1L8.5 8.5l.94-2.06 2.06-.94-2.06-.94L8.5 2.5l-.94 2.06-2.06.94zm10 10l.94 2.06.94-2.06 2.06-.94-2.06-.94-.94-2.06-.94 2.06-2.06.94z\"/><path d=\"M17.41 7.96l-1.37-1.37c-.4-.4-.92-.59-1.43-.59-.52 0-1.04.2-1.43.59L10.3 9.45l-7.72 7.72c-.78.78-.78 2.05 0 2.83L4 21.41c.39.39.9.59 1.41.59.51 0 1.02-.2 1.41-.59l7.78-7.78 2.81-2.81c.8-.78.8-2.07 0-2.86zM5.41 20L4 18.59l7.72-7.72 1.47 1.35L5.41 20z\"/>\n",
              "  </svg>\n",
              "      </button>\n",
              "      \n",
              "  <style>\n",
              "    .colab-df-container {\n",
              "      display:flex;\n",
              "      flex-wrap:wrap;\n",
              "      gap: 12px;\n",
              "    }\n",
              "\n",
              "    .colab-df-convert {\n",
              "      background-color: #E8F0FE;\n",
              "      border: none;\n",
              "      border-radius: 50%;\n",
              "      cursor: pointer;\n",
              "      display: none;\n",
              "      fill: #1967D2;\n",
              "      height: 32px;\n",
              "      padding: 0 0 0 0;\n",
              "      width: 32px;\n",
              "    }\n",
              "\n",
              "    .colab-df-convert:hover {\n",
              "      background-color: #E2EBFA;\n",
              "      box-shadow: 0px 1px 2px rgba(60, 64, 67, 0.3), 0px 1px 3px 1px rgba(60, 64, 67, 0.15);\n",
              "      fill: #174EA6;\n",
              "    }\n",
              "\n",
              "    [theme=dark] .colab-df-convert {\n",
              "      background-color: #3B4455;\n",
              "      fill: #D2E3FC;\n",
              "    }\n",
              "\n",
              "    [theme=dark] .colab-df-convert:hover {\n",
              "      background-color: #434B5C;\n",
              "      box-shadow: 0px 1px 3px 1px rgba(0, 0, 0, 0.15);\n",
              "      filter: drop-shadow(0px 1px 2px rgba(0, 0, 0, 0.3));\n",
              "      fill: #FFFFFF;\n",
              "    }\n",
              "  </style>\n",
              "\n",
              "      <script>\n",
              "        const buttonEl =\n",
              "          document.querySelector('#df-d9652b7f-f69b-4fc5-a345-aadd274155f5 button.colab-df-convert');\n",
              "        buttonEl.style.display =\n",
              "          google.colab.kernel.accessAllowed ? 'block' : 'none';\n",
              "\n",
              "        async function convertToInteractive(key) {\n",
              "          const element = document.querySelector('#df-d9652b7f-f69b-4fc5-a345-aadd274155f5');\n",
              "          const dataTable =\n",
              "            await google.colab.kernel.invokeFunction('convertToInteractive',\n",
              "                                                     [key], {});\n",
              "          if (!dataTable) return;\n",
              "\n",
              "          const docLinkHtml = 'Like what you see? Visit the ' +\n",
              "            '<a target=\"_blank\" href=https://colab.research.google.com/notebooks/data_table.ipynb>data table notebook</a>'\n",
              "            + ' to learn more about interactive tables.';\n",
              "          element.innerHTML = '';\n",
              "          dataTable['output_type'] = 'display_data';\n",
              "          await google.colab.output.renderOutput(dataTable, element);\n",
              "          const docLink = document.createElement('div');\n",
              "          docLink.innerHTML = docLinkHtml;\n",
              "          element.appendChild(docLink);\n",
              "        }\n",
              "      </script>\n",
              "    </div>\n",
              "  </div>\n",
              "  "
            ]
          },
          "metadata": {},
          "execution_count": 51
        }
      ]
    },
    {
      "cell_type": "code",
      "source": [
        "df_hasil_predict=pd.concat([df4,df_pred],sort=True, axis=1)\n",
        "df_hasil_predict"
      ],
      "metadata": {
        "colab": {
          "base_uri": "https://localhost:8080/",
          "height": 423
        },
        "id": "4C5AcuzHLhCU",
        "outputId": "d40e6969-97fd-46e8-b4de-31ce9f9fc194"
      },
      "execution_count": null,
      "outputs": [
        {
          "output_type": "execute_result",
          "data": {
            "text/plain": [
              "     age  ed  employ  address  income  debtinc  creddebt   othdebt  prediction\n",
              "0     36   1      16       13      32     10.9  0.544128  2.943872         0.0\n",
              "1     50   1       6       27      21     12.9  1.316574  1.392426         0.0\n",
              "2     40   1       9        9      33     17.0  4.880700  0.729300         1.0\n",
              "3     31   1       5        7      23      2.0  0.046000  0.414000         0.0\n",
              "4     29   1       4        0      24      7.8  0.866736  1.005264         0.0\n",
              "..   ...  ..     ...      ...     ...      ...       ...       ...         ...\n",
              "145   34   1      12       15      32      2.7  0.239328  0.624672         0.0\n",
              "146   32   2      12       11     116      5.7  4.026708  2.585292         0.0\n",
              "147   48   1      13       11      38     10.8  0.722304  3.381696         0.0\n",
              "148   35   2       1       11      24      7.8  0.417456  1.454544         0.0\n",
              "149   37   1      20       13      41     12.9  0.899130  4.389870         0.0\n",
              "\n",
              "[150 rows x 9 columns]"
            ],
            "text/html": [
              "\n",
              "  <div id=\"df-d75cdbbd-95e5-41a2-819d-27087f5bd569\">\n",
              "    <div class=\"colab-df-container\">\n",
              "      <div>\n",
              "<style scoped>\n",
              "    .dataframe tbody tr th:only-of-type {\n",
              "        vertical-align: middle;\n",
              "    }\n",
              "\n",
              "    .dataframe tbody tr th {\n",
              "        vertical-align: top;\n",
              "    }\n",
              "\n",
              "    .dataframe thead th {\n",
              "        text-align: right;\n",
              "    }\n",
              "</style>\n",
              "<table border=\"1\" class=\"dataframe\">\n",
              "  <thead>\n",
              "    <tr style=\"text-align: right;\">\n",
              "      <th></th>\n",
              "      <th>age</th>\n",
              "      <th>ed</th>\n",
              "      <th>employ</th>\n",
              "      <th>address</th>\n",
              "      <th>income</th>\n",
              "      <th>debtinc</th>\n",
              "      <th>creddebt</th>\n",
              "      <th>othdebt</th>\n",
              "      <th>prediction</th>\n",
              "    </tr>\n",
              "  </thead>\n",
              "  <tbody>\n",
              "    <tr>\n",
              "      <th>0</th>\n",
              "      <td>36</td>\n",
              "      <td>1</td>\n",
              "      <td>16</td>\n",
              "      <td>13</td>\n",
              "      <td>32</td>\n",
              "      <td>10.9</td>\n",
              "      <td>0.544128</td>\n",
              "      <td>2.943872</td>\n",
              "      <td>0.0</td>\n",
              "    </tr>\n",
              "    <tr>\n",
              "      <th>1</th>\n",
              "      <td>50</td>\n",
              "      <td>1</td>\n",
              "      <td>6</td>\n",
              "      <td>27</td>\n",
              "      <td>21</td>\n",
              "      <td>12.9</td>\n",
              "      <td>1.316574</td>\n",
              "      <td>1.392426</td>\n",
              "      <td>0.0</td>\n",
              "    </tr>\n",
              "    <tr>\n",
              "      <th>2</th>\n",
              "      <td>40</td>\n",
              "      <td>1</td>\n",
              "      <td>9</td>\n",
              "      <td>9</td>\n",
              "      <td>33</td>\n",
              "      <td>17.0</td>\n",
              "      <td>4.880700</td>\n",
              "      <td>0.729300</td>\n",
              "      <td>1.0</td>\n",
              "    </tr>\n",
              "    <tr>\n",
              "      <th>3</th>\n",
              "      <td>31</td>\n",
              "      <td>1</td>\n",
              "      <td>5</td>\n",
              "      <td>7</td>\n",
              "      <td>23</td>\n",
              "      <td>2.0</td>\n",
              "      <td>0.046000</td>\n",
              "      <td>0.414000</td>\n",
              "      <td>0.0</td>\n",
              "    </tr>\n",
              "    <tr>\n",
              "      <th>4</th>\n",
              "      <td>29</td>\n",
              "      <td>1</td>\n",
              "      <td>4</td>\n",
              "      <td>0</td>\n",
              "      <td>24</td>\n",
              "      <td>7.8</td>\n",
              "      <td>0.866736</td>\n",
              "      <td>1.005264</td>\n",
              "      <td>0.0</td>\n",
              "    </tr>\n",
              "    <tr>\n",
              "      <th>...</th>\n",
              "      <td>...</td>\n",
              "      <td>...</td>\n",
              "      <td>...</td>\n",
              "      <td>...</td>\n",
              "      <td>...</td>\n",
              "      <td>...</td>\n",
              "      <td>...</td>\n",
              "      <td>...</td>\n",
              "      <td>...</td>\n",
              "    </tr>\n",
              "    <tr>\n",
              "      <th>145</th>\n",
              "      <td>34</td>\n",
              "      <td>1</td>\n",
              "      <td>12</td>\n",
              "      <td>15</td>\n",
              "      <td>32</td>\n",
              "      <td>2.7</td>\n",
              "      <td>0.239328</td>\n",
              "      <td>0.624672</td>\n",
              "      <td>0.0</td>\n",
              "    </tr>\n",
              "    <tr>\n",
              "      <th>146</th>\n",
              "      <td>32</td>\n",
              "      <td>2</td>\n",
              "      <td>12</td>\n",
              "      <td>11</td>\n",
              "      <td>116</td>\n",
              "      <td>5.7</td>\n",
              "      <td>4.026708</td>\n",
              "      <td>2.585292</td>\n",
              "      <td>0.0</td>\n",
              "    </tr>\n",
              "    <tr>\n",
              "      <th>147</th>\n",
              "      <td>48</td>\n",
              "      <td>1</td>\n",
              "      <td>13</td>\n",
              "      <td>11</td>\n",
              "      <td>38</td>\n",
              "      <td>10.8</td>\n",
              "      <td>0.722304</td>\n",
              "      <td>3.381696</td>\n",
              "      <td>0.0</td>\n",
              "    </tr>\n",
              "    <tr>\n",
              "      <th>148</th>\n",
              "      <td>35</td>\n",
              "      <td>2</td>\n",
              "      <td>1</td>\n",
              "      <td>11</td>\n",
              "      <td>24</td>\n",
              "      <td>7.8</td>\n",
              "      <td>0.417456</td>\n",
              "      <td>1.454544</td>\n",
              "      <td>0.0</td>\n",
              "    </tr>\n",
              "    <tr>\n",
              "      <th>149</th>\n",
              "      <td>37</td>\n",
              "      <td>1</td>\n",
              "      <td>20</td>\n",
              "      <td>13</td>\n",
              "      <td>41</td>\n",
              "      <td>12.9</td>\n",
              "      <td>0.899130</td>\n",
              "      <td>4.389870</td>\n",
              "      <td>0.0</td>\n",
              "    </tr>\n",
              "  </tbody>\n",
              "</table>\n",
              "<p>150 rows × 9 columns</p>\n",
              "</div>\n",
              "      <button class=\"colab-df-convert\" onclick=\"convertToInteractive('df-d75cdbbd-95e5-41a2-819d-27087f5bd569')\"\n",
              "              title=\"Convert this dataframe to an interactive table.\"\n",
              "              style=\"display:none;\">\n",
              "        \n",
              "  <svg xmlns=\"http://www.w3.org/2000/svg\" height=\"24px\"viewBox=\"0 0 24 24\"\n",
              "       width=\"24px\">\n",
              "    <path d=\"M0 0h24v24H0V0z\" fill=\"none\"/>\n",
              "    <path d=\"M18.56 5.44l.94 2.06.94-2.06 2.06-.94-2.06-.94-.94-2.06-.94 2.06-2.06.94zm-11 1L8.5 8.5l.94-2.06 2.06-.94-2.06-.94L8.5 2.5l-.94 2.06-2.06.94zm10 10l.94 2.06.94-2.06 2.06-.94-2.06-.94-.94-2.06-.94 2.06-2.06.94z\"/><path d=\"M17.41 7.96l-1.37-1.37c-.4-.4-.92-.59-1.43-.59-.52 0-1.04.2-1.43.59L10.3 9.45l-7.72 7.72c-.78.78-.78 2.05 0 2.83L4 21.41c.39.39.9.59 1.41.59.51 0 1.02-.2 1.41-.59l7.78-7.78 2.81-2.81c.8-.78.8-2.07 0-2.86zM5.41 20L4 18.59l7.72-7.72 1.47 1.35L5.41 20z\"/>\n",
              "  </svg>\n",
              "      </button>\n",
              "      \n",
              "  <style>\n",
              "    .colab-df-container {\n",
              "      display:flex;\n",
              "      flex-wrap:wrap;\n",
              "      gap: 12px;\n",
              "    }\n",
              "\n",
              "    .colab-df-convert {\n",
              "      background-color: #E8F0FE;\n",
              "      border: none;\n",
              "      border-radius: 50%;\n",
              "      cursor: pointer;\n",
              "      display: none;\n",
              "      fill: #1967D2;\n",
              "      height: 32px;\n",
              "      padding: 0 0 0 0;\n",
              "      width: 32px;\n",
              "    }\n",
              "\n",
              "    .colab-df-convert:hover {\n",
              "      background-color: #E2EBFA;\n",
              "      box-shadow: 0px 1px 2px rgba(60, 64, 67, 0.3), 0px 1px 3px 1px rgba(60, 64, 67, 0.15);\n",
              "      fill: #174EA6;\n",
              "    }\n",
              "\n",
              "    [theme=dark] .colab-df-convert {\n",
              "      background-color: #3B4455;\n",
              "      fill: #D2E3FC;\n",
              "    }\n",
              "\n",
              "    [theme=dark] .colab-df-convert:hover {\n",
              "      background-color: #434B5C;\n",
              "      box-shadow: 0px 1px 3px 1px rgba(0, 0, 0, 0.15);\n",
              "      filter: drop-shadow(0px 1px 2px rgba(0, 0, 0, 0.3));\n",
              "      fill: #FFFFFF;\n",
              "    }\n",
              "  </style>\n",
              "\n",
              "      <script>\n",
              "        const buttonEl =\n",
              "          document.querySelector('#df-d75cdbbd-95e5-41a2-819d-27087f5bd569 button.colab-df-convert');\n",
              "        buttonEl.style.display =\n",
              "          google.colab.kernel.accessAllowed ? 'block' : 'none';\n",
              "\n",
              "        async function convertToInteractive(key) {\n",
              "          const element = document.querySelector('#df-d75cdbbd-95e5-41a2-819d-27087f5bd569');\n",
              "          const dataTable =\n",
              "            await google.colab.kernel.invokeFunction('convertToInteractive',\n",
              "                                                     [key], {});\n",
              "          if (!dataTable) return;\n",
              "\n",
              "          const docLinkHtml = 'Like what you see? Visit the ' +\n",
              "            '<a target=\"_blank\" href=https://colab.research.google.com/notebooks/data_table.ipynb>data table notebook</a>'\n",
              "            + ' to learn more about interactive tables.';\n",
              "          element.innerHTML = '';\n",
              "          dataTable['output_type'] = 'display_data';\n",
              "          await google.colab.output.renderOutput(dataTable, element);\n",
              "          const docLink = document.createElement('div');\n",
              "          docLink.innerHTML = docLinkHtml;\n",
              "          element.appendChild(docLink);\n",
              "        }\n",
              "      </script>\n",
              "    </div>\n",
              "  </div>\n",
              "  "
            ]
          },
          "metadata": {},
          "execution_count": 52
        }
      ]
    },
    {
      "cell_type": "code",
      "source": [
        "df_hasil_predict['prediction'].value_counts()"
      ],
      "metadata": {
        "colab": {
          "base_uri": "https://localhost:8080/"
        },
        "id": "SpHMhcroMji5",
        "outputId": "473887af-c0cf-4572-ba87-9ea2a9fc1f23"
      },
      "execution_count": null,
      "outputs": [
        {
          "output_type": "execute_result",
          "data": {
            "text/plain": [
              "0.0    127\n",
              "1.0     23\n",
              "Name: prediction, dtype: int64"
            ]
          },
          "metadata": {},
          "execution_count": 53
        }
      ]
    },
    {
      "cell_type": "markdown",
      "source": [
        "Dari hasil tersebut, maka Bank akan memutuskan ada sebanyak 127 calon yang diterima permohonan kreditnya, dan ada 23 nasabah yang ditolak permohonanannya"
      ],
      "metadata": {
        "id": "Zu-2XTvIMzxb"
      }
    },
    {
      "cell_type": "code",
      "source": [
        "#Eksport to CSV\n",
        "#Eksport as downlod if in colab\n",
        "from google.colab import files\n",
        "#Menimpan File/Export File to Local computer output CSV file\n",
        "df_hasil_predict.to_csv('df_hasil_predict.csv',sep=',')\n",
        "files.download('df_hasil_predict.csv')"
      ],
      "metadata": {
        "colab": {
          "base_uri": "https://localhost:8080/",
          "height": 17
        },
        "id": "nJhG_7teMyL_",
        "outputId": "e9371150-d0ff-49a5-98fa-86bf51181ab2"
      },
      "execution_count": null,
      "outputs": [
        {
          "output_type": "display_data",
          "data": {
            "text/plain": [
              "<IPython.core.display.Javascript object>"
            ],
            "application/javascript": [
              "\n",
              "    async function download(id, filename, size) {\n",
              "      if (!google.colab.kernel.accessAllowed) {\n",
              "        return;\n",
              "      }\n",
              "      const div = document.createElement('div');\n",
              "      const label = document.createElement('label');\n",
              "      label.textContent = `Downloading \"${filename}\": `;\n",
              "      div.appendChild(label);\n",
              "      const progress = document.createElement('progress');\n",
              "      progress.max = size;\n",
              "      div.appendChild(progress);\n",
              "      document.body.appendChild(div);\n",
              "\n",
              "      const buffers = [];\n",
              "      let downloaded = 0;\n",
              "\n",
              "      const channel = await google.colab.kernel.comms.open(id);\n",
              "      // Send a message to notify the kernel that we're ready.\n",
              "      channel.send({})\n",
              "\n",
              "      for await (const message of channel.messages) {\n",
              "        // Send a message to notify the kernel that we're ready.\n",
              "        channel.send({})\n",
              "        if (message.buffers) {\n",
              "          for (const buffer of message.buffers) {\n",
              "            buffers.push(buffer);\n",
              "            downloaded += buffer.byteLength;\n",
              "            progress.value = downloaded;\n",
              "          }\n",
              "        }\n",
              "      }\n",
              "      const blob = new Blob(buffers, {type: 'application/binary'});\n",
              "      const a = document.createElement('a');\n",
              "      a.href = window.URL.createObjectURL(blob);\n",
              "      a.download = filename;\n",
              "      div.appendChild(a);\n",
              "      a.click();\n",
              "      div.remove();\n",
              "    }\n",
              "  "
            ]
          },
          "metadata": {}
        },
        {
          "output_type": "display_data",
          "data": {
            "text/plain": [
              "<IPython.core.display.Javascript object>"
            ],
            "application/javascript": [
              "download(\"download_4d6e9e44-78f6-4582-82b9-3663406311a7\", \"df_hasil_predict.csv\", 6630)"
            ]
          },
          "metadata": {}
        }
      ]
    },
    {
      "cell_type": "markdown",
      "source": [
        "## Implemenatasi"
      ],
      "metadata": {
        "id": "iElt6abxXAm6"
      }
    },
    {
      "cell_type": "code",
      "source": [
        "df.head()"
      ],
      "metadata": {
        "colab": {
          "base_uri": "https://localhost:8080/",
          "height": 267
        },
        "id": "sI_RwuCxb7O_",
        "outputId": "c01f90cb-8889-4dc7-9508-491ce8a7d895"
      },
      "execution_count": null,
      "outputs": [
        {
          "output_type": "execute_result",
          "data": {
            "text/plain": [
              "   Unnamed: 0  age  ed  employ  address  income  debtinc   creddebt   othdebt  \\\n",
              "0           0   41   3      17       12     176      9.3  11.359392  5.008608   \n",
              "1           1   27   1      10        6      31     17.3   1.362202  4.000798   \n",
              "2           2   40   1      15       14      55      5.5   0.856075  2.168925   \n",
              "3           3   41   1      15       14     120      2.9   2.658720  0.821280   \n",
              "4           4   24   2       2        0      28     17.3   1.787436  3.056564   \n",
              "\n",
              "   default  \n",
              "0      1.0  \n",
              "1      0.0  \n",
              "2      0.0  \n",
              "3      0.0  \n",
              "4      1.0  "
            ],
            "text/html": [
              "\n",
              "  <div id=\"df-b762d8d5-9f13-4c59-881e-5f25a199884e\">\n",
              "    <div class=\"colab-df-container\">\n",
              "      <div>\n",
              "<style scoped>\n",
              "    .dataframe tbody tr th:only-of-type {\n",
              "        vertical-align: middle;\n",
              "    }\n",
              "\n",
              "    .dataframe tbody tr th {\n",
              "        vertical-align: top;\n",
              "    }\n",
              "\n",
              "    .dataframe thead th {\n",
              "        text-align: right;\n",
              "    }\n",
              "</style>\n",
              "<table border=\"1\" class=\"dataframe\">\n",
              "  <thead>\n",
              "    <tr style=\"text-align: right;\">\n",
              "      <th></th>\n",
              "      <th>Unnamed: 0</th>\n",
              "      <th>age</th>\n",
              "      <th>ed</th>\n",
              "      <th>employ</th>\n",
              "      <th>address</th>\n",
              "      <th>income</th>\n",
              "      <th>debtinc</th>\n",
              "      <th>creddebt</th>\n",
              "      <th>othdebt</th>\n",
              "      <th>default</th>\n",
              "    </tr>\n",
              "  </thead>\n",
              "  <tbody>\n",
              "    <tr>\n",
              "      <th>0</th>\n",
              "      <td>0</td>\n",
              "      <td>41</td>\n",
              "      <td>3</td>\n",
              "      <td>17</td>\n",
              "      <td>12</td>\n",
              "      <td>176</td>\n",
              "      <td>9.3</td>\n",
              "      <td>11.359392</td>\n",
              "      <td>5.008608</td>\n",
              "      <td>1.0</td>\n",
              "    </tr>\n",
              "    <tr>\n",
              "      <th>1</th>\n",
              "      <td>1</td>\n",
              "      <td>27</td>\n",
              "      <td>1</td>\n",
              "      <td>10</td>\n",
              "      <td>6</td>\n",
              "      <td>31</td>\n",
              "      <td>17.3</td>\n",
              "      <td>1.362202</td>\n",
              "      <td>4.000798</td>\n",
              "      <td>0.0</td>\n",
              "    </tr>\n",
              "    <tr>\n",
              "      <th>2</th>\n",
              "      <td>2</td>\n",
              "      <td>40</td>\n",
              "      <td>1</td>\n",
              "      <td>15</td>\n",
              "      <td>14</td>\n",
              "      <td>55</td>\n",
              "      <td>5.5</td>\n",
              "      <td>0.856075</td>\n",
              "      <td>2.168925</td>\n",
              "      <td>0.0</td>\n",
              "    </tr>\n",
              "    <tr>\n",
              "      <th>3</th>\n",
              "      <td>3</td>\n",
              "      <td>41</td>\n",
              "      <td>1</td>\n",
              "      <td>15</td>\n",
              "      <td>14</td>\n",
              "      <td>120</td>\n",
              "      <td>2.9</td>\n",
              "      <td>2.658720</td>\n",
              "      <td>0.821280</td>\n",
              "      <td>0.0</td>\n",
              "    </tr>\n",
              "    <tr>\n",
              "      <th>4</th>\n",
              "      <td>4</td>\n",
              "      <td>24</td>\n",
              "      <td>2</td>\n",
              "      <td>2</td>\n",
              "      <td>0</td>\n",
              "      <td>28</td>\n",
              "      <td>17.3</td>\n",
              "      <td>1.787436</td>\n",
              "      <td>3.056564</td>\n",
              "      <td>1.0</td>\n",
              "    </tr>\n",
              "  </tbody>\n",
              "</table>\n",
              "</div>\n",
              "      <button class=\"colab-df-convert\" onclick=\"convertToInteractive('df-b762d8d5-9f13-4c59-881e-5f25a199884e')\"\n",
              "              title=\"Convert this dataframe to an interactive table.\"\n",
              "              style=\"display:none;\">\n",
              "        \n",
              "  <svg xmlns=\"http://www.w3.org/2000/svg\" height=\"24px\"viewBox=\"0 0 24 24\"\n",
              "       width=\"24px\">\n",
              "    <path d=\"M0 0h24v24H0V0z\" fill=\"none\"/>\n",
              "    <path d=\"M18.56 5.44l.94 2.06.94-2.06 2.06-.94-2.06-.94-.94-2.06-.94 2.06-2.06.94zm-11 1L8.5 8.5l.94-2.06 2.06-.94-2.06-.94L8.5 2.5l-.94 2.06-2.06.94zm10 10l.94 2.06.94-2.06 2.06-.94-2.06-.94-.94-2.06-.94 2.06-2.06.94z\"/><path d=\"M17.41 7.96l-1.37-1.37c-.4-.4-.92-.59-1.43-.59-.52 0-1.04.2-1.43.59L10.3 9.45l-7.72 7.72c-.78.78-.78 2.05 0 2.83L4 21.41c.39.39.9.59 1.41.59.51 0 1.02-.2 1.41-.59l7.78-7.78 2.81-2.81c.8-.78.8-2.07 0-2.86zM5.41 20L4 18.59l7.72-7.72 1.47 1.35L5.41 20z\"/>\n",
              "  </svg>\n",
              "      </button>\n",
              "      \n",
              "  <style>\n",
              "    .colab-df-container {\n",
              "      display:flex;\n",
              "      flex-wrap:wrap;\n",
              "      gap: 12px;\n",
              "    }\n",
              "\n",
              "    .colab-df-convert {\n",
              "      background-color: #E8F0FE;\n",
              "      border: none;\n",
              "      border-radius: 50%;\n",
              "      cursor: pointer;\n",
              "      display: none;\n",
              "      fill: #1967D2;\n",
              "      height: 32px;\n",
              "      padding: 0 0 0 0;\n",
              "      width: 32px;\n",
              "    }\n",
              "\n",
              "    .colab-df-convert:hover {\n",
              "      background-color: #E2EBFA;\n",
              "      box-shadow: 0px 1px 2px rgba(60, 64, 67, 0.3), 0px 1px 3px 1px rgba(60, 64, 67, 0.15);\n",
              "      fill: #174EA6;\n",
              "    }\n",
              "\n",
              "    [theme=dark] .colab-df-convert {\n",
              "      background-color: #3B4455;\n",
              "      fill: #D2E3FC;\n",
              "    }\n",
              "\n",
              "    [theme=dark] .colab-df-convert:hover {\n",
              "      background-color: #434B5C;\n",
              "      box-shadow: 0px 1px 3px 1px rgba(0, 0, 0, 0.15);\n",
              "      filter: drop-shadow(0px 1px 2px rgba(0, 0, 0, 0.3));\n",
              "      fill: #FFFFFF;\n",
              "    }\n",
              "  </style>\n",
              "\n",
              "      <script>\n",
              "        const buttonEl =\n",
              "          document.querySelector('#df-b762d8d5-9f13-4c59-881e-5f25a199884e button.colab-df-convert');\n",
              "        buttonEl.style.display =\n",
              "          google.colab.kernel.accessAllowed ? 'block' : 'none';\n",
              "\n",
              "        async function convertToInteractive(key) {\n",
              "          const element = document.querySelector('#df-b762d8d5-9f13-4c59-881e-5f25a199884e');\n",
              "          const dataTable =\n",
              "            await google.colab.kernel.invokeFunction('convertToInteractive',\n",
              "                                                     [key], {});\n",
              "          if (!dataTable) return;\n",
              "\n",
              "          const docLinkHtml = 'Like what you see? Visit the ' +\n",
              "            '<a target=\"_blank\" href=https://colab.research.google.com/notebooks/data_table.ipynb>data table notebook</a>'\n",
              "            + ' to learn more about interactive tables.';\n",
              "          element.innerHTML = '';\n",
              "          dataTable['output_type'] = 'display_data';\n",
              "          await google.colab.output.renderOutput(dataTable, element);\n",
              "          const docLink = document.createElement('div');\n",
              "          docLink.innerHTML = docLinkHtml;\n",
              "          element.appendChild(docLink);\n",
              "        }\n",
              "      </script>\n",
              "    </div>\n",
              "  </div>\n",
              "  "
            ]
          },
          "metadata": {},
          "execution_count": 55
        }
      ]
    },
    {
      "cell_type": "code",
      "source": [
        "df.info()"
      ],
      "metadata": {
        "colab": {
          "base_uri": "https://localhost:8080/"
        },
        "id": "jVy1H9Z6dlHb",
        "outputId": "5f14bc80-c72a-423b-c66e-2fab545a231e"
      },
      "execution_count": null,
      "outputs": [
        {
          "output_type": "stream",
          "name": "stdout",
          "text": [
            "<class 'pandas.core.frame.DataFrame'>\n",
            "RangeIndex: 700 entries, 0 to 699\n",
            "Data columns (total 10 columns):\n",
            " #   Column      Non-Null Count  Dtype  \n",
            "---  ------      --------------  -----  \n",
            " 0   Unnamed: 0  700 non-null    int64  \n",
            " 1   age         700 non-null    int64  \n",
            " 2   ed          700 non-null    int64  \n",
            " 3   employ      700 non-null    int64  \n",
            " 4   address     700 non-null    int64  \n",
            " 5   income      700 non-null    int64  \n",
            " 6   debtinc     700 non-null    float64\n",
            " 7   creddebt    700 non-null    float64\n",
            " 8   othdebt     700 non-null    float64\n",
            " 9   default     700 non-null    float64\n",
            "dtypes: float64(4), int64(6)\n",
            "memory usage: 54.8 KB\n"
          ]
        }
      ]
    },
    {
      "cell_type": "markdown",
      "source": [
        "#Nasabah Menunjukkan bahwa persentase rasio hutang terhadap kredit yang baik dibawah 30%\n",
        "Kondisi kedua jika mau menaikkan limit kredit maka merefer nasabah yang belum pernah gagal bayar"
      ],
      "metadata": {
        "id": "VC-u2D2iFgaa"
      }
    },
    {
      "cell_type": "code",
      "source": [
        "df_1 = df[(df['creddebt'] <= 0.3) & (df['default'] == 0)]\n",
        "\n",
        "df_1.head()"
      ],
      "metadata": {
        "colab": {
          "base_uri": "https://localhost:8080/",
          "height": 267
        },
        "id": "QMtXSqZEbVYo",
        "outputId": "da42b30e-bdde-45f9-bfba-ae202a1e167f"
      },
      "execution_count": null,
      "outputs": [
        {
          "output_type": "execute_result",
          "data": {
            "text/plain": [
              "    Unnamed: 0  age  ed  employ  address  income  debtinc  creddebt   othdebt  \\\n",
              "7            7   43   1      12       11      38      3.6  0.128592  1.239408   \n",
              "10          10   27   1       0        1      16      1.7  0.182512  0.089488   \n",
              "11          11   25   1       4        0      23      5.2  0.252356  0.943644   \n",
              "19          19   41   3       0       21      26      1.7  0.099008  0.342992   \n",
              "29          29   26   3       2        1      37     14.2  0.204906  5.049094   \n",
              "\n",
              "    default  \n",
              "7       0.0  \n",
              "10      0.0  \n",
              "11      0.0  \n",
              "19      0.0  \n",
              "29      0.0  "
            ],
            "text/html": [
              "\n",
              "  <div id=\"df-38e9051c-deb5-4b79-a386-7fd6d21218b5\">\n",
              "    <div class=\"colab-df-container\">\n",
              "      <div>\n",
              "<style scoped>\n",
              "    .dataframe tbody tr th:only-of-type {\n",
              "        vertical-align: middle;\n",
              "    }\n",
              "\n",
              "    .dataframe tbody tr th {\n",
              "        vertical-align: top;\n",
              "    }\n",
              "\n",
              "    .dataframe thead th {\n",
              "        text-align: right;\n",
              "    }\n",
              "</style>\n",
              "<table border=\"1\" class=\"dataframe\">\n",
              "  <thead>\n",
              "    <tr style=\"text-align: right;\">\n",
              "      <th></th>\n",
              "      <th>Unnamed: 0</th>\n",
              "      <th>age</th>\n",
              "      <th>ed</th>\n",
              "      <th>employ</th>\n",
              "      <th>address</th>\n",
              "      <th>income</th>\n",
              "      <th>debtinc</th>\n",
              "      <th>creddebt</th>\n",
              "      <th>othdebt</th>\n",
              "      <th>default</th>\n",
              "    </tr>\n",
              "  </thead>\n",
              "  <tbody>\n",
              "    <tr>\n",
              "      <th>7</th>\n",
              "      <td>7</td>\n",
              "      <td>43</td>\n",
              "      <td>1</td>\n",
              "      <td>12</td>\n",
              "      <td>11</td>\n",
              "      <td>38</td>\n",
              "      <td>3.6</td>\n",
              "      <td>0.128592</td>\n",
              "      <td>1.239408</td>\n",
              "      <td>0.0</td>\n",
              "    </tr>\n",
              "    <tr>\n",
              "      <th>10</th>\n",
              "      <td>10</td>\n",
              "      <td>27</td>\n",
              "      <td>1</td>\n",
              "      <td>0</td>\n",
              "      <td>1</td>\n",
              "      <td>16</td>\n",
              "      <td>1.7</td>\n",
              "      <td>0.182512</td>\n",
              "      <td>0.089488</td>\n",
              "      <td>0.0</td>\n",
              "    </tr>\n",
              "    <tr>\n",
              "      <th>11</th>\n",
              "      <td>11</td>\n",
              "      <td>25</td>\n",
              "      <td>1</td>\n",
              "      <td>4</td>\n",
              "      <td>0</td>\n",
              "      <td>23</td>\n",
              "      <td>5.2</td>\n",
              "      <td>0.252356</td>\n",
              "      <td>0.943644</td>\n",
              "      <td>0.0</td>\n",
              "    </tr>\n",
              "    <tr>\n",
              "      <th>19</th>\n",
              "      <td>19</td>\n",
              "      <td>41</td>\n",
              "      <td>3</td>\n",
              "      <td>0</td>\n",
              "      <td>21</td>\n",
              "      <td>26</td>\n",
              "      <td>1.7</td>\n",
              "      <td>0.099008</td>\n",
              "      <td>0.342992</td>\n",
              "      <td>0.0</td>\n",
              "    </tr>\n",
              "    <tr>\n",
              "      <th>29</th>\n",
              "      <td>29</td>\n",
              "      <td>26</td>\n",
              "      <td>3</td>\n",
              "      <td>2</td>\n",
              "      <td>1</td>\n",
              "      <td>37</td>\n",
              "      <td>14.2</td>\n",
              "      <td>0.204906</td>\n",
              "      <td>5.049094</td>\n",
              "      <td>0.0</td>\n",
              "    </tr>\n",
              "  </tbody>\n",
              "</table>\n",
              "</div>\n",
              "      <button class=\"colab-df-convert\" onclick=\"convertToInteractive('df-38e9051c-deb5-4b79-a386-7fd6d21218b5')\"\n",
              "              title=\"Convert this dataframe to an interactive table.\"\n",
              "              style=\"display:none;\">\n",
              "        \n",
              "  <svg xmlns=\"http://www.w3.org/2000/svg\" height=\"24px\"viewBox=\"0 0 24 24\"\n",
              "       width=\"24px\">\n",
              "    <path d=\"M0 0h24v24H0V0z\" fill=\"none\"/>\n",
              "    <path d=\"M18.56 5.44l.94 2.06.94-2.06 2.06-.94-2.06-.94-.94-2.06-.94 2.06-2.06.94zm-11 1L8.5 8.5l.94-2.06 2.06-.94-2.06-.94L8.5 2.5l-.94 2.06-2.06.94zm10 10l.94 2.06.94-2.06 2.06-.94-2.06-.94-.94-2.06-.94 2.06-2.06.94z\"/><path d=\"M17.41 7.96l-1.37-1.37c-.4-.4-.92-.59-1.43-.59-.52 0-1.04.2-1.43.59L10.3 9.45l-7.72 7.72c-.78.78-.78 2.05 0 2.83L4 21.41c.39.39.9.59 1.41.59.51 0 1.02-.2 1.41-.59l7.78-7.78 2.81-2.81c.8-.78.8-2.07 0-2.86zM5.41 20L4 18.59l7.72-7.72 1.47 1.35L5.41 20z\"/>\n",
              "  </svg>\n",
              "      </button>\n",
              "      \n",
              "  <style>\n",
              "    .colab-df-container {\n",
              "      display:flex;\n",
              "      flex-wrap:wrap;\n",
              "      gap: 12px;\n",
              "    }\n",
              "\n",
              "    .colab-df-convert {\n",
              "      background-color: #E8F0FE;\n",
              "      border: none;\n",
              "      border-radius: 50%;\n",
              "      cursor: pointer;\n",
              "      display: none;\n",
              "      fill: #1967D2;\n",
              "      height: 32px;\n",
              "      padding: 0 0 0 0;\n",
              "      width: 32px;\n",
              "    }\n",
              "\n",
              "    .colab-df-convert:hover {\n",
              "      background-color: #E2EBFA;\n",
              "      box-shadow: 0px 1px 2px rgba(60, 64, 67, 0.3), 0px 1px 3px 1px rgba(60, 64, 67, 0.15);\n",
              "      fill: #174EA6;\n",
              "    }\n",
              "\n",
              "    [theme=dark] .colab-df-convert {\n",
              "      background-color: #3B4455;\n",
              "      fill: #D2E3FC;\n",
              "    }\n",
              "\n",
              "    [theme=dark] .colab-df-convert:hover {\n",
              "      background-color: #434B5C;\n",
              "      box-shadow: 0px 1px 3px 1px rgba(0, 0, 0, 0.15);\n",
              "      filter: drop-shadow(0px 1px 2px rgba(0, 0, 0, 0.3));\n",
              "      fill: #FFFFFF;\n",
              "    }\n",
              "  </style>\n",
              "\n",
              "      <script>\n",
              "        const buttonEl =\n",
              "          document.querySelector('#df-38e9051c-deb5-4b79-a386-7fd6d21218b5 button.colab-df-convert');\n",
              "        buttonEl.style.display =\n",
              "          google.colab.kernel.accessAllowed ? 'block' : 'none';\n",
              "\n",
              "        async function convertToInteractive(key) {\n",
              "          const element = document.querySelector('#df-38e9051c-deb5-4b79-a386-7fd6d21218b5');\n",
              "          const dataTable =\n",
              "            await google.colab.kernel.invokeFunction('convertToInteractive',\n",
              "                                                     [key], {});\n",
              "          if (!dataTable) return;\n",
              "\n",
              "          const docLinkHtml = 'Like what you see? Visit the ' +\n",
              "            '<a target=\"_blank\" href=https://colab.research.google.com/notebooks/data_table.ipynb>data table notebook</a>'\n",
              "            + ' to learn more about interactive tables.';\n",
              "          element.innerHTML = '';\n",
              "          dataTable['output_type'] = 'display_data';\n",
              "          await google.colab.output.renderOutput(dataTable, element);\n",
              "          const docLink = document.createElement('div');\n",
              "          docLink.innerHTML = docLinkHtml;\n",
              "          element.appendChild(docLink);\n",
              "        }\n",
              "      </script>\n",
              "    </div>\n",
              "  </div>\n",
              "  "
            ]
          },
          "metadata": {},
          "execution_count": 57
        }
      ]
    },
    {
      "cell_type": "code",
      "source": [
        "df_1.info()"
      ],
      "metadata": {
        "colab": {
          "base_uri": "https://localhost:8080/"
        },
        "id": "iw1_y-ZvcNPs",
        "outputId": "b3b9617a-0120-4c23-b4a4-0f9eaa850d2b"
      },
      "execution_count": null,
      "outputs": [
        {
          "output_type": "stream",
          "name": "stdout",
          "text": [
            "<class 'pandas.core.frame.DataFrame'>\n",
            "Int64Index: 115 entries, 7 to 693\n",
            "Data columns (total 10 columns):\n",
            " #   Column      Non-Null Count  Dtype  \n",
            "---  ------      --------------  -----  \n",
            " 0   Unnamed: 0  115 non-null    int64  \n",
            " 1   age         115 non-null    int64  \n",
            " 2   ed          115 non-null    int64  \n",
            " 3   employ      115 non-null    int64  \n",
            " 4   address     115 non-null    int64  \n",
            " 5   income      115 non-null    int64  \n",
            " 6   debtinc     115 non-null    float64\n",
            " 7   creddebt    115 non-null    float64\n",
            " 8   othdebt     115 non-null    float64\n",
            " 9   default     115 non-null    float64\n",
            "dtypes: float64(4), int64(6)\n",
            "memory usage: 9.9 KB\n"
          ]
        }
      ]
    },
    {
      "cell_type": "markdown",
      "source": [
        "dari hasil filter data, maka didapatkan ada 115 OLD Nasabah yang akan diberikan kenaikan limitasi kredit"
      ],
      "metadata": {
        "id": "kbdH-IjVci1y"
      }
    },
    {
      "cell_type": "markdown",
      "source": [
        "Pada Case estimasi ini, biasanya terkait dengan analisis korelasi kita bisa menggunakan nilai korelasi untuk melihat hubungan linearitas, sehingga memutuskan variabel yang mana akan dijadikan signifikan factor (indikator pemodelan/input variabel)\n",
        "Tetapi jika"
      ],
      "metadata": {
        "id": "aiHPKXGgcsuU"
      }
    },
    {
      "cell_type": "code",
      "source": [
        "f, ax=plt.subplots(figsize=(8,8))\n",
        "plt.title('Person Correlation')\n",
        "sns.heatmap(df.astype(float).corr(), linewidth=0.25, vmax=1.0, square=True, cmap='YlGn', linecolor='black', annot=True)"
      ],
      "metadata": {
        "colab": {
          "base_uri": "https://localhost:8080/",
          "height": 645
        },
        "id": "Rk9hIHlSIfXn",
        "outputId": "5e18cf3c-b0b5-46be-eb02-2736406486d2"
      },
      "execution_count": null,
      "outputs": [
        {
          "output_type": "execute_result",
          "data": {
            "text/plain": [
              "<Axes: title={'center': 'Person Correlation'}>"
            ]
          },
          "metadata": {},
          "execution_count": 59
        },
        {
          "output_type": "display_data",
          "data": {
            "text/plain": [
              "<Figure size 800x800 with 2 Axes>"
            ],
            "image/png": "[encoded data removed]"
          },
          "metadata": {}
        }
      ]
    },
    {
      "cell_type": "markdown",
      "source": [
        "## Hasil Analisa\n",
        "\n",
        "1. Ditemukan Multikolinearitas\n",
        "2. Variabel independen memiliki hubungan yang kuat dengan variabel independen lainnya (anatar variabel indepen memiliki hubungan yang kuat)\n",
        "3. Jika kodisi demikian, maka bisa disolusikan dengan algoritma multivariat: ANN, XGBoost\n",
        "4. Hasil korelasi menunjukkan tidak ada linearitas dalam data terkait var independen dan dependen\n"
      ],
      "metadata": {
        "id": "e03DqBPceAYf"
      }
    },
    {
      "cell_type": "markdown",
      "source": [
        "## Pemodelan data"
      ],
      "metadata": {
        "id": "s61-oeRAhEtx"
      }
    },
    {
      "cell_type": "code",
      "source": [
        "#input variabel\n",
        "x1=df_1[['age','ed','employ','address','income','creddebt','othdebt','default']]\n",
        "#target var\n",
        "y1=df_1['debtinc']"
      ],
      "metadata": {
        "id": "jgpq6zVuhCxY"
      },
      "execution_count": null,
      "outputs": []
    },
    {
      "cell_type": "code",
      "source": [
        "#Split testing & training (supervised learning)\n",
        "x1_train, x1_test, y1_train, y1_test = train_test_split(x1,y1,test_size=0.3, random_state=0)"
      ],
      "metadata": {
        "id": "-kdYE4sCh6dE"
      },
      "execution_count": null,
      "outputs": []
    },
    {
      "cell_type": "code",
      "source": [
        "from sklearn.linear_model import LinearRegression\n",
        "#Untuk evaluasi model\n",
        "from sklearn import metrics"
      ],
      "metadata": {
        "id": "x7kIgDNgjJvs"
      },
      "execution_count": null,
      "outputs": []
    },
    {
      "cell_type": "code",
      "source": [
        "ln=LinearRegression()\n",
        "\n",
        "# training model\n",
        "\n",
        "#memodelkan data menggunakan algortima linear regression\n",
        "model_ln=ln.fit(x1_train, y1_train)\n",
        "#Melakukan prediksi pada data test\n",
        "pred_ln=model_ln.predict(x1_test)"
      ],
      "metadata": {
        "id": "uom8rdbLKIsn"
      },
      "execution_count": null,
      "outputs": []
    },
    {
      "cell_type": "code",
      "source": [
        "#Nilai R2\n",
        "\n",
        "print('R Square:', metrics.r2_score(y1_test, pred_ln).round(3))"
      ],
      "metadata": {
        "colab": {
          "base_uri": "https://localhost:8080/"
        },
        "id": "tJwm6Fq2jTzj",
        "outputId": "7b8553a0-bd77-4698-bd9d-60bbfeaa02e4"
      },
      "execution_count": null,
      "outputs": [
        {
          "output_type": "stream",
          "name": "stdout",
          "text": [
            "R Square: 0.716\n"
          ]
        }
      ]
    },
    {
      "cell_type": "code",
      "source": [
        "#Membuat Script MAPE\n",
        "def mean_absolut_percentage_error(y1_true,y1_pred):\n",
        "  y1_true,y1_pred=np.array(y1_true),np.array(y1_pred)\n",
        "  return np.mean(np.abs(y1_true-y1_pred)/y1_true)*100\n",
        "\n",
        "print('MAPE:', mean_absolut_percentage_error(y1_test,pred_ln).round(3))"
      ],
      "metadata": {
        "id": "WzMmFAXajsB3",
        "colab": {
          "base_uri": "https://localhost:8080/"
        },
        "outputId": "32ae6609-47c8-4ce4-e2b0-c0421bc0b3f6"
      },
      "execution_count": null,
      "outputs": [
        {
          "output_type": "stream",
          "name": "stdout",
          "text": [
            "MAPE: 25.797\n"
          ]
        }
      ]
    },
    {
      "cell_type": "markdown",
      "source": [
        "## Pemodelan ANN"
      ],
      "metadata": {
        "id": "kgaAKHuOrK8y"
      }
    },
    {
      "cell_type": "code",
      "source": [
        "from sklearn.neural_network import MLPRegressor\n",
        "from sklearn import metrics"
      ],
      "metadata": {
        "id": "ILDqAorokoQW"
      },
      "execution_count": null,
      "outputs": []
    },
    {
      "cell_type": "code",
      "source": [
        "mlp= MLPRegressor(hidden_layer_sizes=(100,100),activation='relu',max_iter=100)\n",
        "#memodelkan data menggunakan algortima linear regression\n",
        "model_mlp=mlp.fit(x1_train, y1_train)\n",
        "#Melakukan prediksi pada data test\n",
        "pred_mlp=model_mlp.predict(x1_test)"
      ],
      "metadata": {
        "id": "-kZiLamxrW6C",
        "colab": {
          "base_uri": "https://localhost:8080/"
        },
        "outputId": "6a8312f5-9767-4c29-8cb2-115e25783058"
      },
      "execution_count": null,
      "outputs": [
        {
          "output_type": "stream",
          "name": "stderr",
          "text": [
            "/usr/local/lib/python3.10/dist-packages/sklearn/neural_network/_multilayer_perceptron.py:686: ConvergenceWarning: Stochastic Optimizer: Maximum iterations (100) reached and the optimization hasn't converged yet.\n",
            "  warnings.warn(\n"
          ]
        }
      ]
    },
    {
      "cell_type": "code",
      "source": [
        "#Nilai R2\n",
        "\n",
        "print('R Square:', metrics.r2_score(y1_test, pred_mlp).round(3))"
      ],
      "metadata": {
        "id": "8E3yZgeJrjIV",
        "colab": {
          "base_uri": "https://localhost:8080/"
        },
        "outputId": "5e11b6fe-9f3e-4cf1-beda-db763bdc7b48"
      },
      "execution_count": null,
      "outputs": [
        {
          "output_type": "stream",
          "name": "stdout",
          "text": [
            "R Square: 0.524\n"
          ]
        }
      ]
    },
    {
      "cell_type": "code",
      "source": [
        "#Membuat Script MAPE\n",
        "def mean_absolut_percentage_error(y1_true,y1_pred):\n",
        "  y1_true,y1_pred=np.array(y1_true),np.array(y1_pred)\n",
        "  return np.mean(np.abs(y1_true-y1_pred)/y1_true)*100\n",
        "\n",
        "print('MAPE:', mean_absolut_percentage_error(y1_test,pred_mlp))"
      ],
      "metadata": {
        "id": "JN2uKPXnsJQn",
        "colab": {
          "base_uri": "https://localhost:8080/"
        },
        "outputId": "e97974a1-b6c9-4917-d899-f0fce14358c8"
      },
      "execution_count": null,
      "outputs": [
        {
          "output_type": "stream",
          "name": "stdout",
          "text": [
            "MAPE: 42.75452084317675\n"
          ]
        }
      ]
    },
    {
      "cell_type": "markdown",
      "source": [
        "## Pemodelan dengan XGBoost Classifier"
      ],
      "metadata": {
        "id": "3vmpW82iLbvW"
      }
    },
    {
      "cell_type": "code",
      "source": [
        "from xgboost import XGBRegressor"
      ],
      "metadata": {
        "id": "EZJsicP1wV5O"
      },
      "execution_count": null,
      "outputs": []
    },
    {
      "cell_type": "code",
      "source": [
        "xgr= XGBRegressor(n_estimators=200, max_depth=4, random_state=0,learning_rate=0.3)\n",
        "#memodelkan data menggunakan algortima linear regression\n",
        "model_xgr=xgr.fit(x1_train, y1_train)\n",
        "#Melakukan pediksi pada data test\n",
        "pred_xgr=model_xgr.predict(x1_test)"
      ],
      "metadata": {
        "id": "bRzuF_PTwZot"
      },
      "execution_count": null,
      "outputs": []
    },
    {
      "cell_type": "code",
      "source": [
        "\n",
        "\n",
        "print('R Square:', metrics.r2_score(y1_test, pred_xgr).round(3))"
      ],
      "metadata": {
        "id": "R8FLOrTJxZsQ",
        "colab": {
          "base_uri": "https://localhost:8080/"
        },
        "outputId": "81af17f3-89c5-4834-c02e-0c2bf59f73ef"
      },
      "execution_count": null,
      "outputs": [
        {
          "output_type": "stream",
          "name": "stdout",
          "text": [
            "R Square: 0.82\n"
          ]
        }
      ]
    },
    {
      "cell_type": "code",
      "source": [
        "#Membuat Script MAPE\n",
        "def mean_absolut_percentage_error(y1_true,y1_pred):\n",
        "  y1_true,y1_pred=np.array(y1_true),np.array(y1_pred)\n",
        "  return np.mean(np.abs(y1_true-y1_pred)/y1_true)*100\n",
        "\n",
        "print('MAPE:', mean_absolut_percentage_error(y1_test,pred_xgr))"
      ],
      "metadata": {
        "id": "bE7b2ta_xo8n",
        "colab": {
          "base_uri": "https://localhost:8080/"
        },
        "outputId": "918e980a-f289-4783-e758-e7b39e1bb777"
      },
      "execution_count": null,
      "outputs": [
        {
          "output_type": "stream",
          "name": "stdout",
          "text": [
            "MAPE: 17.317448065401006\n"
          ]
        }
      ]
    },
    {
      "cell_type": "markdown",
      "source": [
        "## Implementasi"
      ],
      "metadata": {
        "id": "4wLrrRmmLx4_"
      }
    },
    {
      "cell_type": "code",
      "source": [
        "x2=df[['age','ed','employ','address','income','creddebt','othdebt','default']]"
      ],
      "metadata": {
        "id": "wbqq7SUc0Ry5"
      },
      "execution_count": null,
      "outputs": []
    },
    {
      "cell_type": "code",
      "source": [
        "prediction_xgr=model_xgr.predict(x2)\n",
        "prediction_xgr"
      ],
      "metadata": {
        "id": "6SwFBqKm0RQR",
        "colab": {
          "base_uri": "https://localhost:8080/"
        },
        "outputId": "7f41525b-91bc-481d-c883-d47f7e2bdee9"
      },
      "execution_count": null,
      "outputs": [
        {
          "output_type": "execute_result",
          "data": {
            "text/plain": [
              "array([ 9.659283  ,  8.812883  ,  6.5088983 ,  2.2315233 ,  9.827171  ,\n",
              "        9.329781  ,  9.714728  ,  3.5993629 , 12.006087  ,  6.660024  ,\n",
              "        1.6999037 ,  4.9630885 ,  6.5349    , 10.770883  ,  9.180385  ,\n",
              "        7.220538  ,  7.479186  ,  9.181802  ,  8.663825  ,  1.8565232 ,\n",
              "        1.7516032 ,  5.731762  , 10.202906  , 10.393586  , 12.121328  ,\n",
              "        7.068188  ,  7.142925  ,  9.181802  ,  9.701825  , 14.199729  ,\n",
              "        2.100195  ,  5.653909  ,  3.4522934 , 10.412135  ,  4.308285  ,\n",
              "       12.808355  ,  8.813278  ,  9.617382  , 12.409295  ,  3.9120464 ,\n",
              "        8.415542  ,  7.3518744 ,  4.0408864 ,  9.666204  ,  5.0048485 ,\n",
              "        6.345245  ,  4.0681143 , 10.859387  ,  6.5050564 ,  7.398811  ,\n",
              "       11.2968235 , 10.580069  ,  7.119236  ,  3.887378  ,  9.27917   ,\n",
              "        9.131239  ,  4.736396  ,  2.286218  ,  3.4641998 ,  9.190475  ,\n",
              "        3.2046306 ,  3.743261  ,  9.3464985 ,  7.7120595 ,  4.849654  ,\n",
              "        9.691546  ,  5.4468117 ,  3.8416054 ,  4.5720277 , 12.523361  ,\n",
              "       12.565408  , 14.234883  ,  9.181802  ,  4.8433394 ,  1.7005659 ,\n",
              "        9.188987  ,  0.6016927 ,  6.2541847 ,  2.599958  ,  1.8459653 ,\n",
              "        2.1504242 ,  9.660325  , 10.530484  ,  4.848299  ,  4.617679  ,\n",
              "        9.188104  ,  3.945386  , 13.045384  ,  2.8978376 ,  9.417045  ,\n",
              "        6.011904  ,  7.0325994 , 11.473941  ,  4.904218  , 10.9532175 ,\n",
              "        3.8154266 ,  3.9479508 ,  7.3356495 ,  4.146709  ,  4.4391723 ,\n",
              "        6.238244  ,  8.300238  ,  3.5007443 ,  7.053606  ,  9.207318  ,\n",
              "        2.3550434 ,  6.684129  , 10.21521   ,  6.8131323 ,  6.703033  ,\n",
              "        3.912509  ,  8.900797  ,  4.6390066 ,  9.694806  ,  6.661243  ,\n",
              "        4.400472  ,  6.241417  ,  3.8432636 ,  7.882633  ,  5.785958  ,\n",
              "        7.755272  ,  6.6009555 , 14.131948  ,  9.422003  ,  2.8003979 ,\n",
              "        4.1732264 , 11.564969  ,  1.4007833 ,  8.42195   ,  7.1602826 ,\n",
              "        2.575102  ,  7.592726  ,  9.391416  ,  9.207624  ,  4.71433   ,\n",
              "        2.7150712 , 12.400028  ,  2.9309082 ,  5.22218   ,  4.0613847 ,\n",
              "        6.958456  , 10.958108  ,  9.2036915 ,  7.488776  ,  6.686804  ,\n",
              "        3.8549433 , 10.879914  ,  4.0598536 ,  7.0732374 ,  8.048804  ,\n",
              "        9.1893635 ,  6.519227  , 12.026702  ,  5.140261  ,  9.596903  ,\n",
              "        9.520494  ,  4.3696527 ,  9.337753  ,  9.069146  ,  4.6167254 ,\n",
              "        4.623338  ,  8.414527  ,  5.3214154 ,  3.5594642 , 11.889367  ,\n",
              "        9.693121  ,  9.879039  ,  4.1179824 ,  1.1131234 ,  3.8545797 ,\n",
              "        6.1922965 , 11.299419  ,  4.584895  ,  7.1770444 ,  5.7445655 ,\n",
              "        5.492695  , 12.090098  ,  8.503792  ,  5.1684475 , 12.997265  ,\n",
              "        6.182213  ,  8.954465  ,  3.8207488 ,  4.9077854 , 12.896545  ,\n",
              "        4.4197717 ,  6.7244844 , 10.961889  ,  6.4444604 ,  9.665943  ,\n",
              "        9.293955  ,  7.2123294 ,  7.9251385 ,  2.3293653 ,  7.200308  ,\n",
              "        4.1756916 ,  4.985787  ,  3.4814885 ,  7.3863196 , 10.737158  ,\n",
              "        4.2115397 , 11.609886  ,  6.7276473 ,  7.9728956 ,  8.747117  ,\n",
              "        9.686444  ,  4.6667438 ,  0.9998278 ,  7.6178823 ,  1.8990346 ,\n",
              "        9.704286  ,  8.455288  ,  4.500317  ,  4.1749673 ,  7.611746  ,\n",
              "        6.242814  ,  6.5338483 ,  9.207318  ,  3.565215  ,  7.461909  ,\n",
              "        2.5377374 ,  6.530184  ,  9.182265  , 12.783914  ,  9.663184  ,\n",
              "        6.5540495 , 10.976805  ,  1.5547813 ,  5.6028023 , 10.900447  ,\n",
              "        9.705553  ,  9.479817  ,  0.6004114 ,  2.9237182 ,  0.89953005,\n",
              "        4.9871774 ,  9.500523  ,  7.2842364 ,  6.242056  , 11.579884  ,\n",
              "       12.426686  ,  4.3380685 ,  4.402353  ,  9.182265  ,  9.663058  ,\n",
              "       11.1462965 ,  1.7992275 , 10.698383  ,  9.531243  ,  9.173775  ,\n",
              "        9.181757  ,  9.675439  ,  1.8005803 ,  6.5719657 ,  6.837874  ,\n",
              "        9.612456  ,  3.8485694 , 10.331761  ,  3.3666508 ,  8.868713  ,\n",
              "        9.848369  ,  8.228685  , 10.976683  , 10.82491   ,  4.99766   ,\n",
              "        4.631886  ,  7.198144  ,  9.698609  ,  7.541275  ,  2.269575  ,\n",
              "        9.181757  ,  1.2003001 ,  8.981109  ,  9.535847  ,  7.7738643 ,\n",
              "       10.439716  ,  8.702483  ,  2.399731  ,  1.6915754 ,  4.1306567 ,\n",
              "        4.1241755 ,  9.523616  , 12.598984  ,  8.975028  ,  8.282958  ,\n",
              "        5.023641  ,  3.853356  , 12.73152   ,  3.4010875 ,  4.1668696 ,\n",
              "        4.2073298 ,  4.7093434 ,  6.7113895 ,  2.598902  ,  4.272454  ,\n",
              "        5.659566  ,  6.498378  ,  7.208016  ,  3.4341717 ,  1.7424717 ,\n",
              "        9.181802  ,  9.7837925 ,  6.835221  ,  5.711528  ,  8.368624  ,\n",
              "        1.2002325 ,  9.663532  ,  9.203489  ,  2.8228574 ,  5.379165  ,\n",
              "        9.180646  ,  6.226257  ,  7.435984  , 10.12955   ,  8.959725  ,\n",
              "       12.233051  ,  9.661363  ,  5.3019476 ,  8.123816  ,  3.9930332 ,\n",
              "        4.038156  , 12.762278  ,  0.9608298 ,  4.9093556 , 10.744428  ,\n",
              "        9.658819  ,  9.708045  ,  1.2656022 ,  8.001625  ,  9.542451  ,\n",
              "        1.1787559 ,  3.5921466 ,  1.71058   ,  6.6493526 ,  9.710548  ,\n",
              "        3.3015716 ,  9.3281555 ,  6.926491  ,  8.968448  , 10.679412  ,\n",
              "        8.181198  ,  4.863235  ,  4.109854  , 11.504945  ,  9.665898  ,\n",
              "        9.902128  ,  3.0651433 ,  7.7282267 ,  2.5997088 ,  3.9376576 ,\n",
              "        0.6994151 , 11.452235  ,  1.1998943 ,  9.271349  ,  9.708421  ,\n",
              "       11.611116  , 12.72763   ,  8.400926  ,  9.699715  ,  2.5498755 ,\n",
              "        2.3017333 ,  0.67716473, 12.530182  ,  6.6995683 ,  4.5178256 ,\n",
              "        1.1892183 ,  5.674469  ,  1.7694874 ,  7.056724  ,  3.9412801 ,\n",
              "        7.301957  ,  9.121881  ,  2.8451226 ,  9.699928  ,  3.4472673 ,\n",
              "        2.32275   ,  4.2298856 ,  2.975736  ,  6.675055  ,  2.2230718 ,\n",
              "        3.7186456 ,  9.188987  ,  8.438274  ,  3.7002494 , 10.540937  ,\n",
              "       13.019478  ,  5.096285  ,  6.552803  ,  4.9000306 ,  7.178923  ,\n",
              "        7.288821  ,  4.9709024 ,  2.5169806 , 11.027332  ,  9.609014  ,\n",
              "       10.703583  ,  8.181455  ,  3.954567  ,  4.823746  ,  4.981326  ,\n",
              "        6.6042833 ,  1.2580487 ,  7.7940264 , 10.119977  ,  7.672607  ,\n",
              "        9.178043  ,  3.5931191 ,  6.5998373 ,  4.1575694 ,  4.8007965 ,\n",
              "        3.8348079 ,  9.181802  ,  3.5297167 ,  5.190747  , 10.464777  ,\n",
              "        9.120546  ,  4.5001516 ,  4.60043   ,  9.668067  ,  9.713395  ,\n",
              "       10.58046   ,  7.3330846 ,  4.4939528 ,  4.135809  , 12.837854  ,\n",
              "        1.5987469 ,  2.3002741 ,  0.40045285,  4.47216   ,  9.665943  ,\n",
              "        9.674397  ,  3.6137638 ,  7.171088  ,  6.7548604 ,  9.19971   ,\n",
              "        3.8908513 ,  1.0998756 ,  9.182687  ,  2.980221  ,  3.5746667 ,\n",
              "        9.612456  ,  7.063952  ,  9.612011  , 11.726564  , 10.412581  ,\n",
              "        7.1298847 ,  4.243547  ,  4.6356387 ,  8.446497  ,  9.3870535 ,\n",
              "        9.180385  ,  9.4633255 ,  7.7155027 ,  4.811449  ,  9.906347  ,\n",
              "        8.234381  , 10.420103  , 11.705981  ,  7.2726154 ,  3.9620576 ,\n",
              "        4.0003858 ,  7.905066  ,  3.332846  ,  4.922711  ,  8.096455  ,\n",
              "       12.66709   ,  9.17813   ,  4.4571204 , 12.828958  ,  4.6510878 ,\n",
              "       12.749171  ,  4.8018203 ,  8.866948  ,  4.3996778 ,  3.5017307 ,\n",
              "        9.189165  , 12.061402  ,  8.919095  ,  9.181757  ,  9.173016  ,\n",
              "        4.6312156 ,  4.6166654 ,  4.3564177 ,  4.499161  , 11.580009  ,\n",
              "        4.537438  ,  5.131035  ,  9.187583  ,  5.783982  ,  0.6175321 ,\n",
              "        3.5999215 ,  9.189872  , 11.594165  ,  9.184856  , 10.260835  ,\n",
              "        4.408691  ,  7.649562  ,  9.665986  ,  9.466665  ,  9.862633  ,\n",
              "        6.288227  , 12.600259  , 11.014195  , 12.604286  , 11.479496  ,\n",
              "       14.22849   ,  7.123371  ,  4.491352  , 10.838977  ,  9.685981  ,\n",
              "       11.263659  ,  7.2260303 ,  2.9288745 ,  6.0536494 ,  7.2745357 ,\n",
              "        9.608505  ,  9.714728  ,  4.200506  ,  2.9004142 ,  1.5995343 ,\n",
              "       12.657387  ,  4.5599165 ,  4.0991096 ,  2.2632709 ,  4.317382  ,\n",
              "        4.2026973 ,  7.6550174 ,  9.291059  ,  9.1821785 , 11.857322  ,\n",
              "        8.149936  ,  4.6909876 , 12.747376  ,  8.19679   ,  4.8722916 ,\n",
              "        9.361315  ,  1.3309934 , 11.525969  ,  9.181757  ,  6.930027  ,\n",
              "        7.009409  ,  4.5696225 , 10.958023  , 12.617583  ,  4.1472735 ,\n",
              "        7.716496  ,  9.699477  , 10.435692  , 12.780016  ,  9.69527   ,\n",
              "        2.4826815 ,  6.4677935 ,  9.670869  ,  6.573     ,  5.7310557 ,\n",
              "        5.1985645 ,  2.202465  , 10.419345  ,  1.8626214 ,  6.7228007 ,\n",
              "        3.0995643 ,  3.1527982 ,  7.628013  ,  1.1053586 , 12.829957  ,\n",
              "       10.923524  ,  6.8482265 ,  4.3004475 , 12.776794  ,  9.181802  ,\n",
              "        6.375154  ,  2.2067916 ,  9.665943  ,  6.9255853 ,  4.6853747 ,\n",
              "        7.1903443 ,  2.4952126 ,  9.665898  ,  9.662207  , 12.998745  ,\n",
              "        2.694349  ,  4.702127  ,  6.2581983 ,  9.169517  ,  9.508545  ,\n",
              "        4.424376  ,  9.811892  ,  9.354973  ,  6.1902475 ,  4.512334  ,\n",
              "        2.9238706 ,  5.5284243 , 15.69977   , 12.301244  ,  4.9893875 ,\n",
              "        5.7008405 ,  9.549033  ,  5.329879  ,  5.1243906 , 13.832334  ,\n",
              "        7.754413  ,  9.658819  ,  6.8318577 ,  5.725834  , 14.216691  ,\n",
              "        9.714467  , 12.601957  ,  3.7162383 ,  4.193755  ,  4.217408  ,\n",
              "       11.177886  ,  8.278478  , 11.564135  ,  6.7079964 ,  7.6654954 ,\n",
              "        6.5138087 ,  4.563422  ,  3.1091123 ,  5.4615197 , 11.592539  ,\n",
              "        6.4314475 ,  4.866311  ,  9.1821785 ,  7.2205367 ,  3.8979545 ,\n",
              "       10.943273  ,  6.976679  ,  5.30531   , 12.084092  , 11.423421  ,\n",
              "        9.162621  ,  9.182265  ,  9.714467  ,  4.061223  ,  7.359804  ,\n",
              "        9.180385  ,  5.8109627 , 12.693197  ,  6.3011007 ,  9.880006  ,\n",
              "        4.399632  ,  3.5842621 ,  3.0914109 ,  2.3164208 ,  7.123371  ,\n",
              "        2.8100462 ,  6.8003683 ,  3.83103   ,  1.3000102 , 10.906016  ,\n",
              "        4.8339834 ,  7.207874  ,  8.500273  ,  6.9998517 , 11.144984  ,\n",
              "        3.4164968 ,  4.685382  ,  9.667739  , 12.500066  ,  9.71451   ,\n",
              "        8.910299  ,  0.5585404 ,  3.7225595 ,  4.2947693 ,  7.259828  ,\n",
              "        7.200928  ,  9.1821785 ,  0.84650415,  4.9002867 ,  9.68437   ,\n",
              "        4.5551414 ,  8.210524  ,  1.1978751 ,  6.7248907 ,  2.9292996 ,\n",
              "        9.714467  , 13.891566  ,  1.3523864 ,  7.6415696 ,  3.3856323 ,\n",
              "       14.306829  ,  7.1067753 , 10.857445  ,  6.29993   ,  9.672532  ,\n",
              "       12.654099  ,  4.510498  ,  4.424917  ,  9.665029  , 10.701354  ,\n",
              "        7.29926   ,  9.714467  , 10.311963  ,  4.69905   , 11.463307  ,\n",
              "        4.4850364 , 10.465082  ,  6.71334   ,  7.123371  ,  6.692671  ],\n",
              "      dtype=float32)"
            ]
          },
          "metadata": {},
          "execution_count": 75
        }
      ]
    },
    {
      "cell_type": "code",
      "source": [
        "df_prediction_xgr=pd.DataFrame({'Prediction':prediction_xgr}).round(2)"
      ],
      "metadata": {
        "id": "m7ILpQiW2Sdw"
      },
      "execution_count": null,
      "outputs": []
    },
    {
      "cell_type": "code",
      "source": [
        "df_pred_debtinc=pd.concat([df,df_prediction_xgr], sort=True, axis=1)"
      ],
      "metadata": {
        "id": "aypJmS_a2jkX"
      },
      "execution_count": null,
      "outputs": []
    },
    {
      "cell_type": "code",
      "source": [
        "df_approv=df_pred_debtinc[(df_pred_debtinc['creddebt']<=0.3)&(df_pred_debtinc['default']==0)]"
      ],
      "metadata": {
        "id": "JEP0Tpz23LYh"
      },
      "execution_count": null,
      "outputs": []
    },
    {
      "cell_type": "code",
      "source": [
        "df_approv"
      ],
      "metadata": {
        "id": "XNCGu3OM3sZP",
        "colab": {
          "base_uri": "https://localhost:8080/",
          "height": 505
        },
        "outputId": "037e6325-9451-4df6-e601-c31e6e0c714a"
      },
      "execution_count": null,
      "outputs": [
        {
          "output_type": "execute_result",
          "data": {
            "text/plain": [
              "     Unnamed: 0  age  ed  employ  address  income  debtinc  creddebt  \\\n",
              "7             7   43   1      12       11      38      3.6  0.128592   \n",
              "10           10   27   1       0        1      16      1.7  0.182512   \n",
              "11           11   25   1       4        0      23      5.2  0.252356   \n",
              "19           19   41   3       0       21      26      1.7  0.099008   \n",
              "29           29   26   3       2        1      37     14.2  0.204906   \n",
              "..          ...  ...  ..     ...      ...     ...      ...       ...   \n",
              "679         679   35   1      17        4      42      3.0  0.093240   \n",
              "683         683   21   1       1        1      16      6.3  0.141120   \n",
              "689         689   30   1       4        2      18     10.7  0.227268   \n",
              "690         690   24   2       0        5      16      7.3  0.024528   \n",
              "693         693   22   3       0        2      20      4.7  0.219020   \n",
              "\n",
              "      othdebt  default  Prediction  \n",
              "7    1.239408      0.0        3.60  \n",
              "10   0.089488      0.0        1.70  \n",
              "11   0.943644      0.0        4.96  \n",
              "19   0.342992      0.0        1.86  \n",
              "29   5.049094      0.0       14.20  \n",
              "..        ...      ...         ...  \n",
              "679  1.166760      0.0        3.39  \n",
              "683  0.866880      0.0        6.30  \n",
              "689  1.698732      0.0       10.70  \n",
              "690  1.143472      0.0        7.30  \n",
              "693  0.720980      0.0        4.70  \n",
              "\n",
              "[115 rows x 11 columns]"
            ],
            "text/html": [
              "\n",
              "  <div id=\"df-c79348e1-2eab-4cb8-a2c5-dec9e46e1d0d\">\n",
              "    <div class=\"colab-df-container\">\n",
              "      <div>\n",
              "<style scoped>\n",
              "    .dataframe tbody tr th:only-of-type {\n",
              "        vertical-align: middle;\n",
              "    }\n",
              "\n",
              "    .dataframe tbody tr th {\n",
              "        vertical-align: top;\n",
              "    }\n",
              "\n",
              "    .dataframe thead th {\n",
              "        text-align: right;\n",
              "    }\n",
              "</style>\n",
              "<table border=\"1\" class=\"dataframe\">\n",
              "  <thead>\n",
              "    <tr style=\"text-align: right;\">\n",
              "      <th></th>\n",
              "      <th>Unnamed: 0</th>\n",
              "      <th>age</th>\n",
              "      <th>ed</th>\n",
              "      <th>employ</th>\n",
              "      <th>address</th>\n",
              "      <th>income</th>\n",
              "      <th>debtinc</th>\n",
              "      <th>creddebt</th>\n",
              "      <th>othdebt</th>\n",
              "      <th>default</th>\n",
              "      <th>Prediction</th>\n",
              "    </tr>\n",
              "  </thead>\n",
              "  <tbody>\n",
              "    <tr>\n",
              "      <th>7</th>\n",
              "      <td>7</td>\n",
              "      <td>43</td>\n",
              "      <td>1</td>\n",
              "      <td>12</td>\n",
              "      <td>11</td>\n",
              "      <td>38</td>\n",
              "      <td>3.6</td>\n",
              "      <td>0.128592</td>\n",
              "      <td>1.239408</td>\n",
              "      <td>0.0</td>\n",
              "      <td>3.60</td>\n",
              "    </tr>\n",
              "    <tr>\n",
              "      <th>10</th>\n",
              "      <td>10</td>\n",
              "      <td>27</td>\n",
              "      <td>1</td>\n",
              "      <td>0</td>\n",
              "      <td>1</td>\n",
              "      <td>16</td>\n",
              "      <td>1.7</td>\n",
              "      <td>0.182512</td>\n",
              "      <td>0.089488</td>\n",
              "      <td>0.0</td>\n",
              "      <td>1.70</td>\n",
              "    </tr>\n",
              "    <tr>\n",
              "      <th>11</th>\n",
              "      <td>11</td>\n",
              "      <td>25</td>\n",
              "      <td>1</td>\n",
              "      <td>4</td>\n",
              "      <td>0</td>\n",
              "      <td>23</td>\n",
              "      <td>5.2</td>\n",
              "      <td>0.252356</td>\n",
              "      <td>0.943644</td>\n",
              "      <td>0.0</td>\n",
              "      <td>4.96</td>\n",
              "    </tr>\n",
              "    <tr>\n",
              "      <th>19</th>\n",
              "      <td>19</td>\n",
              "      <td>41</td>\n",
              "      <td>3</td>\n",
              "      <td>0</td>\n",
              "      <td>21</td>\n",
              "      <td>26</td>\n",
              "      <td>1.7</td>\n",
              "      <td>0.099008</td>\n",
              "      <td>0.342992</td>\n",
              "      <td>0.0</td>\n",
              "      <td>1.86</td>\n",
              "    </tr>\n",
              "    <tr>\n",
              "      <th>29</th>\n",
              "      <td>29</td>\n",
              "      <td>26</td>\n",
              "      <td>3</td>\n",
              "      <td>2</td>\n",
              "      <td>1</td>\n",
              "      <td>37</td>\n",
              "      <td>14.2</td>\n",
              "      <td>0.204906</td>\n",
              "      <td>5.049094</td>\n",
              "      <td>0.0</td>\n",
              "      <td>14.20</td>\n",
              "    </tr>\n",
              "    <tr>\n",
              "      <th>...</th>\n",
              "      <td>...</td>\n",
              "      <td>...</td>\n",
              "      <td>...</td>\n",
              "      <td>...</td>\n",
              "      <td>...</td>\n",
              "      <td>...</td>\n",
              "      <td>...</td>\n",
              "      <td>...</td>\n",
              "      <td>...</td>\n",
              "      <td>...</td>\n",
              "      <td>...</td>\n",
              "    </tr>\n",
              "    <tr>\n",
              "      <th>679</th>\n",
              "      <td>679</td>\n",
              "      <td>35</td>\n",
              "      <td>1</td>\n",
              "      <td>17</td>\n",
              "      <td>4</td>\n",
              "      <td>42</td>\n",
              "      <td>3.0</td>\n",
              "      <td>0.093240</td>\n",
              "      <td>1.166760</td>\n",
              "      <td>0.0</td>\n",
              "      <td>3.39</td>\n",
              "    </tr>\n",
              "    <tr>\n",
              "      <th>683</th>\n",
              "      <td>683</td>\n",
              "      <td>21</td>\n",
              "      <td>1</td>\n",
              "      <td>1</td>\n",
              "      <td>1</td>\n",
              "      <td>16</td>\n",
              "      <td>6.3</td>\n",
              "      <td>0.141120</td>\n",
              "      <td>0.866880</td>\n",
              "      <td>0.0</td>\n",
              "      <td>6.30</td>\n",
              "    </tr>\n",
              "    <tr>\n",
              "      <th>689</th>\n",
              "      <td>689</td>\n",
              "      <td>30</td>\n",
              "      <td>1</td>\n",
              "      <td>4</td>\n",
              "      <td>2</td>\n",
              "      <td>18</td>\n",
              "      <td>10.7</td>\n",
              "      <td>0.227268</td>\n",
              "      <td>1.698732</td>\n",
              "      <td>0.0</td>\n",
              "      <td>10.70</td>\n",
              "    </tr>\n",
              "    <tr>\n",
              "      <th>690</th>\n",
              "      <td>690</td>\n",
              "      <td>24</td>\n",
              "      <td>2</td>\n",
              "      <td>0</td>\n",
              "      <td>5</td>\n",
              "      <td>16</td>\n",
              "      <td>7.3</td>\n",
              "      <td>0.024528</td>\n",
              "      <td>1.143472</td>\n",
              "      <td>0.0</td>\n",
              "      <td>7.30</td>\n",
              "    </tr>\n",
              "    <tr>\n",
              "      <th>693</th>\n",
              "      <td>693</td>\n",
              "      <td>22</td>\n",
              "      <td>3</td>\n",
              "      <td>0</td>\n",
              "      <td>2</td>\n",
              "      <td>20</td>\n",
              "      <td>4.7</td>\n",
              "      <td>0.219020</td>\n",
              "      <td>0.720980</td>\n",
              "      <td>0.0</td>\n",
              "      <td>4.70</td>\n",
              "    </tr>\n",
              "  </tbody>\n",
              "</table>\n",
              "<p>115 rows × 11 columns</p>\n",
              "</div>\n",
              "      <button class=\"colab-df-convert\" onclick=\"convertToInteractive('df-c79348e1-2eab-4cb8-a2c5-dec9e46e1d0d')\"\n",
              "              title=\"Convert this dataframe to an interactive table.\"\n",
              "              style=\"display:none;\">\n",
              "        \n",
              "  <svg xmlns=\"http://www.w3.org/2000/svg\" height=\"24px\"viewBox=\"0 0 24 24\"\n",
              "       width=\"24px\">\n",
              "    <path d=\"M0 0h24v24H0V0z\" fill=\"none\"/>\n",
              "    <path d=\"M18.56 5.44l.94 2.06.94-2.06 2.06-.94-2.06-.94-.94-2.06-.94 2.06-2.06.94zm-11 1L8.5 8.5l.94-2.06 2.06-.94-2.06-.94L8.5 2.5l-.94 2.06-2.06.94zm10 10l.94 2.06.94-2.06 2.06-.94-2.06-.94-.94-2.06-.94 2.06-2.06.94z\"/><path d=\"M17.41 7.96l-1.37-1.37c-.4-.4-.92-.59-1.43-.59-.52 0-1.04.2-1.43.59L10.3 9.45l-7.72 7.72c-.78.78-.78 2.05 0 2.83L4 21.41c.39.39.9.59 1.41.59.51 0 1.02-.2 1.41-.59l7.78-7.78 2.81-2.81c.8-.78.8-2.07 0-2.86zM5.41 20L4 18.59l7.72-7.72 1.47 1.35L5.41 20z\"/>\n",
              "  </svg>\n",
              "      </button>\n",
              "      \n",
              "  <style>\n",
              "    .colab-df-container {\n",
              "      display:flex;\n",
              "      flex-wrap:wrap;\n",
              "      gap: 12px;\n",
              "    }\n",
              "\n",
              "    .colab-df-convert {\n",
              "      background-color: #E8F0FE;\n",
              "      border: none;\n",
              "      border-radius: 50%;\n",
              "      cursor: pointer;\n",
              "      display: none;\n",
              "      fill: #1967D2;\n",
              "      height: 32px;\n",
              "      padding: 0 0 0 0;\n",
              "      width: 32px;\n",
              "    }\n",
              "\n",
              "    .colab-df-convert:hover {\n",
              "      background-color: #E2EBFA;\n",
              "      box-shadow: 0px 1px 2px rgba(60, 64, 67, 0.3), 0px 1px 3px 1px rgba(60, 64, 67, 0.15);\n",
              "      fill: #174EA6;\n",
              "    }\n",
              "\n",
              "    [theme=dark] .colab-df-convert {\n",
              "      background-color: #3B4455;\n",
              "      fill: #D2E3FC;\n",
              "    }\n",
              "\n",
              "    [theme=dark] .colab-df-convert:hover {\n",
              "      background-color: #434B5C;\n",
              "      box-shadow: 0px 1px 3px 1px rgba(0, 0, 0, 0.15);\n",
              "      filter: drop-shadow(0px 1px 2px rgba(0, 0, 0, 0.3));\n",
              "      fill: #FFFFFF;\n",
              "    }\n",
              "  </style>\n",
              "\n",
              "      <script>\n",
              "        const buttonEl =\n",
              "          document.querySelector('#df-c79348e1-2eab-4cb8-a2c5-dec9e46e1d0d button.colab-df-convert');\n",
              "        buttonEl.style.display =\n",
              "          google.colab.kernel.accessAllowed ? 'block' : 'none';\n",
              "\n",
              "        async function convertToInteractive(key) {\n",
              "          const element = document.querySelector('#df-c79348e1-2eab-4cb8-a2c5-dec9e46e1d0d');\n",
              "          const dataTable =\n",
              "            await google.colab.kernel.invokeFunction('convertToInteractive',\n",
              "                                                     [key], {});\n",
              "          if (!dataTable) return;\n",
              "\n",
              "          const docLinkHtml = 'Like what you see? Visit the ' +\n",
              "            '<a target=\"_blank\" href=https://colab.research.google.com/notebooks/data_table.ipynb>data table notebook</a>'\n",
              "            + ' to learn more about interactive tables.';\n",
              "          element.innerHTML = '';\n",
              "          dataTable['output_type'] = 'display_data';\n",
              "          await google.colab.output.renderOutput(dataTable, element);\n",
              "          const docLink = document.createElement('div');\n",
              "          docLink.innerHTML = docLinkHtml;\n",
              "          element.appendChild(docLink);\n",
              "        }\n",
              "      </script>\n",
              "    </div>\n",
              "  </div>\n",
              "  "
            ]
          },
          "metadata": {},
          "execution_count": 79
        }
      ]
    },
    {
      "cell_type": "code",
      "source": [
        "from google.colab import files\n",
        "#Menimpan File/Export File to Local computer output CSV file\n",
        "df_approv.to_csv('df_approv.csv',sep=',')\n",
        "files.download('df_approv.csv')"
      ],
      "metadata": {
        "id": "8ZxhSh7S4zD9",
        "colab": {
          "base_uri": "https://localhost:8080/",
          "height": 17
        },
        "outputId": "e44145ea-eaa6-4837-d4fb-d126c94a3011"
      },
      "execution_count": null,
      "outputs": [
        {
          "output_type": "display_data",
          "data": {
            "text/plain": [
              "<IPython.core.display.Javascript object>"
            ],
            "application/javascript": [
              "\n",
              "    async function download(id, filename, size) {\n",
              "      if (!google.colab.kernel.accessAllowed) {\n",
              "        return;\n",
              "      }\n",
              "      const div = document.createElement('div');\n",
              "      const label = document.createElement('label');\n",
              "      label.textContent = `Downloading \"${filename}\": `;\n",
              "      div.appendChild(label);\n",
              "      const progress = document.createElement('progress');\n",
              "      progress.max = size;\n",
              "      div.appendChild(progress);\n",
              "      document.body.appendChild(div);\n",
              "\n",
              "      const buffers = [];\n",
              "      let downloaded = 0;\n",
              "\n",
              "      const channel = await google.colab.kernel.comms.open(id);\n",
              "      // Send a message to notify the kernel that we're ready.\n",
              "      channel.send({})\n",
              "\n",
              "      for await (const message of channel.messages) {\n",
              "        // Send a message to notify the kernel that we're ready.\n",
              "        channel.send({})\n",
              "        if (message.buffers) {\n",
              "          for (const buffer of message.buffers) {\n",
              "            buffers.push(buffer);\n",
              "            downloaded += buffer.byteLength;\n",
              "            progress.value = downloaded;\n",
              "          }\n",
              "        }\n",
              "      }\n",
              "      const blob = new Blob(buffers, {type: 'application/binary'});\n",
              "      const a = document.createElement('a');\n",
              "      a.href = window.URL.createObjectURL(blob);\n",
              "      a.download = filename;\n",
              "      div.appendChild(a);\n",
              "      a.click();\n",
              "      div.remove();\n",
              "    }\n",
              "  "
            ]
          },
          "metadata": {}
        },
        {
          "output_type": "display_data",
          "data": {
            "text/plain": [
              "<IPython.core.display.Javascript object>"
            ],
            "application/javascript": [
              "download(\"download_4c9d07de-9f5a-47bf-9125-76793a40479f\", \"df_approv.csv\", 6102)"
            ]
          },
          "metadata": {}
        }
      ]
    }
  ]
}