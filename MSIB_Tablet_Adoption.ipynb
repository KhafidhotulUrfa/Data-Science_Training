{
  "nbformat": 4,
  "nbformat_minor": 0,
  "metadata": {
    "colab": {
      "provenance": [],
      "authorship_tag": "ABX9TyODJJ6Kc6SpsIEQ7B1Y819m",
      "include_colab_link": true
    },
    "kernelspec": {
      "name": "python3",
      "display_name": "Python 3"
    },
    "language_info": {
      "name": "python"
    }
  },
  "cells": [
    {
      "cell_type": "markdown",
      "metadata": {
        "id": "view-in-github",
        "colab_type": "text"
      },
      "source": [
        "<a href=\"https://colab.research.google.com/github/urfa10/MSIB_Data-Science/blob/main/MSIB_Tablet_Adoption.ipynb\" target=\"_parent\"><img src=\"https://colab.research.google.com/assets/colab-badge.svg\" alt=\"Open In Colab\"/></a>"
      ]
    },
    {
      "cell_type": "markdown",
      "source": [
        "#Busines Understanding\n",
        "Richard sebagai online retailer ingin mengklasifikasi customer yang akan beli cepat, beli nanti, atau kapan-kapan. Dengan hal tersebut diharapkan dia dapat mengatur target pemasaran kepada customer yang tepat.\n",
        "\n",
        "Supervised Learning --> Klasifikasi\n",
        "\n",
        "Target variabel : tabletAdoption\n",
        "\n",
        "- Decision Tree\n",
        "- Random Forest\n",
        "- Xboost classifer\n",
        "- Logistic Regression\n",
        "- SVM\n",
        "class:\n",
        "1. Innovator\n",
        "2. Early Majority\n",
        "3. Early Adopter\n",
        "4. Late Majority\n"
      ],
      "metadata": {
        "id": "eX6cCYF6VA_z"
      }
    },
    {
      "cell_type": "code",
      "source": [
        "#library\n",
        "import pandas as pd\n",
        "import numpy as np\n",
        "import matplotlib.pyplot as plt\n",
        "import seaborn as sns"
      ],
      "metadata": {
        "id": "_PIx8RwEWA3F"
      },
      "execution_count": null,
      "outputs": []
    },
    {
      "cell_type": "code",
      "execution_count": null,
      "metadata": {
        "colab": {
          "base_uri": "https://localhost:8080/"
        },
        "id": "9xOXwMkNAYfa",
        "outputId": "53a117dd-e602-47e7-fbd9-cb6feb44c806"
      },
      "outputs": [
        {
          "output_type": "stream",
          "name": "stdout",
          "text": [
            "Mounted at /content/drive\n"
          ]
        }
      ],
      "source": [
        "#import data\n",
        "from google.colab import drive\n",
        "drive.mount('/content/drive')"
      ]
    },
    {
      "cell_type": "code",
      "source": [
        "load_tabbletadoption=pd.read_csv('/content/drive/MyDrive/Colab Notebooks/DataSource/Chapter10DataSet_Training.csv')"
      ],
      "metadata": {
        "id": "RfBhc4RfUten"
      },
      "execution_count": null,
      "outputs": []
    },
    {
      "cell_type": "code",
      "source": [
        "df=pd.DataFrame(load_tabbletadoption)\n",
        "df.head()"
      ],
      "metadata": {
        "colab": {
          "base_uri": "https://localhost:8080/",
          "height": 270
        },
        "id": "tCbMqHxzWkrx",
        "outputId": "3e5dd928-4950-4f15-8e5d-6323e3971e86"
      },
      "execution_count": null,
      "outputs": [
        {
          "output_type": "execute_result",
          "data": {
            "text/plain": [
              "   User_ID Gender  Age Marital_Status Website_Activity  \\\n",
              "0     9552      M   61              M           Seldom   \n",
              "1     6757      M   27              M          Regular   \n",
              "2     3599      F   29              M           Seldom   \n",
              "3     6811      M   49              M           Seldom   \n",
              "4     4104      M   29              S           Seldom   \n",
              "\n",
              "  Browsed_Electronics_12Mo Bought_Electronics_12Mo Bought_Digital_Media_18Mo  \\\n",
              "0                      Yes                     Yes                       Yes   \n",
              "1                      Yes                      No                       Yes   \n",
              "2                      Yes                     Yes                       Yes   \n",
              "3                      Yes                     Yes                       Yes   \n",
              "4                      Yes                     Yes                       Yes   \n",
              "\n",
              "  Bought_Digital_Books   Payment_Method Tablet_Adoption  \n",
              "0                   No    Bank Transfer   Late Majority  \n",
              "1                   No    Bank Transfer       Innovator  \n",
              "2                  Yes    Bank Transfer   Early Adopter  \n",
              "3                  Yes  Website Account   Early Adopter  \n",
              "4                   No  Website Account   Late Majority  "
            ],
            "text/html": [
              "\n",
              "  <div id=\"df-42a623bb-5443-4fcc-a5f9-b4857e19b407\">\n",
              "    <div class=\"colab-df-container\">\n",
              "      <div>\n",
              "<style scoped>\n",
              "    .dataframe tbody tr th:only-of-type {\n",
              "        vertical-align: middle;\n",
              "    }\n",
              "\n",
              "    .dataframe tbody tr th {\n",
              "        vertical-align: top;\n",
              "    }\n",
              "\n",
              "    .dataframe thead th {\n",
              "        text-align: right;\n",
              "    }\n",
              "</style>\n",
              "<table border=\"1\" class=\"dataframe\">\n",
              "  <thead>\n",
              "    <tr style=\"text-align: right;\">\n",
              "      <th></th>\n",
              "      <th>User_ID</th>\n",
              "      <th>Gender</th>\n",
              "      <th>Age</th>\n",
              "      <th>Marital_Status</th>\n",
              "      <th>Website_Activity</th>\n",
              "      <th>Browsed_Electronics_12Mo</th>\n",
              "      <th>Bought_Electronics_12Mo</th>\n",
              "      <th>Bought_Digital_Media_18Mo</th>\n",
              "      <th>Bought_Digital_Books</th>\n",
              "      <th>Payment_Method</th>\n",
              "      <th>Tablet_Adoption</th>\n",
              "    </tr>\n",
              "  </thead>\n",
              "  <tbody>\n",
              "    <tr>\n",
              "      <th>0</th>\n",
              "      <td>9552</td>\n",
              "      <td>M</td>\n",
              "      <td>61</td>\n",
              "      <td>M</td>\n",
              "      <td>Seldom</td>\n",
              "      <td>Yes</td>\n",
              "      <td>Yes</td>\n",
              "      <td>Yes</td>\n",
              "      <td>No</td>\n",
              "      <td>Bank Transfer</td>\n",
              "      <td>Late Majority</td>\n",
              "    </tr>\n",
              "    <tr>\n",
              "      <th>1</th>\n",
              "      <td>6757</td>\n",
              "      <td>M</td>\n",
              "      <td>27</td>\n",
              "      <td>M</td>\n",
              "      <td>Regular</td>\n",
              "      <td>Yes</td>\n",
              "      <td>No</td>\n",
              "      <td>Yes</td>\n",
              "      <td>No</td>\n",
              "      <td>Bank Transfer</td>\n",
              "      <td>Innovator</td>\n",
              "    </tr>\n",
              "    <tr>\n",
              "      <th>2</th>\n",
              "      <td>3599</td>\n",
              "      <td>F</td>\n",
              "      <td>29</td>\n",
              "      <td>M</td>\n",
              "      <td>Seldom</td>\n",
              "      <td>Yes</td>\n",
              "      <td>Yes</td>\n",
              "      <td>Yes</td>\n",
              "      <td>Yes</td>\n",
              "      <td>Bank Transfer</td>\n",
              "      <td>Early Adopter</td>\n",
              "    </tr>\n",
              "    <tr>\n",
              "      <th>3</th>\n",
              "      <td>6811</td>\n",
              "      <td>M</td>\n",
              "      <td>49</td>\n",
              "      <td>M</td>\n",
              "      <td>Seldom</td>\n",
              "      <td>Yes</td>\n",
              "      <td>Yes</td>\n",
              "      <td>Yes</td>\n",
              "      <td>Yes</td>\n",
              "      <td>Website Account</td>\n",
              "      <td>Early Adopter</td>\n",
              "    </tr>\n",
              "    <tr>\n",
              "      <th>4</th>\n",
              "      <td>4104</td>\n",
              "      <td>M</td>\n",
              "      <td>29</td>\n",
              "      <td>S</td>\n",
              "      <td>Seldom</td>\n",
              "      <td>Yes</td>\n",
              "      <td>Yes</td>\n",
              "      <td>Yes</td>\n",
              "      <td>No</td>\n",
              "      <td>Website Account</td>\n",
              "      <td>Late Majority</td>\n",
              "    </tr>\n",
              "  </tbody>\n",
              "</table>\n",
              "</div>\n",
              "      <button class=\"colab-df-convert\" onclick=\"convertToInteractive('df-42a623bb-5443-4fcc-a5f9-b4857e19b407')\"\n",
              "              title=\"Convert this dataframe to an interactive table.\"\n",
              "              style=\"display:none;\">\n",
              "        \n",
              "  <svg xmlns=\"http://www.w3.org/2000/svg\" height=\"24px\"viewBox=\"0 0 24 24\"\n",
              "       width=\"24px\">\n",
              "    <path d=\"M0 0h24v24H0V0z\" fill=\"none\"/>\n",
              "    <path d=\"M18.56 5.44l.94 2.06.94-2.06 2.06-.94-2.06-.94-.94-2.06-.94 2.06-2.06.94zm-11 1L8.5 8.5l.94-2.06 2.06-.94-2.06-.94L8.5 2.5l-.94 2.06-2.06.94zm10 10l.94 2.06.94-2.06 2.06-.94-2.06-.94-.94-2.06-.94 2.06-2.06.94z\"/><path d=\"M17.41 7.96l-1.37-1.37c-.4-.4-.92-.59-1.43-.59-.52 0-1.04.2-1.43.59L10.3 9.45l-7.72 7.72c-.78.78-.78 2.05 0 2.83L4 21.41c.39.39.9.59 1.41.59.51 0 1.02-.2 1.41-.59l7.78-7.78 2.81-2.81c.8-.78.8-2.07 0-2.86zM5.41 20L4 18.59l7.72-7.72 1.47 1.35L5.41 20z\"/>\n",
              "  </svg>\n",
              "      </button>\n",
              "      \n",
              "  <style>\n",
              "    .colab-df-container {\n",
              "      display:flex;\n",
              "      flex-wrap:wrap;\n",
              "      gap: 12px;\n",
              "    }\n",
              "\n",
              "    .colab-df-convert {\n",
              "      background-color: #E8F0FE;\n",
              "      border: none;\n",
              "      border-radius: 50%;\n",
              "      cursor: pointer;\n",
              "      display: none;\n",
              "      fill: #1967D2;\n",
              "      height: 32px;\n",
              "      padding: 0 0 0 0;\n",
              "      width: 32px;\n",
              "    }\n",
              "\n",
              "    .colab-df-convert:hover {\n",
              "      background-color: #E2EBFA;\n",
              "      box-shadow: 0px 1px 2px rgba(60, 64, 67, 0.3), 0px 1px 3px 1px rgba(60, 64, 67, 0.15);\n",
              "      fill: #174EA6;\n",
              "    }\n",
              "\n",
              "    [theme=dark] .colab-df-convert {\n",
              "      background-color: #3B4455;\n",
              "      fill: #D2E3FC;\n",
              "    }\n",
              "\n",
              "    [theme=dark] .colab-df-convert:hover {\n",
              "      background-color: #434B5C;\n",
              "      box-shadow: 0px 1px 3px 1px rgba(0, 0, 0, 0.15);\n",
              "      filter: drop-shadow(0px 1px 2px rgba(0, 0, 0, 0.3));\n",
              "      fill: #FFFFFF;\n",
              "    }\n",
              "  </style>\n",
              "\n",
              "      <script>\n",
              "        const buttonEl =\n",
              "          document.querySelector('#df-42a623bb-5443-4fcc-a5f9-b4857e19b407 button.colab-df-convert');\n",
              "        buttonEl.style.display =\n",
              "          google.colab.kernel.accessAllowed ? 'block' : 'none';\n",
              "\n",
              "        async function convertToInteractive(key) {\n",
              "          const element = document.querySelector('#df-42a623bb-5443-4fcc-a5f9-b4857e19b407');\n",
              "          const dataTable =\n",
              "            await google.colab.kernel.invokeFunction('convertToInteractive',\n",
              "                                                     [key], {});\n",
              "          if (!dataTable) return;\n",
              "\n",
              "          const docLinkHtml = 'Like what you see? Visit the ' +\n",
              "            '<a target=\"_blank\" href=https://colab.research.google.com/notebooks/data_table.ipynb>data table notebook</a>'\n",
              "            + ' to learn more about interactive tables.';\n",
              "          element.innerHTML = '';\n",
              "          dataTable['output_type'] = 'display_data';\n",
              "          await google.colab.output.renderOutput(dataTable, element);\n",
              "          const docLink = document.createElement('div');\n",
              "          docLink.innerHTML = docLinkHtml;\n",
              "          element.appendChild(docLink);\n",
              "        }\n",
              "      </script>\n",
              "    </div>\n",
              "  </div>\n",
              "  "
            ]
          },
          "metadata": {},
          "execution_count": 5
        }
      ]
    },
    {
      "cell_type": "code",
      "source": [
        "df.info()"
      ],
      "metadata": {
        "colab": {
          "base_uri": "https://localhost:8080/"
        },
        "id": "fE2JFBpccJGb",
        "outputId": "5d10e423-d628-45fd-cb10-6c51bf2cd90a"
      },
      "execution_count": null,
      "outputs": [
        {
          "output_type": "stream",
          "name": "stdout",
          "text": [
            "<class 'pandas.core.frame.DataFrame'>\n",
            "RangeIndex: 661 entries, 0 to 660\n",
            "Data columns (total 11 columns):\n",
            " #   Column                     Non-Null Count  Dtype \n",
            "---  ------                     --------------  ----- \n",
            " 0   User_ID                    661 non-null    int64 \n",
            " 1   Gender                     661 non-null    object\n",
            " 2   Age                        661 non-null    int64 \n",
            " 3   Marital_Status             661 non-null    object\n",
            " 4   Website_Activity           661 non-null    object\n",
            " 5   Browsed_Electronics_12Mo   661 non-null    object\n",
            " 6   Bought_Electronics_12Mo    661 non-null    object\n",
            " 7   Bought_Digital_Media_18Mo  661 non-null    object\n",
            " 8   Bought_Digital_Books       661 non-null    object\n",
            " 9   Payment_Method             661 non-null    object\n",
            " 10  Tablet_Adoption            661 non-null    object\n",
            "dtypes: int64(2), object(9)\n",
            "memory usage: 56.9+ KB\n"
          ]
        }
      ]
    },
    {
      "cell_type": "markdown",
      "source": [
        "Data tersebut banyak bertype string  sehingga pada pengolahan data akan diperlukan label encoder"
      ],
      "metadata": {
        "id": "9xr4w8Ssczix"
      }
    },
    {
      "cell_type": "code",
      "source": [
        "#Target variabel\n",
        "df['Tablet_Adoption'].value_counts()"
      ],
      "metadata": {
        "colab": {
          "base_uri": "https://localhost:8080/"
        },
        "id": "84S3iaZkdWEd",
        "outputId": "8ef33135-3ac2-484b-e1a1-01ba3274760c"
      },
      "execution_count": null,
      "outputs": [
        {
          "output_type": "execute_result",
          "data": {
            "text/plain": [
              "Early Adopter     205\n",
              "Early Majority    186\n",
              "Late Majority     172\n",
              "Innovator          98\n",
              "Name: Tablet_Adoption, dtype: int64"
            ]
          },
          "metadata": {},
          "execution_count": 7
        }
      ]
    },
    {
      "cell_type": "code",
      "source": [
        "df.isnull().sum()"
      ],
      "metadata": {
        "colab": {
          "base_uri": "https://localhost:8080/"
        },
        "id": "0Qe6UeXUectT",
        "outputId": "4e59211f-2426-45e2-a0b0-e4394e9c87df"
      },
      "execution_count": null,
      "outputs": [
        {
          "output_type": "execute_result",
          "data": {
            "text/plain": [
              "User_ID                      0\n",
              "Gender                       0\n",
              "Age                          0\n",
              "Marital_Status               0\n",
              "Website_Activity             0\n",
              "Browsed_Electronics_12Mo     0\n",
              "Bought_Electronics_12Mo      0\n",
              "Bought_Digital_Media_18Mo    0\n",
              "Bought_Digital_Books         0\n",
              "Payment_Method               0\n",
              "Tablet_Adoption              0\n",
              "dtype: int64"
            ]
          },
          "metadata": {},
          "execution_count": 8
        }
      ]
    },
    {
      "cell_type": "code",
      "source": [
        "df.isna().sum()"
      ],
      "metadata": {
        "colab": {
          "base_uri": "https://localhost:8080/"
        },
        "id": "kxToM3SXehd5",
        "outputId": "60cc661d-352e-4634-bab9-748891b4df0b"
      },
      "execution_count": null,
      "outputs": [
        {
          "output_type": "execute_result",
          "data": {
            "text/plain": [
              "User_ID                      0\n",
              "Gender                       0\n",
              "Age                          0\n",
              "Marital_Status               0\n",
              "Website_Activity             0\n",
              "Browsed_Electronics_12Mo     0\n",
              "Bought_Electronics_12Mo      0\n",
              "Bought_Digital_Media_18Mo    0\n",
              "Bought_Digital_Books         0\n",
              "Payment_Method               0\n",
              "Tablet_Adoption              0\n",
              "dtype: int64"
            ]
          },
          "metadata": {},
          "execution_count": 10
        }
      ]
    },
    {
      "cell_type": "markdown",
      "source": [
        "#Data Preparation"
      ],
      "metadata": {
        "id": "E8oEgKu2eodl"
      }
    },
    {
      "cell_type": "code",
      "source": [
        "#Label encoder\n",
        "\n",
        "from sklearn.preprocessing import LabelEncoder\n",
        "\n",
        "# membuat instance dari LabelEncoder\n",
        "label_encoder = LabelEncoder()"
      ],
      "metadata": {
        "id": "QMY4dWuVet4C"
      },
      "execution_count": null,
      "outputs": []
    },
    {
      "cell_type": "code",
      "source": [
        "df_input=pd.DataFrame({col:df[col].astype('category').cat.codes for col in df}, index=df.index)"
      ],
      "metadata": {
        "id": "4SQHAKPJfEsg"
      },
      "execution_count": null,
      "outputs": []
    },
    {
      "cell_type": "code",
      "source": [
        "df_input.head(3)"
      ],
      "metadata": {
        "colab": {
          "base_uri": "https://localhost:8080/",
          "height": 207
        },
        "id": "QLqDyFu5fksv",
        "outputId": "aa56d385-1dfa-4631-c5bd-d339b7049436"
      },
      "execution_count": null,
      "outputs": [
        {
          "output_type": "execute_result",
          "data": {
            "text/plain": [
              "   User_ID  Gender  Age  Marital_Status  Website_Activity  \\\n",
              "0      599       1   45               0                 2   \n",
              "1      388       1   11               0                 1   \n",
              "2      178       0   13               0                 2   \n",
              "\n",
              "   Browsed_Electronics_12Mo  Bought_Electronics_12Mo  \\\n",
              "0                         1                        1   \n",
              "1                         1                        0   \n",
              "2                         1                        1   \n",
              "\n",
              "   Bought_Digital_Media_18Mo  Bought_Digital_Books  Payment_Method  \\\n",
              "0                          1                     0               0   \n",
              "1                          1                     0               0   \n",
              "2                          1                     1               0   \n",
              "\n",
              "   Tablet_Adoption  \n",
              "0                3  \n",
              "1                2  \n",
              "2                0  "
            ],
            "text/html": [
              "\n",
              "  <div id=\"df-eb6cfab3-67d1-4c6e-a273-2f6701083382\">\n",
              "    <div class=\"colab-df-container\">\n",
              "      <div>\n",
              "<style scoped>\n",
              "    .dataframe tbody tr th:only-of-type {\n",
              "        vertical-align: middle;\n",
              "    }\n",
              "\n",
              "    .dataframe tbody tr th {\n",
              "        vertical-align: top;\n",
              "    }\n",
              "\n",
              "    .dataframe thead th {\n",
              "        text-align: right;\n",
              "    }\n",
              "</style>\n",
              "<table border=\"1\" class=\"dataframe\">\n",
              "  <thead>\n",
              "    <tr style=\"text-align: right;\">\n",
              "      <th></th>\n",
              "      <th>User_ID</th>\n",
              "      <th>Gender</th>\n",
              "      <th>Age</th>\n",
              "      <th>Marital_Status</th>\n",
              "      <th>Website_Activity</th>\n",
              "      <th>Browsed_Electronics_12Mo</th>\n",
              "      <th>Bought_Electronics_12Mo</th>\n",
              "      <th>Bought_Digital_Media_18Mo</th>\n",
              "      <th>Bought_Digital_Books</th>\n",
              "      <th>Payment_Method</th>\n",
              "      <th>Tablet_Adoption</th>\n",
              "    </tr>\n",
              "  </thead>\n",
              "  <tbody>\n",
              "    <tr>\n",
              "      <th>0</th>\n",
              "      <td>599</td>\n",
              "      <td>1</td>\n",
              "      <td>45</td>\n",
              "      <td>0</td>\n",
              "      <td>2</td>\n",
              "      <td>1</td>\n",
              "      <td>1</td>\n",
              "      <td>1</td>\n",
              "      <td>0</td>\n",
              "      <td>0</td>\n",
              "      <td>3</td>\n",
              "    </tr>\n",
              "    <tr>\n",
              "      <th>1</th>\n",
              "      <td>388</td>\n",
              "      <td>1</td>\n",
              "      <td>11</td>\n",
              "      <td>0</td>\n",
              "      <td>1</td>\n",
              "      <td>1</td>\n",
              "      <td>0</td>\n",
              "      <td>1</td>\n",
              "      <td>0</td>\n",
              "      <td>0</td>\n",
              "      <td>2</td>\n",
              "    </tr>\n",
              "    <tr>\n",
              "      <th>2</th>\n",
              "      <td>178</td>\n",
              "      <td>0</td>\n",
              "      <td>13</td>\n",
              "      <td>0</td>\n",
              "      <td>2</td>\n",
              "      <td>1</td>\n",
              "      <td>1</td>\n",
              "      <td>1</td>\n",
              "      <td>1</td>\n",
              "      <td>0</td>\n",
              "      <td>0</td>\n",
              "    </tr>\n",
              "  </tbody>\n",
              "</table>\n",
              "</div>\n",
              "      <button class=\"colab-df-convert\" onclick=\"convertToInteractive('df-eb6cfab3-67d1-4c6e-a273-2f6701083382')\"\n",
              "              title=\"Convert this dataframe to an interactive table.\"\n",
              "              style=\"display:none;\">\n",
              "        \n",
              "  <svg xmlns=\"http://www.w3.org/2000/svg\" height=\"24px\"viewBox=\"0 0 24 24\"\n",
              "       width=\"24px\">\n",
              "    <path d=\"M0 0h24v24H0V0z\" fill=\"none\"/>\n",
              "    <path d=\"M18.56 5.44l.94 2.06.94-2.06 2.06-.94-2.06-.94-.94-2.06-.94 2.06-2.06.94zm-11 1L8.5 8.5l.94-2.06 2.06-.94-2.06-.94L8.5 2.5l-.94 2.06-2.06.94zm10 10l.94 2.06.94-2.06 2.06-.94-2.06-.94-.94-2.06-.94 2.06-2.06.94z\"/><path d=\"M17.41 7.96l-1.37-1.37c-.4-.4-.92-.59-1.43-.59-.52 0-1.04.2-1.43.59L10.3 9.45l-7.72 7.72c-.78.78-.78 2.05 0 2.83L4 21.41c.39.39.9.59 1.41.59.51 0 1.02-.2 1.41-.59l7.78-7.78 2.81-2.81c.8-.78.8-2.07 0-2.86zM5.41 20L4 18.59l7.72-7.72 1.47 1.35L5.41 20z\"/>\n",
              "  </svg>\n",
              "      </button>\n",
              "      \n",
              "  <style>\n",
              "    .colab-df-container {\n",
              "      display:flex;\n",
              "      flex-wrap:wrap;\n",
              "      gap: 12px;\n",
              "    }\n",
              "\n",
              "    .colab-df-convert {\n",
              "      background-color: #E8F0FE;\n",
              "      border: none;\n",
              "      border-radius: 50%;\n",
              "      cursor: pointer;\n",
              "      display: none;\n",
              "      fill: #1967D2;\n",
              "      height: 32px;\n",
              "      padding: 0 0 0 0;\n",
              "      width: 32px;\n",
              "    }\n",
              "\n",
              "    .colab-df-convert:hover {\n",
              "      background-color: #E2EBFA;\n",
              "      box-shadow: 0px 1px 2px rgba(60, 64, 67, 0.3), 0px 1px 3px 1px rgba(60, 64, 67, 0.15);\n",
              "      fill: #174EA6;\n",
              "    }\n",
              "\n",
              "    [theme=dark] .colab-df-convert {\n",
              "      background-color: #3B4455;\n",
              "      fill: #D2E3FC;\n",
              "    }\n",
              "\n",
              "    [theme=dark] .colab-df-convert:hover {\n",
              "      background-color: #434B5C;\n",
              "      box-shadow: 0px 1px 3px 1px rgba(0, 0, 0, 0.15);\n",
              "      filter: drop-shadow(0px 1px 2px rgba(0, 0, 0, 0.3));\n",
              "      fill: #FFFFFF;\n",
              "    }\n",
              "  </style>\n",
              "\n",
              "      <script>\n",
              "        const buttonEl =\n",
              "          document.querySelector('#df-eb6cfab3-67d1-4c6e-a273-2f6701083382 button.colab-df-convert');\n",
              "        buttonEl.style.display =\n",
              "          google.colab.kernel.accessAllowed ? 'block' : 'none';\n",
              "\n",
              "        async function convertToInteractive(key) {\n",
              "          const element = document.querySelector('#df-eb6cfab3-67d1-4c6e-a273-2f6701083382');\n",
              "          const dataTable =\n",
              "            await google.colab.kernel.invokeFunction('convertToInteractive',\n",
              "                                                     [key], {});\n",
              "          if (!dataTable) return;\n",
              "\n",
              "          const docLinkHtml = 'Like what you see? Visit the ' +\n",
              "            '<a target=\"_blank\" href=https://colab.research.google.com/notebooks/data_table.ipynb>data table notebook</a>'\n",
              "            + ' to learn more about interactive tables.';\n",
              "          element.innerHTML = '';\n",
              "          dataTable['output_type'] = 'display_data';\n",
              "          await google.colab.output.renderOutput(dataTable, element);\n",
              "          const docLink = document.createElement('div');\n",
              "          docLink.innerHTML = docLinkHtml;\n",
              "          element.appendChild(docLink);\n",
              "        }\n",
              "      </script>\n",
              "    </div>\n",
              "  </div>\n",
              "  "
            ]
          },
          "metadata": {},
          "execution_count": 13
        }
      ]
    },
    {
      "cell_type": "code",
      "source": [
        "#Mengetahui hasil encoder dar field target\n",
        "df_input['Tablet_Adoption'].value_counts()"
      ],
      "metadata": {
        "colab": {
          "base_uri": "https://localhost:8080/"
        },
        "id": "UkAirhXHfqr4",
        "outputId": "f068aa72-5b79-4100-898b-ac32b7e8c684"
      },
      "execution_count": null,
      "outputs": [
        {
          "output_type": "execute_result",
          "data": {
            "text/plain": [
              "0    205\n",
              "1    186\n",
              "3    172\n",
              "2     98\n",
              "Name: Tablet_Adoption, dtype: int64"
            ]
          },
          "metadata": {},
          "execution_count": 14
        }
      ]
    },
    {
      "cell_type": "markdown",
      "source": [
        "0--> Early Adopter\n",
        "\n",
        "1--> Early Majority\n",
        "\n",
        "2--> Inovator\n",
        "\n",
        "3--> Lead Majority\n",
        "\n"
      ],
      "metadata": {
        "id": "FngRRueagLz6"
      }
    },
    {
      "cell_type": "code",
      "source": [
        "#Pemodelan data\n",
        "from sklearn.model_selection import train_test_split # Import train_tes_split function\n",
        "from sklearn import metrics #Import scikit-learn metrics module for accuracy calculation"
      ],
      "metadata": {
        "id": "Uiu0Py3Yglxr"
      },
      "execution_count": null,
      "outputs": []
    },
    {
      "cell_type": "code",
      "source": [
        "# Input Varibael\n",
        "x= df_input[['Gender','Age','Marital_Status','Website_Activity',\t'Browsed_Electronics_12Mo',\t'Bought_Electronics_12Mo'\t,'Bought_Digital_Media_18Mo',\t'Bought_Digital_Books',\t'Payment_Method']]\n",
        "#Target Variabel\n",
        "y =df_input['Tablet_Adoption'].astype('category')"
      ],
      "metadata": {
        "id": "F1pAt57lha3Y"
      },
      "execution_count": null,
      "outputs": []
    },
    {
      "cell_type": "code",
      "source": [
        "#Spliting training dan testing, 70% training dan 30% tseting\n",
        "\n",
        "x_train,x_test,y_train,y_test=train_test_split(x,y, test_size=0.3, random_state=0)"
      ],
      "metadata": {
        "id": "RdhDkJrPidK5"
      },
      "execution_count": null,
      "outputs": []
    },
    {
      "cell_type": "markdown",
      "source": [
        "##Decision Tree"
      ],
      "metadata": {
        "id": "kXJsipgykT3H"
      }
    },
    {
      "cell_type": "code",
      "source": [
        "#Evaluation Model\n",
        "from sklearn.metrics import accuracy_score\n",
        "from sklearn.metrics import classification_report\n",
        "from sklearn.metrics import precision_score, recall_score\n",
        "from sklearn.metrics import confusion_matrix"
      ],
      "metadata": {
        "id": "PFVIhsVvkm4l"
      },
      "execution_count": null,
      "outputs": []
    },
    {
      "cell_type": "code",
      "source": [
        "from sklearn.tree import DecisionTreeClassifier"
      ],
      "metadata": {
        "id": "jfeYu7vgkhnL"
      },
      "execution_count": null,
      "outputs": []
    },
    {
      "cell_type": "code",
      "source": [
        "#membuat object algoritma decision tree klasifikasi\n",
        "tree= DecisionTreeClassifier(criterion='gini', splitter='best', max_depth=6)\n",
        "#memodelkan data menggunakan algortima decision tree\n",
        "model_tree=tree.fit(x_train, y_train)\n",
        "#Melakukan prediksi pada data test\n",
        "pred_Tree=model_tree.predict(x_test)"
      ],
      "metadata": {
        "id": "Df9gLpvikKwo"
      },
      "execution_count": null,
      "outputs": []
    },
    {
      "cell_type": "markdown",
      "source": [
        "gini meningkatkan rasion\n"
      ],
      "metadata": {
        "id": "LGpVodDUmz0Q"
      }
    },
    {
      "cell_type": "markdown",
      "source": [
        "##Evaluasi Model Decison Tree"
      ],
      "metadata": {
        "id": "-sGzKyy-k1IQ"
      }
    },
    {
      "cell_type": "code",
      "source": [
        "print(classification_report(y_test, pred_Tree))"
      ],
      "metadata": {
        "colab": {
          "base_uri": "https://localhost:8080/"
        },
        "id": "Hxg24Y1bk4Na",
        "outputId": "042ada94-b250-4e32-da43-cbe7e6406507"
      },
      "execution_count": null,
      "outputs": [
        {
          "output_type": "stream",
          "name": "stdout",
          "text": [
            "              precision    recall  f1-score   support\n",
            "\n",
            "           0       0.51      0.65      0.57        66\n",
            "           1       0.70      0.33      0.45        57\n",
            "           2       0.44      0.48      0.46        29\n",
            "           3       0.69      0.81      0.75        47\n",
            "\n",
            "    accuracy                           0.57       199\n",
            "   macro avg       0.58      0.57      0.56       199\n",
            "weighted avg       0.60      0.57      0.56       199\n",
            "\n"
          ]
        }
      ]
    },
    {
      "cell_type": "markdown",
      "source": [
        "Terdapat Under fitting dan Over fitting"
      ],
      "metadata": {
        "id": "o422APx_lxss"
      }
    },
    {
      "cell_type": "code",
      "source": [
        "# Visualize the confusion matrix of Decision Tree\n",
        "mat = confusion_matrix (y_test, pred_Tree)\n",
        "sns.heatmap(mat.T, square = True, annot = True, fmt = 'd', cbar= False)\n",
        "plt.xlabel('true label')\n",
        "plt.ylabel('predicted label')"
      ],
      "metadata": {
        "colab": {
          "base_uri": "https://localhost:8080/",
          "height": 466
        },
        "id": "V0KfP3XYlLu3",
        "outputId": "7112608d-52d0-46f6-edad-83bc1ce85e93"
      },
      "execution_count": null,
      "outputs": [
        {
          "output_type": "execute_result",
          "data": {
            "text/plain": [
              "Text(113.9222222222222, 0.5, 'predicted label')"
            ]
          },
          "metadata": {},
          "execution_count": 30
        },
        {
          "output_type": "display_data",
          "data": {
            "text/plain": [
              "<Figure size 640x480 with 1 Axes>"
            ],
            "image/png": "[encoded data removed]"
          },
          "metadata": {}
        }
      ]
    },
    {
      "cell_type": "code",
      "source": [
        "#signifikan factor dari model tersebut yang menggambarkan nasabah gagal bayar/tidak\n",
        "feat_importances = pd.Series(model_tree.feature_importances_, index=x.columns)\n",
        "feat_importances.nlargest(10).plot(kind='barh')"
      ],
      "metadata": {
        "colab": {
          "base_uri": "https://localhost:8080/",
          "height": 404
        },
        "id": "PY98kKWZnQbm",
        "outputId": "d0245281-ab67-4b2d-c2fb-ba07f3a36ea1"
      },
      "execution_count": null,
      "outputs": [
        {
          "output_type": "execute_result",
          "data": {
            "text/plain": [
              "<Axes: >"
            ]
          },
          "metadata": {},
          "execution_count": 31
        },
        {
          "output_type": "display_data",
          "data": {
            "text/plain": [
              "<Figure size 640x480 with 1 Axes>"
            ],
            "image/png": "[encoded data removed]"
          },
          "metadata": {}
        }
      ]
    },
    {
      "cell_type": "markdown",
      "source": [
        "## K flod validation\n",
        "\n",
        "K-Fload cross validation untuk menilai kinerja proses sebuah metode algoritma dengan membagi sampel data secara dan mengelompokkan data tersebut sebanyak nilai K-fload"
      ],
      "metadata": {
        "id": "87M_3BQwnouC"
      }
    },
    {
      "cell_type": "code",
      "source": [
        "from sklearn.model_selection import cross_validate\n",
        "from sklearn.metrics import recall_score\n",
        "\n",
        "from sklearn.model_selection import cross_val_score"
      ],
      "metadata": {
        "id": "f6uxq27ins9s"
      },
      "execution_count": null,
      "outputs": []
    },
    {
      "cell_type": "code",
      "source": [
        "scores= cross_val_score(model_tree, x, y, cv=10, scoring='f1_macro')"
      ],
      "metadata": {
        "id": "8yVZLj7XpARO"
      },
      "execution_count": null,
      "outputs": []
    },
    {
      "cell_type": "code",
      "source": [
        "scores"
      ],
      "metadata": {
        "colab": {
          "base_uri": "https://localhost:8080/"
        },
        "id": "JB6C3q4Tpjik",
        "outputId": "96ffba46-cb88-4990-a367-42f9dd4dae5d"
      },
      "execution_count": null,
      "outputs": [
        {
          "output_type": "execute_result",
          "data": {
            "text/plain": [
              "array([0.63668886, 0.68782051, 0.53085568, 0.60467775, 0.66891815,\n",
              "       0.5323214 , 0.68611857, 0.60203036, 0.31814127, 0.23830011])"
            ]
          },
          "metadata": {},
          "execution_count": 39
        }
      ]
    },
    {
      "cell_type": "code",
      "source": [
        "print(\"%0.2f accuracy with a standard deviation of %0.2f\" % (scores.mean(), scores.std()))"
      ],
      "metadata": {
        "colab": {
          "base_uri": "https://localhost:8080/"
        },
        "id": "1t4VwTTXpvQA",
        "outputId": "ec21ac00-00dc-4d6c-e625-d3567f925897"
      },
      "execution_count": null,
      "outputs": [
        {
          "output_type": "stream",
          "name": "stdout",
          "text": [
            "0.55 accuracy with a standard deviation of 0.15\n"
          ]
        }
      ]
    },
    {
      "cell_type": "markdown",
      "source": [
        "## Rndom Forrest"
      ],
      "metadata": {
        "id": "rpT9UaWPrj5V"
      }
    },
    {
      "cell_type": "code",
      "source": [
        "from sklearn.ensemble import RandomForestClassifier\n",
        "from sklearn.preprocessing import LabelEncoder\n",
        "from sklearn.preprocessing import StandardScaler"
      ],
      "metadata": {
        "id": "kYgsGeCyp0ZQ"
      },
      "execution_count": null,
      "outputs": []
    },
    {
      "cell_type": "code",
      "source": [
        "#membuat object algoritma decision tree klasifikasi\n",
        "clf_rf = RandomForestClassifier(n_estimators=200,max_depth=6)\n",
        "#memodelkan data menggunakan algortima decision tree\n",
        "model_rf=clf_rf.fit(x_train, y_train)\n",
        "#Melakukan prediksi pada data test\n",
        "pred_rf=model_rf.predict(x_test)"
      ],
      "metadata": {
        "id": "6Yn2nnK8ryTb"
      },
      "execution_count": null,
      "outputs": []
    },
    {
      "cell_type": "code",
      "source": [
        "print(classification_report(y_test, pred_rf))"
      ],
      "metadata": {
        "colab": {
          "base_uri": "https://localhost:8080/"
        },
        "id": "n_jcoY1br3gG",
        "outputId": "09a548f5-0360-47b5-dddc-25aea2601be7"
      },
      "execution_count": null,
      "outputs": [
        {
          "output_type": "stream",
          "name": "stdout",
          "text": [
            "              precision    recall  f1-score   support\n",
            "\n",
            "           0       0.57      0.62      0.59        66\n",
            "           1       0.74      0.46      0.57        57\n",
            "           2       0.44      0.59      0.50        29\n",
            "           3       0.70      0.79      0.74        47\n",
            "\n",
            "    accuracy                           0.61       199\n",
            "   macro avg       0.61      0.61      0.60       199\n",
            "weighted avg       0.63      0.61      0.61       199\n",
            "\n"
          ]
        }
      ]
    },
    {
      "cell_type": "code",
      "source": [
        "# Visualize the confusion matrix of Random Forest\n",
        "mat = confusion_matrix (y_test, pred_rf)\n",
        "sns.heatmap(mat.T, square = True, annot = True, fmt = 'd', cbar= False)\n",
        "plt.xlabel('true label')\n",
        "plt.ylabel('predicted label')"
      ],
      "metadata": {
        "colab": {
          "base_uri": "https://localhost:8080/",
          "height": 466
        },
        "id": "akXeE2aBr-3Y",
        "outputId": "9b8cef8d-d8ce-457c-9c6f-5e85fbb4441f"
      },
      "execution_count": null,
      "outputs": [
        {
          "output_type": "execute_result",
          "data": {
            "text/plain": [
              "Text(113.9222222222222, 0.5, 'predicted label')"
            ]
          },
          "metadata": {},
          "execution_count": 57
        },
        {
          "output_type": "display_data",
          "data": {
            "text/plain": [
              "<Figure size 640x480 with 1 Axes>"
            ],
            "image/png": "[encoded data removed]"
          },
          "metadata": {}
        }
      ]
    },
    {
      "cell_type": "code",
      "source": [
        "#signifikan factor dari model tersebut yang menggambarkan nasabah gagal bayar/tidak\n",
        "feat_importances = pd.Series(model_rf.feature_importances_, index=x.columns)\n",
        "feat_importances.nlargest(10).plot(kind='barh')"
      ],
      "metadata": {
        "colab": {
          "base_uri": "https://localhost:8080/",
          "height": 404
        },
        "id": "YZlIe1bHsKy-",
        "outputId": "3c3cf0b9-2da3-4582-c27f-408a7d6edc57"
      },
      "execution_count": null,
      "outputs": [
        {
          "output_type": "execute_result",
          "data": {
            "text/plain": [
              "<Axes: >"
            ]
          },
          "metadata": {},
          "execution_count": 58
        },
        {
          "output_type": "display_data",
          "data": {
            "text/plain": [
              "<Figure size 640x480 with 1 Axes>"
            ],
            "image/png": "[encoded data removed]"
          },
          "metadata": {}
        }
      ]
    },
    {
      "cell_type": "code",
      "source": [
        "scores= cross_val_score(model_rf, x, y, cv=15, scoring='f1_macro')\n",
        "scores"
      ],
      "metadata": {
        "colab": {
          "base_uri": "https://localhost:8080/"
        },
        "id": "HRBge1LrthcV",
        "outputId": "18007588-a4d0-4200-ab3b-24ae85630484"
      },
      "execution_count": null,
      "outputs": [
        {
          "output_type": "execute_result",
          "data": {
            "text/plain": [
              "array([0.72440171, 0.6232048 , 0.61418269, 0.71560847, 0.64071207,\n",
              "       0.62222222, 0.57170619, 0.7543992 , 0.56223545, 0.59368687,\n",
              "       0.77218615, 0.69039589, 0.43452381, 0.21106732, 0.1760082 ])"
            ]
          },
          "metadata": {},
          "execution_count": 66
        }
      ]
    },
    {
      "cell_type": "code",
      "source": [
        "print(\"%0.2f accuracy with a standard deviation of %0.2f\" % (scores.mean(), scores.std()))"
      ],
      "metadata": {
        "colab": {
          "base_uri": "https://localhost:8080/"
        },
        "id": "M9SU4qzptmVe",
        "outputId": "8191bfe8-c793-42ac-a7f2-d096598629db"
      },
      "execution_count": null,
      "outputs": [
        {
          "output_type": "stream",
          "name": "stdout",
          "text": [
            "0.58 accuracy with a standard deviation of 0.17\n"
          ]
        }
      ]
    },
    {
      "cell_type": "markdown",
      "source": [
        "## XGBOOST"
      ],
      "metadata": {
        "id": "cOTBZ-8Qsm5K"
      }
    },
    {
      "cell_type": "code",
      "source": [
        "from xgboost import XGBClassifier"
      ],
      "metadata": {
        "id": "ulgssfaHsOvv"
      },
      "execution_count": null,
      "outputs": []
    },
    {
      "cell_type": "code",
      "source": [
        "#membuat object algoritma XGBOOST klasifikasi\n",
        "clf_xg = XGBClassifier(n_estimators=200,max_depth=6)\n",
        "#memodelkan data menggunakan algortima decision tree\n",
        "model_xg=clf_xg.fit(x_train, y_train)\n",
        "#Melakukan prediksi pada data test\n",
        "pred_xg=model_xg.predict(x_test)"
      ],
      "metadata": {
        "id": "1cRQn0oMsSo2"
      },
      "execution_count": null,
      "outputs": []
    },
    {
      "cell_type": "code",
      "source": [
        "print(classification_report(y_test, pred_xg))"
      ],
      "metadata": {
        "colab": {
          "base_uri": "https://localhost:8080/"
        },
        "id": "9P9GaFhusWOW",
        "outputId": "7683366c-29cf-48b9-9329-26a6596a5388"
      },
      "execution_count": null,
      "outputs": [
        {
          "output_type": "stream",
          "name": "stdout",
          "text": [
            "              precision    recall  f1-score   support\n",
            "\n",
            "           0       0.55      0.48      0.52        66\n",
            "           1       0.56      0.51      0.53        57\n",
            "           2       0.43      0.55      0.48        29\n",
            "           3       0.58      0.64      0.61        47\n",
            "\n",
            "    accuracy                           0.54       199\n",
            "   macro avg       0.53      0.55      0.53       199\n",
            "weighted avg       0.54      0.54      0.54       199\n",
            "\n"
          ]
        }
      ]
    },
    {
      "cell_type": "code",
      "source": [
        "# Visualize the confusion matrix of Random Forest\n",
        "mat = confusion_matrix (y_test, pred_xg)\n",
        "sns.heatmap(mat.T, square = True, annot = True, fmt = 'd', cbar= False)\n",
        "plt.xlabel('true label')\n",
        "plt.ylabel('predicted label')"
      ],
      "metadata": {
        "colab": {
          "base_uri": "https://localhost:8080/",
          "height": 466
        },
        "id": "Bw5_cs-4zxXN",
        "outputId": "acd937af-d0b9-40d9-8db7-cf4cd8abefc9"
      },
      "execution_count": null,
      "outputs": [
        {
          "output_type": "execute_result",
          "data": {
            "text/plain": [
              "Text(113.9222222222222, 0.5, 'predicted label')"
            ]
          },
          "metadata": {},
          "execution_count": 72
        },
        {
          "output_type": "display_data",
          "data": {
            "text/plain": [
              "<Figure size 640x480 with 1 Axes>"
            ],
            "image/png": "[encoded data removed]"
          },
          "metadata": {}
        }
      ]
    },
    {
      "cell_type": "code",
      "source": [
        "feat_importances = pd.Series(model_xg.feature_importances_, index=x.columns)\n",
        "feat_importances.nlargest(10).plot(kind='barh')"
      ],
      "metadata": {
        "colab": {
          "base_uri": "https://localhost:8080/",
          "height": 404
        },
        "id": "MEKG4GA9s1sQ",
        "outputId": "f8f17ea7-1d53-4ca6-dfe8-bbee01573ef4"
      },
      "execution_count": null,
      "outputs": [
        {
          "output_type": "execute_result",
          "data": {
            "text/plain": [
              "<Axes: >"
            ]
          },
          "metadata": {},
          "execution_count": 73
        },
        {
          "output_type": "display_data",
          "data": {
            "text/plain": [
              "<Figure size 640x480 with 1 Axes>"
            ],
            "image/png": "[encoded data removed]"
          },
          "metadata": {}
        }
      ]
    },
    {
      "cell_type": "code",
      "source": [
        "scores= cross_val_score(model_xg, x, y, cv=10, scoring='f1_macro')\n",
        "scores"
      ],
      "metadata": {
        "colab": {
          "base_uri": "https://localhost:8080/"
        },
        "id": "J-TtMewQuHJc",
        "outputId": "1dc6e982-1882-4949-d5f9-37616354cc27"
      },
      "execution_count": null,
      "outputs": [
        {
          "output_type": "execute_result",
          "data": {
            "text/plain": [
              "array([0.65180137, 0.71180556, 0.42271959, 0.24562226, 0.52248268,\n",
              "       0.65309529, 0.75514866, 0.73449612, 0.29182331, 0.20108696])"
            ]
          },
          "metadata": {},
          "execution_count": 76
        }
      ]
    },
    {
      "cell_type": "code",
      "source": [
        "print(\"%0.2f accuracy with a standard deviation of %0.2f\" % (scores.mean(), scores.std()))"
      ],
      "metadata": {
        "colab": {
          "base_uri": "https://localhost:8080/"
        },
        "id": "1YlpeRI-uJwb",
        "outputId": "69bf7057-7f96-4eb7-bb04-2f592c60911b"
      },
      "execution_count": null,
      "outputs": [
        {
          "output_type": "stream",
          "name": "stdout",
          "text": [
            "0.52 accuracy with a standard deviation of 0.20\n"
          ]
        }
      ]
    },
    {
      "cell_type": "code",
      "source": [
        "from sklearn.linear_model import LogisticRegression"
      ],
      "metadata": {
        "id": "W0H3cmytukVe"
      },
      "execution_count": null,
      "outputs": []
    },
    {
      "cell_type": "code",
      "source": [
        "#membuat object algoritma Logistik Regression\n",
        "clf_lg=LogisticRegression()\n",
        "#memodelkan data menggunakan algortima Logistik Regression\n",
        "model_lg=clf_lg.fit(x_train, y_train)\n",
        "#Melakukan prediksi pada data test\n",
        "pred_lg=model_lg.predict(x_test)"
      ],
      "metadata": {
        "colab": {
          "base_uri": "https://localhost:8080/"
        },
        "id": "una2eOucupyH",
        "outputId": "74531900-6164-4617-eac5-6aca5f58498b"
      },
      "execution_count": null,
      "outputs": [
        {
          "output_type": "stream",
          "name": "stderr",
          "text": [
            "/usr/local/lib/python3.10/dist-packages/sklearn/linear_model/_logistic.py:458: ConvergenceWarning: lbfgs failed to converge (status=1):\n",
            "STOP: TOTAL NO. of ITERATIONS REACHED LIMIT.\n",
            "\n",
            "Increase the number of iterations (max_iter) or scale the data as shown in:\n",
            "    https://scikit-learn.org/stable/modules/preprocessing.html\n",
            "Please also refer to the documentation for alternative solver options:\n",
            "    https://scikit-learn.org/stable/modules/linear_model.html#logistic-regression\n",
            "  n_iter_i = _check_optimize_result(\n"
          ]
        }
      ]
    },
    {
      "cell_type": "code",
      "source": [
        "print(classification_report(y_test, pred_lg))"
      ],
      "metadata": {
        "colab": {
          "base_uri": "https://localhost:8080/"
        },
        "id": "OgoB_6Nau0X3",
        "outputId": "17406d9b-dc56-41e4-a4f4-9fa33c870a87"
      },
      "execution_count": null,
      "outputs": [
        {
          "output_type": "stream",
          "name": "stdout",
          "text": [
            "              precision    recall  f1-score   support\n",
            "\n",
            "           0       0.52      0.61      0.56        66\n",
            "           1       0.55      0.30      0.39        57\n",
            "           2       0.43      0.45      0.44        29\n",
            "           3       0.62      0.81      0.70        47\n",
            "\n",
            "    accuracy                           0.54       199\n",
            "   macro avg       0.53      0.54      0.52       199\n",
            "weighted avg       0.54      0.54      0.53       199\n",
            "\n"
          ]
        }
      ]
    },
    {
      "cell_type": "code",
      "source": [
        "mat = confusion_matrix (y_test, pred_lg)\n",
        "sns.heatmap(mat.T, square = True, annot = True, fmt = 'd', cbar= False)\n",
        "plt.xlabel('true label')\n",
        "plt.ylabel('predicted label')"
      ],
      "metadata": {
        "colab": {
          "base_uri": "https://localhost:8080/",
          "height": 466
        },
        "id": "inxoRAlcu7Qf",
        "outputId": "d27b7935-a123-4041-bf9f-2f06f8f09fd7"
      },
      "execution_count": null,
      "outputs": [
        {
          "output_type": "execute_result",
          "data": {
            "text/plain": [
              "Text(113.9222222222222, 0.5, 'predicted label')"
            ]
          },
          "metadata": {},
          "execution_count": 83
        },
        {
          "output_type": "display_data",
          "data": {
            "text/plain": [
              "<Figure size 640x480 with 1 Axes>"
            ],
            "image/png": "[encoded data removed]"
          },
          "metadata": {}
        }
      ]
    },
    {
      "cell_type": "code",
      "source": [
        "# import SVM\n",
        "from sklearn.svm import SVC"
      ],
      "metadata": {
        "id": "O2DXHHyYvHZH"
      },
      "execution_count": null,
      "outputs": []
    },
    {
      "cell_type": "code",
      "source": [
        "#membuat object algoritma Logistik SVM\n",
        "clf_svm=SVC(kernel='linear', random_state=0)\n",
        "#memodelkan data menggunakan algortima SVM\n",
        "model_svm=clf_svm.fit(x_train, y_train)\n",
        "#Melakukan prediksi pada data test\n",
        "pred_svm=model_svm.predict(x_test)"
      ],
      "metadata": {
        "id": "Y2yYjq0tvQAW"
      },
      "execution_count": null,
      "outputs": []
    },
    {
      "cell_type": "code",
      "source": [
        "print(classification_report(y_test, pred_svm))"
      ],
      "metadata": {
        "colab": {
          "base_uri": "https://localhost:8080/"
        },
        "id": "Ljmdb7oavTvv",
        "outputId": "5bc3cabd-6a0a-4a53-c312-beedc25b25fa"
      },
      "execution_count": null,
      "outputs": [
        {
          "output_type": "stream",
          "name": "stdout",
          "text": [
            "              precision    recall  f1-score   support\n",
            "\n",
            "           0       0.61      0.58      0.59        66\n",
            "           1       0.66      0.54      0.60        57\n",
            "           2       0.44      0.62      0.51        29\n",
            "           3       0.71      0.74      0.73        47\n",
            "\n",
            "    accuracy                           0.61       199\n",
            "   macro avg       0.61      0.62      0.61       199\n",
            "weighted avg       0.62      0.61      0.61       199\n",
            "\n"
          ]
        }
      ]
    },
    {
      "cell_type": "code",
      "source": [
        "# Visualize the confusion matrix of svm\n",
        "mat = confusion_matrix (y_test, pred_svm)\n",
        "sns.heatmap(mat.T, square = True, annot = True, fmt = 'd', cbar= False)\n",
        "plt.xlabel('true label')\n",
        "plt.ylabel('predicted label')"
      ],
      "metadata": {
        "id": "ZvBQsul2vZmZ",
        "outputId": "cc1aee39-017e-4922-b62d-ad1706dde3a2",
        "colab": {
          "base_uri": "https://localhost:8080/",
          "height": 466
        }
      },
      "execution_count": null,
      "outputs": [
        {
          "output_type": "execute_result",
          "data": {
            "text/plain": [
              "Text(113.9222222222222, 0.5, 'predicted label')"
            ]
          },
          "metadata": {},
          "execution_count": 87
        },
        {
          "output_type": "display_data",
          "data": {
            "text/plain": [
              "<Figure size 640x480 with 1 Axes>"
            ],
            "image/png": "[encoded data removed]"
          },
          "metadata": {}
        }
      ]
    }
  ]
}